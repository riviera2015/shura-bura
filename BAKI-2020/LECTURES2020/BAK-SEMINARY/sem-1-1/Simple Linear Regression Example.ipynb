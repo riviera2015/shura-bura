{
 "cells": [
  {
   "cell_type": "markdown",
   "metadata": {},
   "source": [
    "This example is a demonstration of Linear Regression Implementation  in Sklearn, a python machine learning library"
   ]
  },
  {
   "cell_type": "markdown",
   "metadata": {},
   "source": [
    "-  ***Linear Regression Implementation  using Sklearn *** <br>"
   ]
  },
  {
   "cell_type": "markdown",
   "metadata": {},
   "source": [
    "This example uses the first 10 observation from the Boston Housing Dataset. For simplicity, I chose only the fifth feature - the number of rooms.<br>"
   ]
  },
  {
   "cell_type": "code",
   "execution_count": 6,
   "metadata": {},
   "outputs": [
    {
     "name": "stdout",
     "output_type": "stream",
     "text": [
      "Coefficients(slope of the line): [9.34830141]\n",
      "Mean squared error: 46.14\n",
      "R-square: 0.37'\n"
     ]
    },
    {
     "data": {
      "image/png": "[encoded data removed]",
      "text/plain": [
       "<Figure size 432x288 with 1 Axes>"
      ]
     },
     "metadata": {},
     "output_type": "display_data"
    }
   ],
   "source": [
    "# import libraries\n",
    "\n",
    "import numpy as np\n",
    "import matplotlib.pyplot as plt\n",
    "from sklearn import datasets,linear_model\n",
    "from sklearn.metrics import mean_squared_error, r2_score\n",
    "from sklearn.model_selection import train_test_split\n",
    "\n",
    "# load the boston dataset \n",
    "boston = datasets.load_boston()\n",
    "\n",
    "# predictor variable - X in our regression: number of rooms\n",
    "Boston_NumRoom = boston.data[:,np.newaxis,5]\n",
    "\n",
    "# target variable - y in our regression: Housing Price\n",
    "Boston_HousingPrice = boston.target\n",
    "\n",
    "\n",
    "# Split the data into train/test sets\n",
    "X_train, X_test, y_train, y_test = train_test_split(Boston_NumRoom, \n",
    "                                                    Boston_HousingPrice, \n",
    "                                                    test_size=0.2,\n",
    "                                                    random_state=42) \n",
    "\n",
    "\n",
    "# Creat a linear regression object\n",
    "model = linear_model.LinearRegression()\n",
    "\n",
    "# Fit the model using the training set\n",
    "model.fit(X_train, y_train)\n",
    "\n",
    "# Make prediction using test set\n",
    "y_test_pred = model.predict(X_test)\n",
    "\n",
    "# Model Output\n",
    "# a. Coefficient - the slop of the line\n",
    "print(\"Coefficients(slope of the line):\", model.coef_)\n",
    "\n",
    "# b. the error - the mean square error\n",
    "print(\"Mean squared error: %.2f\"% mean_squared_error(y_test,y_test_pred))\n",
    "\n",
    "# c. R-square -  how well x accout for the varaince of Y\n",
    "print(\"R-square: %.2f'\" % r2_score(y_test,y_test_pred))\n",
    "\n",
    "# Plot the line\n",
    "plt.scatter(X_test, y_test,linewidth=0.1,alpha=0.5)\n",
    "plt.plot(X_test, y_test_pred, color='green', linewidth=3)\n",
    "plt.xlabel('average number of rooms per dwelling')\n",
    "plt.ylabel('housing price')\n",
    "plt.title('Fitted Line:  housing price  = %.2f + %.2f * number of rooms' \n",
    "      % (model.intercept_, model.coef_[0]))\n",
    "plt.show()"
   ]
  },
  {
   "cell_type": "markdown",
   "metadata": {},
   "source": [
    "The straight line in the plot is the best fitting line that minimizes the error between the actual housing price and the predicted housing priced by the linear model.<br>\n",
    "\n",
    "Model output result includes <br>\n",
    "- the coefficient (the slope of the line),<br>\n",
    "- the error (sum of the distance between actual and predict),<br>\n",
    "the bigger the error the worst the model performance<br>\n",
    "- the R-square (how well the number of room account for the variance of the actual housing price)<br>\n",
    "R-square range from 0 to 1; 1 means the number of the room perfectly explained the housing price through the model; 0 means the number of room explained nothing of the price."
   ]
  },
  {
   "cell_type": "code",
   "execution_count": null,
   "metadata": {},
   "outputs": [],
   "source": []
  }
 ],
 "metadata": {
  "kernelspec": {
   "display_name": "Python 3",
   "language": "python",
   "name": "python3"
  },
  "language_info": {
   "codemirror_mode": {
    "name": "ipython",
    "version": 3
   },
   "file_extension": ".py",
   "mimetype": "text/x-python",
   "name": "python",
   "nbconvert_exporter": "python",
   "pygments_lexer": "ipython3",
   "version": "3.6.5"
  }
 },
 "nbformat": 4,
 "nbformat_minor": 2
}
