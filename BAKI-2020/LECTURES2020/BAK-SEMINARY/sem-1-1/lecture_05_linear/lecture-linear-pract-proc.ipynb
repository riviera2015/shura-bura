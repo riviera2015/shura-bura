{
 "cells": [
  {
   "cell_type": "markdown",
   "metadata": {},
   "source": [
    "<img src=\"images/header.png\">\n",
    "\n",
    "<h1><center>Алгоритмы интеллектуальной обработки больших объемов данных</center></h1>\n",
    "<hr>\n",
    "<h2><center>Линейные модели (практика)</center></h2>"
   ]
  },
  {
   "cell_type": "code",
   "execution_count": 1,
   "metadata": {
    "collapsed": true
   },
   "outputs": [],
   "source": [
    "import pandas as pd\n",
    "import numpy as np\n",
    "import matplotlib.pyplot as plt\n",
    "\n",
    "%matplotlib inline\n",
    "\n",
    "plt.style.use('ggplot')\n",
    "plt.rcParams['figure.figsize'] = (12,8)\n",
    "\n",
    "# Для кириллицы на графиках\n",
    "font = {'family': 'Verdana',\n",
    "        'weight': 'normal'}\n",
    "plt.rc('font', **font)"
   ]
  },
  {
   "cell_type": "code",
   "execution_count": 2,
   "metadata": {
    "code_folding": [],
    "collapsed": true
   },
   "outputs": [],
   "source": [
    "try:\n",
    "    from ipywidgets import interact, IntSlider, fixed\n",
    "except ImportError:\n",
    "    print u'Так надо'"
   ]
  },
  {
   "cell_type": "markdown",
   "metadata": {},
   "source": [
    "# Линейная регрессия"
   ]
  },
  {
   "cell_type": "markdown",
   "metadata": {},
   "source": [
    "## Пример: Стоимость автомобиля"
   ]
  },
  {
   "cell_type": "markdown",
   "metadata": {},
   "source": [
    "Загрузите [тренировочные данные](http://bit.ly/1gIQs6C) и [тестовые данные](http://bit.ly/IYPHrK) - уже знакомые нам данные по автомобилям."
   ]
  },
  {
   "cell_type": "code",
   "execution_count": 3,
   "metadata": {
    "collapsed": true
   },
   "outputs": [],
   "source": [
    "df_train = pd.read_csv('http://bit.ly/1gIQs6C')\n",
    "df_test = pd.read_csv('http://bit.ly/IYPHrK')"
   ]
  },
  {
   "cell_type": "code",
   "execution_count": 4,
   "metadata": {},
   "outputs": [
    {
     "data": {
      "text/html": [
       "<div>\n",
       "<style>\n",
       "    .dataframe thead tr:only-child th {\n",
       "        text-align: right;\n",
       "    }\n",
       "\n",
       "    .dataframe thead th {\n",
       "        text-align: left;\n",
       "    }\n",
       "\n",
       "    .dataframe tbody tr th {\n",
       "        vertical-align: top;\n",
       "    }\n",
       "</style>\n",
       "<table border=\"1\" class=\"dataframe\">\n",
       "  <thead>\n",
       "    <tr style=\"text-align: right;\">\n",
       "      <th></th>\n",
       "      <th>price</th>\n",
       "      <th>mileage</th>\n",
       "      <th>year</th>\n",
       "      <th>trim</th>\n",
       "      <th>engine</th>\n",
       "      <th>transmission</th>\n",
       "    </tr>\n",
       "  </thead>\n",
       "  <tbody>\n",
       "    <tr>\n",
       "      <th>0</th>\n",
       "      <td>14995</td>\n",
       "      <td>67697</td>\n",
       "      <td>2006</td>\n",
       "      <td>ex</td>\n",
       "      <td>4 Cyl</td>\n",
       "      <td>Manual</td>\n",
       "    </tr>\n",
       "    <tr>\n",
       "      <th>1</th>\n",
       "      <td>11988</td>\n",
       "      <td>73738</td>\n",
       "      <td>2006</td>\n",
       "      <td>ex</td>\n",
       "      <td>4 Cyl</td>\n",
       "      <td>Manual</td>\n",
       "    </tr>\n",
       "    <tr>\n",
       "      <th>2</th>\n",
       "      <td>11999</td>\n",
       "      <td>80313</td>\n",
       "      <td>2006</td>\n",
       "      <td>lx</td>\n",
       "      <td>4 Cyl</td>\n",
       "      <td>Automatic</td>\n",
       "    </tr>\n",
       "    <tr>\n",
       "      <th>3</th>\n",
       "      <td>12995</td>\n",
       "      <td>86096</td>\n",
       "      <td>2006</td>\n",
       "      <td>lx</td>\n",
       "      <td>4 Cyl</td>\n",
       "      <td>Automatic</td>\n",
       "    </tr>\n",
       "    <tr>\n",
       "      <th>4</th>\n",
       "      <td>11333</td>\n",
       "      <td>79607</td>\n",
       "      <td>2006</td>\n",
       "      <td>lx</td>\n",
       "      <td>4 Cyl</td>\n",
       "      <td>Automatic</td>\n",
       "    </tr>\n",
       "  </tbody>\n",
       "</table>\n",
       "</div>"
      ],
      "text/plain": [
       "   price  mileage  year trim engine transmission\n",
       "0  14995    67697  2006   ex  4 Cyl       Manual\n",
       "1  11988    73738  2006   ex  4 Cyl       Manual\n",
       "2  11999    80313  2006   lx  4 Cyl    Automatic\n",
       "3  12995    86096  2006   lx  4 Cyl    Automatic\n",
       "4  11333    79607  2006   lx  4 Cyl    Automatic"
      ]
     },
     "execution_count": 4,
     "metadata": {},
     "output_type": "execute_result"
    }
   ],
   "source": [
    "df_train.head()"
   ]
  },
  {
   "cell_type": "code",
   "execution_count": 5,
   "metadata": {},
   "outputs": [
    {
     "data": {
      "text/plain": [
       "<matplotlib.axes._subplots.AxesSubplot at 0x10a387b90>"
      ]
     },
     "execution_count": 5,
     "metadata": {},
     "output_type": "execute_result"
    },
    {
     "data": {
      "image/png": "[encoded data removed]",
      "text/plain": [
       "<matplotlib.figure.Figure at 0x106a63f90>"
      ]
     },
     "metadata": {},
     "output_type": "display_data"
    }
   ],
   "source": [
    "df_train.plot(x='mileage', y='price', kind='scatter', s=120)"
   ]
  },
  {
   "cell_type": "markdown",
   "metadata": {},
   "source": [
    "Кажется, что между стоимостью и пробегом зависимость линейная - давайте ее найдем!"
   ]
  },
  {
   "cell_type": "code",
   "execution_count": 6,
   "metadata": {
    "collapsed": true
   },
   "outputs": [],
   "source": [
    "X_train = df_train.mileage.values.reshape(-1, 1)\n",
    "y_train = df_train.price.values"
   ]
  },
  {
   "cell_type": "code",
   "execution_count": 7,
   "metadata": {
    "collapsed": true
   },
   "outputs": [],
   "source": [
    "from sklearn.linear_model import LinearRegression"
   ]
  },
  {
   "cell_type": "markdown",
   "metadata": {},
   "source": [
    "Обучим модель"
   ]
  },
  {
   "cell_type": "code",
   "execution_count": 8,
   "metadata": {},
   "outputs": [
    {
     "data": {
      "text/plain": [
       "LinearRegression(copy_X=True, fit_intercept=True, n_jobs=1, normalize=False)"
      ]
     },
     "execution_count": 8,
     "metadata": {},
     "output_type": "execute_result"
    }
   ],
   "source": [
    "model = LinearRegression()\n",
    "model.fit(X_train, y_train)"
   ]
  },
  {
   "cell_type": "code",
   "execution_count": 9,
   "metadata": {},
   "outputs": [
    {
     "name": "stdout",
     "output_type": "stream",
     "text": [
      "Модель:\n",
      "price = 16762.02 + (-0.05)*mileage\n"
     ]
    }
   ],
   "source": [
    "print 'Модель:\\nprice = %.2f + (%.2f)*mileage' % (model.intercept_, model.coef_[0])"
   ]
  },
  {
   "cell_type": "markdown",
   "metadata": {},
   "source": [
    "Нарисуйте предсказание модели (прямую) вместе с данными на плоскости. Здесь можно либо явно взять уравнение прямой и посчитать значения в каждой точке, либо через predict."
   ]
  },
  {
   "cell_type": "code",
   "execution_count": 10,
   "metadata": {},
   "outputs": [
    {
     "data": {
      "text/plain": [
       "[<matplotlib.lines.Line2D at 0x1a14847990>]"
      ]
     },
     "execution_count": 10,
     "metadata": {},
     "output_type": "execute_result"
    },
    {
     "data": {
      "image/png": "[encoded data removed]",
      "text/plain": [
       "<matplotlib.figure.Figure at 0x1a14847b50>"
      ]
     },
     "metadata": {},
     "output_type": "display_data"
    }
   ],
   "source": [
    "df_train.plot(x='mileage', y='price', kind='scatter', s=120)\n",
    "\n",
    "y_hat = model.predict(X_train)\n",
    "\n",
    "plt.plot(X_train, y_hat)"
   ]
  },
  {
   "cell_type": "markdown",
   "metadata": {},
   "source": [
    "### Меры качества"
   ]
  },
  {
   "cell_type": "code",
   "execution_count": 11,
   "metadata": {
    "collapsed": true
   },
   "outputs": [],
   "source": [
    "from sklearn.metrics import mean_absolute_error\n",
    "from sklearn.metrics import median_absolute_error\n",
    "from sklearn.metrics import mean_squared_error\n",
    "from sklearn.metrics import r2_score"
   ]
  },
  {
   "cell_type": "markdown",
   "metadata": {},
   "source": [
    "Можно посчитать простые варианты агрегирования остатков, например:\n",
    "\n",
    "* $\\frac{1}{n} \\sum_i |\\hat{y}^{(i)}-y^{(i)}|$ - средняя абсолютная ошибка\n",
    "* $\\frac{1}{n} \\sum_i (\\hat{y}^{(i)}-y^{(i)})^2$ - средняя квадратичная ошибка"
   ]
  },
  {
   "cell_type": "code",
   "execution_count": 12,
   "metadata": {
    "collapsed": true
   },
   "outputs": [],
   "source": [
    "y_hat = model.predict(X_train)"
   ]
  },
  {
   "cell_type": "code",
   "execution_count": 13,
   "metadata": {},
   "outputs": [
    {
     "name": "stdout",
     "output_type": "stream",
     "text": [
      "Средняя абсолютная ошибка 1182.21\n",
      "Средняя квадратичная ошибка 2412292.55\n"
     ]
    }
   ],
   "source": [
    "print('Средняя абсолютная ошибка %.2f' % mean_absolute_error(y_train, y_hat))\n",
    "print('Средняя квадратичная ошибка %.2f' % mean_squared_error(y_train, y_hat))"
   ]
  },
  {
   "cell_type": "markdown",
   "metadata": {},
   "source": [
    "Можно рассмотреть более сложную меру: коэффициент детерминации $R^2$:\n",
    "\n",
    "* $TSS = \\sum_i (y^{(i)}-\\bar{y})^2$ - общая сумма квадратов (total sum of squares)\n",
    "* $RSS = \\sum_i (\\hat{y}^{(i)}-y^{(i)})^2$ - сумма квадратов остатков (residual sum of squares)\n",
    "* $ESS = \\sum_i (\\hat{y}^{(i)}-\\bar{y})^2$ - объясненная сумма квадратов (explained sum of squares)\n",
    "\n",
    "Для простоты будем считать, что\n",
    "$$TSS = ESS + RSS$$\n",
    "\n",
    "Тогда Коэффициент детерминации $R^2=1-\\frac{RSS}{TSS}$\n",
    "\n",
    "Рассчитайте его для нашей модели\n"
   ]
  },
  {
   "cell_type": "markdown",
   "metadata": {},
   "source": [
    "## Преобразование переменных"
   ]
  },
  {
   "cell_type": "markdown",
   "metadata": {},
   "source": [
    "### Нормализация"
   ]
  },
  {
   "cell_type": "markdown",
   "metadata": {},
   "source": [
    "Переход к близким или единым шкалам улучшает сходимость градиентного спуска, уменьшает риск переполнения разрядности чисел, однако приходится жертвовать прямой интерпретируемостью..\n",
    "\n",
    "Нормализацию обычно проделывают для вещественных признаков.\n",
    "\n",
    "Нормализация z-score:\n",
    "1. Вычитаем среднее: $x - \\bar{x}$\n",
    "2. Делим на стандартное отклонение: $\\frac{x - \\bar{x}}{std(x)}$\n",
    "\n",
    "Можно проделать вручную, можно с помошью метода ниже"
   ]
  },
  {
   "cell_type": "code",
   "execution_count": 14,
   "metadata": {},
   "outputs": [
    {
     "name": "stderr",
     "output_type": "stream",
     "text": [
      "/Users/andrey.shestakov/anaconda2/lib/python2.7/site-packages/sklearn/utils/validation.py:475: DataConversionWarning: Data with input dtype int64 was converted to float64 by StandardScaler.\n",
      "  warnings.warn(msg, DataConversionWarning)\n"
     ]
    },
    {
     "data": {
      "text/plain": [
       "LinearRegression(copy_X=True, fit_intercept=True, n_jobs=1, normalize=False)"
      ]
     },
     "execution_count": 14,
     "metadata": {},
     "output_type": "execute_result"
    }
   ],
   "source": [
    "from sklearn.preprocessing import StandardScaler\n",
    "\n",
    "scaler = StandardScaler()\n",
    "X_train_scaled = scaler.fit_transform(X_train)\n",
    "\n",
    "model = LinearRegression(fit_intercept=True)\n",
    "model.fit(X_train_scaled, y_train)"
   ]
  },
  {
   "cell_type": "code",
   "execution_count": 15,
   "metadata": {},
   "outputs": [
    {
     "name": "stdout",
     "output_type": "stream",
     "text": [
      "Модель:\n",
      "price = 12084.24 + (-1351.67)*mileage`\n"
     ]
    }
   ],
   "source": [
    "print('Модель:\\nprice = %.2f + (%.2f)*mileage`' % (model.intercept_, model.coef_[0]))"
   ]
  },
  {
   "cell_type": "markdown",
   "metadata": {},
   "source": [
    "## Как обучать линейную регрессию?\n",
    "Попробуем разобраться без всяких `.predict()` и `.fit()`"
   ]
  },
  {
   "cell_type": "markdown",
   "metadata": {},
   "source": [
    "### Рассмотрим случай с одним признаком и свободным членом"
   ]
  },
  {
   "cell_type": "markdown",
   "metadata": {},
   "source": [
    "$X$ - признаковое описание наблюдений,<br\\> $y$ - прогнозируемая величина\n",
    "\n",
    "Пусть задана функция ошибки (функция потерь) $L(\\cdot)$. <br\\>\n",
    "Нам надо построить такой функционал $f(X)$, который будет выдавать значение наиболее близкие к $y$, иначе говоря: $$L\\left(f(X) - y\\right) \\rightarrow\\min $$"
   ]
  },
  {
   "cell_type": "markdown",
   "metadata": {},
   "source": [
    "Определим функцию потерь, как сумму квадратов разности выдаваемого ответа функционала и реального значения: \n",
    "$$ L(\\cdot) = \\frac{1}{2n}\\sum_{i=1}^n(f(x^{(i)}) - y^{(i)})^2$$\n",
    "\n",
    "Так как среди всего множества моделей мы выбрали линейную регрессию, то $$f(X) = \\beta_0 + \\beta_1x_1$$\n",
    "Подставляем это выражение в $L(\\cdot)$ и находим $\\beta_0$,\n",
    "$\\beta_1$!"
   ]
  },
  {
   "cell_type": "markdown",
   "metadata": {},
   "source": [
    "$$ L(\\beta_0,\\beta_1) = \\frac{1}{2n}\\sum^{n}_{i=1}(f(x^{(i)})  - y^{(i)})^2 = \\frac{1}{2n}\\sum^{n}_{i=1}(\\beta_0 + \\beta_1x^{(i)}_1 - y^{(i)})^2  \\rightarrow \\min\\limits_{\\beta_0, \\beta_1} $$"
   ]
  },
  {
   "cell_type": "markdown",
   "metadata": {},
   "source": [
    "Изобразим функцию потерь на трехмерном графике в зависимости от $\\beta_0$ и $\\beta_1$ для задачи с автомобилем"
   ]
  },
  {
   "cell_type": "code",
   "execution_count": 16,
   "metadata": {},
   "outputs": [
    {
     "data": {
      "text/plain": [
       "array([[ 67697],\n",
       "       [ 73738],\n",
       "       [ 80313],\n",
       "       [ 86096],\n",
       "       [ 79607],\n",
       "       [ 96966],\n",
       "       [126150],\n",
       "       [119255],\n",
       "       [ 73513],\n",
       "       [ 50649]])"
      ]
     },
     "execution_count": 16,
     "metadata": {},
     "output_type": "execute_result"
    }
   ],
   "source": [
    "X_train[:10]"
   ]
  },
  {
   "cell_type": "code",
   "execution_count": 17,
   "metadata": {},
   "outputs": [
    {
     "data": {
      "text/plain": [
       "(417, 2)"
      ]
     },
     "execution_count": 17,
     "metadata": {},
     "output_type": "execute_result"
    }
   ],
   "source": [
    "# для удобства добавим столбец из \"1\" в матрицу с признаком \"пробег\"\n",
    "X_model = np.c_[np.ones(X_train.shape), X_train]\n",
    "X_model.shape"
   ]
  },
  {
   "cell_type": "code",
   "execution_count": 18,
   "metadata": {},
   "outputs": [
    {
     "data": {
      "text/plain": [
       "array([[  1.00000000e+00,   6.76970000e+04],\n",
       "       [  1.00000000e+00,   7.37380000e+04],\n",
       "       [  1.00000000e+00,   8.03130000e+04],\n",
       "       [  1.00000000e+00,   8.60960000e+04],\n",
       "       [  1.00000000e+00,   7.96070000e+04],\n",
       "       [  1.00000000e+00,   9.69660000e+04],\n",
       "       [  1.00000000e+00,   1.26150000e+05],\n",
       "       [  1.00000000e+00,   1.19255000e+05],\n",
       "       [  1.00000000e+00,   7.35130000e+04],\n",
       "       [  1.00000000e+00,   5.06490000e+04]])"
      ]
     },
     "execution_count": 18,
     "metadata": {},
     "output_type": "execute_result"
    }
   ],
   "source": [
    "X_model[:10]"
   ]
  },
  {
   "cell_type": "code",
   "execution_count": 19,
   "metadata": {
    "collapsed": true
   },
   "outputs": [],
   "source": [
    "from mpl_toolkits import mplot3d"
   ]
  },
  {
   "cell_type": "code",
   "execution_count": 20,
   "metadata": {},
   "outputs": [
    {
     "data": {
      "text/plain": [
       "Text(0,0.5,u'beta_1')"
      ]
     },
     "execution_count": 20,
     "metadata": {},
     "output_type": "execute_result"
    },
    {
     "data": {
      "image/png": "[encoded data removed]",
      "text/plain": [
       "<matplotlib.figure.Figure at 0x1a14cee790>"
      ]
     },
     "metadata": {},
     "output_type": "display_data"
    }
   ],
   "source": [
    "beta0 = np.linspace(11000 , 13000, 100)\n",
    "beta1 = np.linspace(-2450, -250, 100)\n",
    "\n",
    "B0, B1= np.meshgrid(beta0, beta1)\n",
    "\n",
    "B_all = np.c_[B0.reshape(-1,1), B1.reshape(-1,1)].T\n",
    "\n",
    "L = X_model.dot(B_all) - y_train.reshape(-1,1)\n",
    "L = L ** 2\n",
    "L = L.mean(axis=0)/2\n",
    "L = L.reshape(B0.shape)\n",
    "\n",
    "\n",
    "fig = plt.figure(figsize=(14, 7))\n",
    "ax = fig.add_subplot(1, 2, 1, projection='3d')\n",
    "ax.view_init(40, 25)\n",
    "ax.plot_surface(B0, B1, L, alpha=0.3,)\n",
    "ax.set_xlabel('beta_0')\n",
    "ax.set_ylabel('beta_1')\n",
    "\n",
    "ax = fig.add_subplot(1, 2, 2)\n",
    "contour = ax.contour(B0, B1, L)\n",
    "plt.clabel(contour, inline=1, fontsize=10)\n",
    "ax.set_xlabel('beta_0')\n",
    "ax.set_ylabel('beta_1')"
   ]
  },
  {
   "cell_type": "markdown",
   "metadata": {},
   "source": [
    "### Градиентный спуск"
   ]
  },
  {
   "cell_type": "markdown",
   "metadata": {},
   "source": [
    "Градиентый спуск - это итеративный метод оптимизации функции. Он заключается в постепенном перемещении к точке экспетмума в направлении антиградиента этой функции в точке."
   ]
  },
  {
   "cell_type": "markdown",
   "metadata": {},
   "source": [
    "Посчитаем, чему равен градиент функции потерь $L(\\beta_0, \\beta_1):$\n",
    "$$ \\frac{\\partial L}{\\partial \\beta_0} = \\frac{1}{n}\\sum^{n}_{i=1}(\\beta_0 + \\beta_1x^{(i)}_1 - y^{(i)})$$\n",
    "$$ \\frac{\\partial L}{\\partial \\beta_1} = \\frac{1}{n}\\sum^{n}_{i=1}(\\beta_0 + \\beta_1x^{(i)}_1 - y^{(i)})x_1^{(i)}$$\n",
    "\n",
    "Иногда проще это записать в виде матриц:\n",
    "$$ \\frac{\\partial L}{\\partial \\beta} = X^\\top(X\\beta - y)$$"
   ]
  },
  {
   "cell_type": "markdown",
   "metadata": {},
   "source": [
    "Метод градиентного спуска заключается в итеративном и **одновременном(!!!)** обновлении значений $\\beta$ в направлении, противоположному градиенту:\n",
    "$$ \\beta := \\beta -  \\frac{\\alpha}{n} \\frac{\\partial L}{\\partial \\beta}$$\n"
   ]
  },
  {
   "cell_type": "markdown",
   "metadata": {},
   "source": [
    "Теперь к шагам алгоритма:\n",
    "\n",
    "* Задаем случайное начальное значение для $\\beta$\n",
    "* Пока не будет достигнуто правило останова:\n",
    "    * Считаем ошибку и значение функции потерь\n",
    "    * Считаем градиент\n",
    "    * Обновляем коэффициенты"
   ]
  },
  {
   "cell_type": "code",
   "execution_count": 21,
   "metadata": {
    "collapsed": true
   },
   "outputs": [],
   "source": [
    "def gradient_descent(X, y, iters, alpha):\n",
    "    \n",
    "    costs = []\n",
    "    betas = []\n",
    "    \n",
    "    n = y.shape[0] \n",
    "    Beta = np.random.rand(X.shape[1])\n",
    "    for i in range(iters):\n",
    "        y_hat = X.dot(Beta)\n",
    "        \n",
    "        # считаем ошибку и значение функции потерь\n",
    "        resid = (y_hat - y) # ошибки\n",
    "        cost = (resid**2).sum()\n",
    "        \n",
    "        # считаем градиент\n",
    "        grad = X.T.dot(resid)\n",
    "\n",
    "        # обновляем коэффициенты\n",
    "        Beta = Beta - alpha/n * grad\n",
    "        \n",
    "        if (i % 10) == 0:\n",
    "            betas.append(Beta)\n",
    "            costs.append(cost)\n",
    "                    \n",
    "    return Beta, costs, betas"
   ]
  },
  {
   "cell_type": "code",
   "execution_count": 22,
   "metadata": {},
   "outputs": [
    {
     "name": "stderr",
     "output_type": "stream",
     "text": [
      "/Users/andrey.shestakov/anaconda2/lib/python2.7/site-packages/ipykernel/__main__.py:13: RuntimeWarning: overflow encountered in square\n",
      "/Users/andrey.shestakov/anaconda2/lib/python2.7/site-packages/ipykernel/__main__.py:19: RuntimeWarning: invalid value encountered in subtract\n"
     ]
    }
   ],
   "source": [
    "Beta, costs, betas = gradient_descent(X_model, y_train, 100, 0.05)"
   ]
  },
  {
   "cell_type": "code",
   "execution_count": 23,
   "metadata": {
    "scrolled": true
   },
   "outputs": [
    {
     "data": {
      "text/plain": [
       "[<matplotlib.lines.Line2D at 0x1a192eb550>]"
      ]
     },
     "execution_count": 23,
     "metadata": {},
     "output_type": "execute_result"
    },
    {
     "data": {
      "image/png": "[encoded data removed]",
      "text/plain": [
       "<matplotlib.figure.Figure at 0x1a192e54d0>"
      ]
     },
     "metadata": {},
     "output_type": "display_data"
    }
   ],
   "source": [
    "beta0 = np.linspace(11000 , 13000, 100)\n",
    "beta1 = np.linspace(-2450, -250, 100)\n",
    "\n",
    "B0, B1= np.meshgrid(beta0, beta1)\n",
    "\n",
    "B_all = np.c_[B0.reshape(-1,1), B1.reshape(-1,1)].T\n",
    "\n",
    "L = X_model.dot(B_all) - y_train.reshape(-1,1)\n",
    "L = L ** 2\n",
    "L = L.mean(axis=0)/2\n",
    "L = L.reshape(B0.shape)\n",
    "\n",
    "fig, ax = plt.subplots(1,1)\n",
    "contour = ax.contour(B0, B1, L)\n",
    "plt.clabel(contour, inline=1, fontsize=10)\n",
    "ax.set_xlabel('beta_0')\n",
    "ax.set_ylabel('beta_1')\n",
    "\n",
    "betas = np.array(betas)\n",
    "ax.plot(betas[:,0], betas[:,1], marker='*')\n"
   ]
  },
  {
   "cell_type": "markdown",
   "metadata": {},
   "source": [
    "# Логистическая регрессия"
   ]
  },
  {
   "cell_type": "code",
   "execution_count": 26,
   "metadata": {
    "collapsed": true
   },
   "outputs": [],
   "source": [
    "import pandas as pd\n",
    "import numpy as np\n",
    "import matplotlib.pyplot as plt\n",
    "\n",
    "%matplotlib inline\n",
    "\n",
    "plt.style.use('ggplot')\n",
    "plt.rcParams['figure.figsize'] = (12,8)\n",
    "\n",
    "# Для кириллицы на графиках\n",
    "font = {'family': 'Verdana',\n",
    "        'weight': 'normal'}\n",
    "plt.rc('font', **font)"
   ]
  },
  {
   "cell_type": "markdown",
   "metadata": {},
   "source": [
    "## Игрушечный пример"
   ]
  },
  {
   "cell_type": "markdown",
   "metadata": {},
   "source": [
    "Сгенерируем выборку и опробуем логистическую регрессию"
   ]
  },
  {
   "cell_type": "code",
   "execution_count": 27,
   "metadata": {
    "collapsed": true
   },
   "outputs": [],
   "source": [
    "np.random.seed(0)\n",
    "X = np.r_[np.random.randn(20, 2) + [2, 2],\n",
    "          np.random.randn(20, 2) + [-2, -2]]\n",
    "y = [-1] * 20 + [1] * 20"
   ]
  },
  {
   "cell_type": "code",
   "execution_count": 28,
   "metadata": {},
   "outputs": [
    {
     "data": {
      "text/plain": [
       "<matplotlib.collections.PathCollection at 0x1a162a2150>"
      ]
     },
     "execution_count": 28,
     "metadata": {},
     "output_type": "execute_result"
    },
    {
     "data": {
      "image/png": "[encoded data removed]",
      "text/plain": [
       "<matplotlib.figure.Figure at 0x1129048d0>"
      ]
     },
     "metadata": {},
     "output_type": "display_data"
    }
   ],
   "source": [
    "fig, ax = plt.subplots(figsize=(7, 7))\n",
    "ax.scatter(X[:, 0],\n",
    "           X[:, 1],\n",
    "           c=y,\n",
    "           cmap=plt.cm.Paired)"
   ]
  },
  {
   "cell_type": "code",
   "execution_count": 29,
   "metadata": {
    "collapsed": true
   },
   "outputs": [],
   "source": [
    "from sklearn.linear_model import LogisticRegression"
   ]
  },
  {
   "cell_type": "markdown",
   "metadata": {},
   "source": [
    "Обучим логистическую регрессию на этих данных и нарисуем разделяющую гиперплоскость"
   ]
  },
  {
   "cell_type": "code",
   "execution_count": 30,
   "metadata": {},
   "outputs": [
    {
     "data": {
      "text/plain": [
       "LogisticRegression(C=1.0, class_weight=None, dual=False, fit_intercept=True,\n",
       "          intercept_scaling=1, max_iter=100, multi_class='ovr', n_jobs=1,\n",
       "          penalty='l2', random_state=None, solver='liblinear', tol=0.0001,\n",
       "          verbose=0, warm_start=False)"
      ]
     },
     "execution_count": 30,
     "metadata": {},
     "output_type": "execute_result"
    }
   ],
   "source": [
    "model = LogisticRegression(C=1.0, \n",
    "                           fit_intercept=True, \n",
    "                           penalty='l2')\n",
    "model.fit(X, y)"
   ]
  },
  {
   "cell_type": "code",
   "execution_count": 32,
   "metadata": {},
   "outputs": [
    {
     "name": "stdout",
     "output_type": "stream",
     "text": [
      "w_0 = -0.183954\n",
      "w_1, w_2 =  [-1.06097157 -1.00171289]\n"
     ]
    }
   ],
   "source": [
    "print 'w_0 = %f' % model.intercept_\n",
    "print 'w_1, w_2 = ', model.coef_[0]"
   ]
  },
  {
   "cell_type": "code",
   "execution_count": null,
   "metadata": {
    "collapsed": true
   },
   "outputs": [],
   "source": [
    "# Нарисуем эту гиперплоскость\n"
   ]
  },
  {
   "cell_type": "code",
   "execution_count": 33,
   "metadata": {},
   "outputs": [
    {
     "data": {
      "text/plain": [
       "array([-1, -1, -1, -1, -1, -1, -1, -1, -1, -1])"
      ]
     },
     "execution_count": 33,
     "metadata": {},
     "output_type": "execute_result"
    }
   ],
   "source": [
    "y_hat = model.predict(X)\n",
    "y_hat[:10]"
   ]
  },
  {
   "cell_type": "code",
   "execution_count": 34,
   "metadata": {},
   "outputs": [
    {
     "data": {
      "text/plain": [
       "array([[  9.98616528e-01,   1.38347180e-03],\n",
       "       [  9.99496019e-01,   5.03981209e-04],\n",
       "       [  9.95091160e-01,   4.90883960e-03],\n",
       "       [  9.94323473e-01,   5.67652674e-03],\n",
       "       [  9.90157090e-01,   9.84290974e-03],\n",
       "       [  9.97319087e-01,   2.68091305e-03],\n",
       "       [  9.94720579e-01,   5.27942062e-03],\n",
       "       [  9.94026880e-01,   5.97312006e-03],\n",
       "       [  9.96628393e-01,   3.37160720e-03],\n",
       "       [  9.77815343e-01,   2.21846572e-02]])"
      ]
     },
     "execution_count": 34,
     "metadata": {},
     "output_type": "execute_result"
    }
   ],
   "source": [
    "y_hat_proba = model.predict_proba(X)\n",
    "y_hat_proba[:10, :]"
   ]
  },
  {
   "cell_type": "code",
   "execution_count": 35,
   "metadata": {},
   "outputs": [
    {
     "data": {
      "text/plain": [
       "array([-6.58177471, -7.59246747, -5.31179677, -5.16572302, -4.61111223,\n",
       "       -5.91891334, -5.23864551, -5.11449484, -5.68898843, -3.78591991])"
      ]
     },
     "execution_count": 35,
     "metadata": {},
     "output_type": "execute_result"
    }
   ],
   "source": [
    "dec_func = model.decision_function(X)\n",
    "dec_func[:10]"
   ]
  },
  {
   "cell_type": "markdown",
   "metadata": {},
   "source": [
    "### Как сделать нелинейную границу?"
   ]
  },
  {
   "cell_type": "markdown",
   "metadata": {},
   "source": [
    "Рассмотрим набор данных, который в простонародье называют \"Бублик\"."
   ]
  },
  {
   "cell_type": "code",
   "execution_count": 36,
   "metadata": {
    "collapsed": true
   },
   "outputs": [],
   "source": [
    "from sklearn.datasets import make_circles"
   ]
  },
  {
   "cell_type": "code",
   "execution_count": 37,
   "metadata": {},
   "outputs": [
    {
     "data": {
      "text/plain": [
       "<matplotlib.collections.PathCollection at 0x1a1691eed0>"
      ]
     },
     "execution_count": 37,
     "metadata": {},
     "output_type": "execute_result"
    },
    {
     "data": {
      "image/png": "[encoded data removed]",
      "text/plain": [
       "<matplotlib.figure.Figure at 0x1a1a28f810>"
      ]
     },
     "metadata": {},
     "output_type": "display_data"
    }
   ],
   "source": [
    "X, y = make_circles(n_samples=100, shuffle=True,\n",
    "                    noise = 0.1,\n",
    "                    factor=0.1)\n",
    "\n",
    "plt.scatter(X[:, 0],\n",
    "            X[:, 1],\n",
    "            c=y)"
   ]
  },
  {
   "cell_type": "markdown",
   "metadata": {},
   "source": [
    "Очевидно, что классы нельзя разделить линией. Но можно сделать это окружностью! </br>\n",
    "Т.е. разделяющся линия теперь будет задаваться не уравнением прямой $g(x) = w_0 + w_1x_1 + w_2x_2$, а уравнением окружности. \n",
    "\n",
    "Выполните преобразование матрицы X, чтобы в ней были столбцы для $x_1$, $x_2$, $x^2_1$ + $x^2_2$ и обучите логистическую регрессию."
   ]
  },
  {
   "cell_type": "code",
   "execution_count": 39,
   "metadata": {},
   "outputs": [
    {
     "data": {
      "text/plain": [
       "LogisticRegression(C=100000, class_weight=None, dual=False,\n",
       "          fit_intercept=True, intercept_scaling=1, max_iter=100,\n",
       "          multi_class='ovr', n_jobs=1, penalty='l2', random_state=None,\n",
       "          solver='liblinear', tol=0.0001, verbose=0, warm_start=False)"
      ]
     },
     "execution_count": 39,
     "metadata": {},
     "output_type": "execute_result"
    }
   ],
   "source": [
    "# Your code Here\n",
    "X_new = np.c_[X, X[:,0]**2 + X[:,1]**2]\n",
    "model = LogisticRegression(C=100000, \n",
    "                           fit_intercept=True)\n",
    "model.fit(X_new, y)"
   ]
  },
  {
   "cell_type": "code",
   "execution_count": 40,
   "metadata": {},
   "outputs": [
    {
     "data": {
      "text/plain": [
       "array([[ 0.6628582 ,  0.566528  ,  0.76033498],\n",
       "       [ 1.01976426,  0.04139   ,  1.04163229],\n",
       "       [ 0.11345315,  0.08853271,  0.02070966],\n",
       "       [-0.02778909,  0.21590001,  0.04738505],\n",
       "       [ 0.09266786, -0.01594095,  0.00884145],\n",
       "       [ 0.00524132, -0.12529629,  0.01572663],\n",
       "       [ 0.4776595 ,  0.79054453,  0.85311925],\n",
       "       [-0.24323304,  0.04272888,  0.06098807],\n",
       "       [-0.2439184 , -1.06114425,  1.1855233 ],\n",
       "       [ 0.89929878,  0.02373896,  0.80930184]])"
      ]
     },
     "execution_count": 40,
     "metadata": {},
     "output_type": "execute_result"
    }
   ],
   "source": [
    "X_new[:10]"
   ]
  },
  {
   "cell_type": "code",
   "execution_count": 41,
   "metadata": {},
   "outputs": [
    {
     "data": {
      "text/plain": [
       "0"
      ]
     },
     "execution_count": 41,
     "metadata": {},
     "output_type": "execute_result"
    }
   ],
   "source": [
    "# Посчитаем количество ошибок\n",
    "y_hat = model.predict(X_new)\n",
    "(y != y_hat).sum()"
   ]
  },
  {
   "cell_type": "code",
   "execution_count": 42,
   "metadata": {
    "collapsed": true
   },
   "outputs": [],
   "source": [
    "# Нарисуем полученную окружность\n",
    "\n",
    "x0, x1 = np.meshgrid(np.arange(-1.5, 1.5, 0.1),\n",
    "                       np.arange(-1.5, 1.5, 0.1))\n",
    "xx0, xx1 = x0.ravel(), x1.ravel()\n",
    "\n",
    "# Your code here"
   ]
  },
  {
   "cell_type": "markdown",
   "metadata": {},
   "source": [
    "## Анализ тональности"
   ]
  },
  {
   "cell_type": "markdown",
   "metadata": {},
   "source": [
    "Загрузите текстовые данные [отсюда](https://archive.ics.uci.edu/ml/machine-learning-databases/00331/). Архив должен содержать 3 файла с положительными и отрицательными отзывами с ресурсов\n",
    "* imdb.com\n",
    "* amazon.com\n",
    "* yelp.com\n",
    "\n",
    "Формат файла следующий:\n",
    "<отзыв>\\t<метка>\\n\n",
    "\n",
    "\n",
    "### Задача\n",
    "1. Загрузите тексты и метки классов в разные переменные\n",
    "2. Выберите меру качества классификации\n",
    "3. Обучите логистическую (без подбора гиперпараметров). Тексты представляются в виде мешка слов\n",
    "4. Выведите наиболее значимые слова из текста"
   ]
  },
  {
   "cell_type": "code",
   "execution_count": 24,
   "metadata": {},
   "outputs": [
    {
     "name": "stdout",
     "output_type": "stream",
     "text": [
      "amazon_cells_labelled.txt readme.txt\r\n",
      "imdb_labelled.txt         yelp_labelled.txt\r\n"
     ]
    }
   ],
   "source": [
    "!ls sentiment/"
   ]
  },
  {
   "cell_type": "code",
   "execution_count": 25,
   "metadata": {
    "collapsed": true
   },
   "outputs": [],
   "source": [
    "sent_data = pd.read_csv('sentiment/imdb_labelled.txt', \n",
    "                        sep='\\t', \n",
    "                        names=['sentence', 'label'], header=None)"
   ]
  },
  {
   "cell_type": "code",
   "execution_count": 26,
   "metadata": {},
   "outputs": [
    {
     "data": {
      "text/html": [
       "<div>\n",
       "<style>\n",
       "    .dataframe thead tr:only-child th {\n",
       "        text-align: right;\n",
       "    }\n",
       "\n",
       "    .dataframe thead th {\n",
       "        text-align: left;\n",
       "    }\n",
       "\n",
       "    .dataframe tbody tr th {\n",
       "        vertical-align: top;\n",
       "    }\n",
       "</style>\n",
       "<table border=\"1\" class=\"dataframe\">\n",
       "  <thead>\n",
       "    <tr style=\"text-align: right;\">\n",
       "      <th></th>\n",
       "      <th>sentence</th>\n",
       "      <th>label</th>\n",
       "    </tr>\n",
       "  </thead>\n",
       "  <tbody>\n",
       "    <tr>\n",
       "      <th>0</th>\n",
       "      <td>A very, very, very slow-moving, aimless movie ...</td>\n",
       "      <td>0</td>\n",
       "    </tr>\n",
       "    <tr>\n",
       "      <th>1</th>\n",
       "      <td>Not sure who was more lost - the flat characte...</td>\n",
       "      <td>0</td>\n",
       "    </tr>\n",
       "    <tr>\n",
       "      <th>2</th>\n",
       "      <td>Attempting artiness with black &amp; white and cle...</td>\n",
       "      <td>0</td>\n",
       "    </tr>\n",
       "    <tr>\n",
       "      <th>3</th>\n",
       "      <td>Very little music or anything to speak of.</td>\n",
       "      <td>0</td>\n",
       "    </tr>\n",
       "    <tr>\n",
       "      <th>4</th>\n",
       "      <td>The best scene in the movie was when Gerardo i...</td>\n",
       "      <td>1</td>\n",
       "    </tr>\n",
       "  </tbody>\n",
       "</table>\n",
       "</div>"
      ],
      "text/plain": [
       "                                            sentence  label\n",
       "0  A very, very, very slow-moving, aimless movie ...      0\n",
       "1  Not sure who was more lost - the flat characte...      0\n",
       "2  Attempting artiness with black & white and cle...      0\n",
       "3       Very little music or anything to speak of.        0\n",
       "4  The best scene in the movie was when Gerardo i...      1"
      ]
     },
     "execution_count": 26,
     "metadata": {},
     "output_type": "execute_result"
    }
   ],
   "source": [
    "sent_data.head()"
   ]
  },
  {
   "cell_type": "code",
   "execution_count": 27,
   "metadata": {},
   "outputs": [
    {
     "data": {
      "text/plain": [
       "(748, 2)"
      ]
     },
     "execution_count": 27,
     "metadata": {},
     "output_type": "execute_result"
    }
   ],
   "source": [
    "sent_data.shape"
   ]
  },
  {
   "cell_type": "code",
   "execution_count": 28,
   "metadata": {
    "collapsed": true
   },
   "outputs": [],
   "source": [
    "X = sent_data.sentence.values\n",
    "y = sent_data.label.values"
   ]
  },
  {
   "cell_type": "code",
   "execution_count": 29,
   "metadata": {},
   "outputs": [
    {
     "data": {
      "text/plain": [
       "array([ 'A very, very, very slow-moving, aimless movie about a distressed, drifting young man.  ',\n",
       "       'Not sure who was more lost - the flat characters or the audience, nearly half of whom walked out.  ',\n",
       "       'Attempting artiness with black & white and clever camera angles, the movie disappointed - became even more ridiculous - as the acting was poor and the plot and lines almost non-existent.  ',\n",
       "       'Very little music or anything to speak of.  ',\n",
       "       'The best scene in the movie was when Gerardo is trying to find a song that keeps running through his head.  '], dtype=object)"
      ]
     },
     "execution_count": 29,
     "metadata": {},
     "output_type": "execute_result"
    }
   ],
   "source": [
    "X[:5]"
   ]
  },
  {
   "cell_type": "code",
   "execution_count": 30,
   "metadata": {},
   "outputs": [
    {
     "data": {
      "text/plain": [
       "array([0, 0, 0, 0, 1])"
      ]
     },
     "execution_count": 30,
     "metadata": {},
     "output_type": "execute_result"
    }
   ],
   "source": [
    "y[:5]"
   ]
  },
  {
   "cell_type": "code",
   "execution_count": 31,
   "metadata": {
    "collapsed": true
   },
   "outputs": [],
   "source": [
    "from sklearn.pipeline import Pipeline\n",
    "from sklearn.feature_extraction.text import CountVectorizer\n",
    "from sklearn.feature_extraction.text import TfidfVectorizer"
   ]
  },
  {
   "cell_type": "code",
   "execution_count": 32,
   "metadata": {
    "collapsed": true
   },
   "outputs": [],
   "source": [
    "vect = CountVectorizer(max_df=0.95, analyzer=u'word',\n",
    "                       min_df=3,\n",
    "                       ngram_range=(2, 2), \n",
    "                       stop_words='english')"
   ]
  },
  {
   "cell_type": "code",
   "execution_count": 33,
   "metadata": {},
   "outputs": [
    {
     "data": {
      "text/plain": [
       "CountVectorizer(analyzer=u'word', binary=False, decode_error=u'strict',\n",
       "        dtype=<type 'numpy.int64'>, encoding=u'utf-8', input=u'content',\n",
       "        lowercase=True, max_df=0.95, max_features=None, min_df=3,\n",
       "        ngram_range=(2, 2), preprocessor=None, stop_words='english',\n",
       "        strip_accents=None, token_pattern=u'(?u)\\\\b\\\\w\\\\w+\\\\b',\n",
       "        tokenizer=None, vocabulary=None)"
      ]
     },
     "execution_count": 33,
     "metadata": {},
     "output_type": "execute_result"
    }
   ],
   "source": [
    "vect.fit(X)"
   ]
  },
  {
   "cell_type": "code",
   "execution_count": 34,
   "metadata": {},
   "outputs": [
    {
     "data": {
      "text/plain": [
       "<748x57 sparse matrix of type '<type 'numpy.int64'>'\n",
       "\twith 208 stored elements in Compressed Sparse Row format>"
      ]
     },
     "execution_count": 34,
     "metadata": {},
     "output_type": "execute_result"
    }
   ],
   "source": [
    "vect.transform(X)"
   ]
  },
  {
   "cell_type": "code",
   "execution_count": 35,
   "metadata": {
    "collapsed": true
   },
   "outputs": [],
   "source": [
    "words = vect.get_feature_names()"
   ]
  },
  {
   "cell_type": "code",
   "execution_count": 36,
   "metadata": {},
   "outputs": [
    {
     "data": {
      "text/plain": [
       "57"
      ]
     },
     "execution_count": 36,
     "metadata": {},
     "output_type": "execute_result"
    }
   ],
   "source": [
    "len(words)"
   ]
  },
  {
   "cell_type": "code",
   "execution_count": 37,
   "metadata": {
    "collapsed": true
   },
   "outputs": [],
   "source": [
    "from sklearn.linear_model import LogisticRegression"
   ]
  },
  {
   "cell_type": "code",
   "execution_count": 38,
   "metadata": {
    "collapsed": true
   },
   "outputs": [],
   "source": [
    "model = Pipeline([\n",
    "    ('vect', vect),\n",
    "    ('clf', LogisticRegression())\n",
    "])"
   ]
  },
  {
   "cell_type": "code",
   "execution_count": 39,
   "metadata": {},
   "outputs": [
    {
     "data": {
      "text/plain": [
       "Pipeline(memory=None,\n",
       "     steps=[('vect', CountVectorizer(analyzer=u'word', binary=False, decode_error=u'strict',\n",
       "        dtype=<type 'numpy.int64'>, encoding=u'utf-8', input=u'content',\n",
       "        lowercase=True, max_df=0.95, max_features=None, min_df=3,\n",
       "        ngram_range=(2, 2), preprocessor=None, stop_words='english',\n",
       "    ...ty='l2', random_state=None, solver='liblinear', tol=0.0001,\n",
       "          verbose=0, warm_start=False))])"
      ]
     },
     "execution_count": 39,
     "metadata": {},
     "output_type": "execute_result"
    }
   ],
   "source": [
    "model.fit(X, y)"
   ]
  },
  {
   "cell_type": "code",
   "execution_count": 40,
   "metadata": {
    "collapsed": true
   },
   "outputs": [],
   "source": [
    "y_hat = model.predict_proba(X)"
   ]
  },
  {
   "cell_type": "code",
   "execution_count": 41,
   "metadata": {
    "collapsed": true
   },
   "outputs": [],
   "source": [
    "weights = model.steps[1][1].coef_\n",
    "words = model.steps[0][1].get_feature_names()"
   ]
  },
  {
   "cell_type": "code",
   "execution_count": 42,
   "metadata": {
    "collapsed": true
   },
   "outputs": [],
   "source": [
    "coefs = pd.Series(index=words, data=weights[0])"
   ]
  },
  {
   "cell_type": "code",
   "execution_count": 43,
   "metadata": {},
   "outputs": [
    {
     "data": {
      "text/plain": [
       "waste time               -1.397528\n",
       "just didn                -0.933206\n",
       "acting bad               -0.929424\n",
       "90 minutes               -0.899509\n",
       "cover girl               -0.899509\n",
       "really bad               -0.837326\n",
       "film bad                 -0.817301\n",
       "hour half                -0.765411\n",
       "bad script               -0.718757\n",
       "special effects          -0.671102\n",
       "movies ve                -0.667440\n",
       "avoid costs              -0.612264\n",
       "ve seen                  -0.602955\n",
       "bad film                 -0.594383\n",
       "don waste                -0.568558\n",
       "story line               -0.538280\n",
       "film just                -0.487419\n",
       "time film                -0.308357\n",
       "didn really              -0.223502\n",
       "looked like              -0.187990\n",
       "good actors              -0.138866\n",
       "bad bad                  -0.026722\n",
       "camera work              -0.025713\n",
       "don think                 0.087009\n",
       "worth seeing              0.105330\n",
       "watching film             0.143233\n",
       "great director            0.211604\n",
       "black white               0.264792\n",
       "great film                0.281815\n",
       "movies like               0.297374\n",
       "good film                 0.358791\n",
       "real life                 0.360977\n",
       "short film                0.387577\n",
       "think people              0.415226\n",
       "like movie                0.421543\n",
       "movie bad                 0.446655\n",
       "excellent film            0.513561\n",
       "seen movie                0.546676\n",
       "definitely worth          0.590571\n",
       "movie really              0.592112\n",
       "sound effects             0.635290\n",
       "characters interesting    0.680299\n",
       "worth checking            0.722587\n",
       "film great                0.733504\n",
       "scene movie               0.738719\n",
       "highly recommended        0.738719\n",
       "saw film                  0.743478\n",
       "thought provoking         0.745159\n",
       "film making               0.775932\n",
       "excellent job             0.775932\n",
       "music film                0.788974\n",
       "wind lion                 0.860077\n",
       "movie good                0.860077\n",
       "long time                 0.860077\n",
       "tom wilkinson             0.860077\n",
       "recommend movie           0.931419\n",
       "10 10                     1.162652\n",
       "dtype: float64"
      ]
     },
     "execution_count": 43,
     "metadata": {},
     "output_type": "execute_result"
    }
   ],
   "source": [
    "coefs.sort_values()"
   ]
  },
  {
   "cell_type": "code",
   "execution_count": 44,
   "metadata": {},
   "outputs": [
    {
     "data": {
      "text/plain": [
       "array([[ 0.48714582,  0.51285418],\n",
       "       [ 0.48714582,  0.51285418],\n",
       "       [ 0.42159725,  0.57840275],\n",
       "       [ 0.48714582,  0.51285418],\n",
       "       [ 0.31213701,  0.68786299],\n",
       "       [ 0.48714582,  0.51285418],\n",
       "       [ 0.48714582,  0.51285418],\n",
       "       [ 0.48714582,  0.51285418],\n",
       "       [ 0.48714582,  0.51285418],\n",
       "       [ 0.48714582,  0.51285418]])"
      ]
     },
     "execution_count": 44,
     "metadata": {},
     "output_type": "execute_result"
    }
   ],
   "source": [
    "y_hat[:10]"
   ]
  },
  {
   "cell_type": "markdown",
   "metadata": {},
   "source": [
    "# Sberbank DS Contest"
   ]
  },
  {
   "cell_type": "markdown",
   "metadata": {},
   "source": [
    "В этом задании мы рассмотрим данные с предыдущего Sberbank Data Science Contest. К сожалению найти страницу с конкурсом уже не получается.\n",
    "\n",
    "Одной из задач была опредление пола владельца карты по его транзакциям на карте. Зачем это нужно - одному сберу известно, но эта задача была хороша тем, что в ней можно нагенерировать много разных признаков\n",
    "\n",
    "Есть такая [презентация](https://alexanderdyakonov.files.wordpress.com/2016/10/dj2016_sdsj_vis.pdf) с предварительным анализом данных и идеями про признаки\n",
    "\n",
    "Нам понадобятся файлы `customers_gender_train.csv`, `transactions.tsv.gz`, `mcc_types.tsv` и `trans_types.tsv`."
   ]
  },
  {
   "cell_type": "markdown",
   "metadata": {},
   "source": [
    "## Посмотрим на данные"
   ]
  },
  {
   "cell_type": "markdown",
   "metadata": {},
   "source": [
    "Это метки ответов"
   ]
  },
  {
   "cell_type": "code",
   "execution_count": 45,
   "metadata": {},
   "outputs": [
    {
     "data": {
      "text/html": [
       "<div>\n",
       "<style>\n",
       "    .dataframe thead tr:only-child th {\n",
       "        text-align: right;\n",
       "    }\n",
       "\n",
       "    .dataframe thead th {\n",
       "        text-align: left;\n",
       "    }\n",
       "\n",
       "    .dataframe tbody tr th {\n",
       "        vertical-align: top;\n",
       "    }\n",
       "</style>\n",
       "<table border=\"1\" class=\"dataframe\">\n",
       "  <thead>\n",
       "    <tr style=\"text-align: right;\">\n",
       "      <th></th>\n",
       "      <th>customer_id</th>\n",
       "      <th>gender</th>\n",
       "    </tr>\n",
       "  </thead>\n",
       "  <tbody>\n",
       "    <tr>\n",
       "      <th>0</th>\n",
       "      <td>75562265</td>\n",
       "      <td>0</td>\n",
       "    </tr>\n",
       "    <tr>\n",
       "      <th>1</th>\n",
       "      <td>10928546</td>\n",
       "      <td>1</td>\n",
       "    </tr>\n",
       "    <tr>\n",
       "      <th>2</th>\n",
       "      <td>69348468</td>\n",
       "      <td>1</td>\n",
       "    </tr>\n",
       "    <tr>\n",
       "      <th>3</th>\n",
       "      <td>84816985</td>\n",
       "      <td>1</td>\n",
       "    </tr>\n",
       "    <tr>\n",
       "      <th>4</th>\n",
       "      <td>61009479</td>\n",
       "      <td>0</td>\n",
       "    </tr>\n",
       "  </tbody>\n",
       "</table>\n",
       "</div>"
      ],
      "text/plain": [
       "   customer_id  gender\n",
       "0     75562265       0\n",
       "1     10928546       1\n",
       "2     69348468       1\n",
       "3     84816985       1\n",
       "4     61009479       0"
      ]
     },
     "execution_count": 45,
     "metadata": {},
     "output_type": "execute_result"
    }
   ],
   "source": [
    "df_gender = pd.read_csv('data/customers_gender_train.csv')\n",
    "df_gender.head()"
   ]
  },
  {
   "cell_type": "markdown",
   "metadata": {},
   "source": [
    "Это сами транзакции (отрицательные транзакции - списывание, положительные - зачисление на счет)"
   ]
  },
  {
   "cell_type": "code",
   "execution_count": 46,
   "metadata": {},
   "outputs": [
    {
     "data": {
      "text/html": [
       "<div>\n",
       "<style>\n",
       "    .dataframe thead tr:only-child th {\n",
       "        text-align: right;\n",
       "    }\n",
       "\n",
       "    .dataframe thead th {\n",
       "        text-align: left;\n",
       "    }\n",
       "\n",
       "    .dataframe tbody tr th {\n",
       "        vertical-align: top;\n",
       "    }\n",
       "</style>\n",
       "<table border=\"1\" class=\"dataframe\">\n",
       "  <thead>\n",
       "    <tr style=\"text-align: right;\">\n",
       "      <th></th>\n",
       "      <th>customer_id</th>\n",
       "      <th>tr_datetime</th>\n",
       "      <th>mcc_code</th>\n",
       "      <th>tr_type</th>\n",
       "      <th>amount</th>\n",
       "      <th>term_id</th>\n",
       "    </tr>\n",
       "  </thead>\n",
       "  <tbody>\n",
       "    <tr>\n",
       "      <th>0</th>\n",
       "      <td>39026145</td>\n",
       "      <td>0 10:23:26</td>\n",
       "      <td>4814</td>\n",
       "      <td>1030</td>\n",
       "      <td>-2245.92</td>\n",
       "      <td>NaN</td>\n",
       "    </tr>\n",
       "    <tr>\n",
       "      <th>1</th>\n",
       "      <td>39026145</td>\n",
       "      <td>1 10:19:29</td>\n",
       "      <td>6011</td>\n",
       "      <td>7010</td>\n",
       "      <td>56147.89</td>\n",
       "      <td>NaN</td>\n",
       "    </tr>\n",
       "    <tr>\n",
       "      <th>2</th>\n",
       "      <td>39026145</td>\n",
       "      <td>1 10:20:56</td>\n",
       "      <td>4829</td>\n",
       "      <td>2330</td>\n",
       "      <td>-56147.89</td>\n",
       "      <td>NaN</td>\n",
       "    </tr>\n",
       "    <tr>\n",
       "      <th>3</th>\n",
       "      <td>39026145</td>\n",
       "      <td>1 10:39:54</td>\n",
       "      <td>5499</td>\n",
       "      <td>1010</td>\n",
       "      <td>-1392.47</td>\n",
       "      <td>NaN</td>\n",
       "    </tr>\n",
       "    <tr>\n",
       "      <th>4</th>\n",
       "      <td>39026145</td>\n",
       "      <td>2 15:33:42</td>\n",
       "      <td>5499</td>\n",
       "      <td>1010</td>\n",
       "      <td>-920.83</td>\n",
       "      <td>NaN</td>\n",
       "    </tr>\n",
       "  </tbody>\n",
       "</table>\n",
       "</div>"
      ],
      "text/plain": [
       "   customer_id tr_datetime  mcc_code  tr_type    amount term_id\n",
       "0     39026145  0 10:23:26      4814     1030  -2245.92     NaN\n",
       "1     39026145  1 10:19:29      6011     7010  56147.89     NaN\n",
       "2     39026145  1 10:20:56      4829     2330 -56147.89     NaN\n",
       "3     39026145  1 10:39:54      5499     1010  -1392.47     NaN\n",
       "4     39026145  2 15:33:42      5499     1010   -920.83     NaN"
      ]
     },
     "execution_count": 46,
     "metadata": {},
     "output_type": "execute_result"
    }
   ],
   "source": [
    "df_transactions = pd.read_csv('data/transactions.csv.gz')\n",
    "df_transactions.head()"
   ]
  },
  {
   "cell_type": "markdown",
   "metadata": {},
   "source": [
    "Далее, расшифровки кодов [mcc](https://ru.wikipedia.org/wiki/Merchant_Category_Code) и транзакций"
   ]
  },
  {
   "cell_type": "code",
   "execution_count": 47,
   "metadata": {},
   "outputs": [
    {
     "data": {
      "text/html": [
       "<div>\n",
       "<style>\n",
       "    .dataframe thead tr:only-child th {\n",
       "        text-align: right;\n",
       "    }\n",
       "\n",
       "    .dataframe thead th {\n",
       "        text-align: left;\n",
       "    }\n",
       "\n",
       "    .dataframe tbody tr th {\n",
       "        vertical-align: top;\n",
       "    }\n",
       "</style>\n",
       "<table border=\"1\" class=\"dataframe\">\n",
       "  <thead>\n",
       "    <tr style=\"text-align: right;\">\n",
       "      <th></th>\n",
       "      <th>tr_type</th>\n",
       "      <th>tr_description</th>\n",
       "    </tr>\n",
       "  </thead>\n",
       "  <tbody>\n",
       "    <tr>\n",
       "      <th>0</th>\n",
       "      <td>3200</td>\n",
       "      <td>Плата за предоставление услуг посредством моби...</td>\n",
       "    </tr>\n",
       "    <tr>\n",
       "      <th>1</th>\n",
       "      <td>3210</td>\n",
       "      <td>Плата за предоставление отчета по счету карты ...</td>\n",
       "    </tr>\n",
       "    <tr>\n",
       "      <th>2</th>\n",
       "      <td>3800</td>\n",
       "      <td>Плата за обслуживание банковской карты (за пер...</td>\n",
       "    </tr>\n",
       "    <tr>\n",
       "      <th>3</th>\n",
       "      <td>4000</td>\n",
       "      <td>Плата за получение наличных в Сбербанке</td>\n",
       "    </tr>\n",
       "    <tr>\n",
       "      <th>4</th>\n",
       "      <td>4001</td>\n",
       "      <td>Плата за получение наличных в Сбербанке (в дру...</td>\n",
       "    </tr>\n",
       "  </tbody>\n",
       "</table>\n",
       "</div>"
      ],
      "text/plain": [
       "   tr_type                                     tr_description\n",
       "0     3200  Плата за предоставление услуг посредством моби...\n",
       "1     3210  Плата за предоставление отчета по счету карты ...\n",
       "2     3800  Плата за обслуживание банковской карты (за пер...\n",
       "3     4000            Плата за получение наличных в Сбербанке\n",
       "4     4001  Плата за получение наличных в Сбербанке (в дру..."
      ]
     },
     "execution_count": 47,
     "metadata": {},
     "output_type": "execute_result"
    }
   ],
   "source": [
    "df_tr = pd.read_csv('data/tr_types.csv', sep=';', encoding='utf8')\n",
    "df_tr.head()"
   ]
  },
  {
   "cell_type": "code",
   "execution_count": 48,
   "metadata": {},
   "outputs": [
    {
     "data": {
      "text/html": [
       "<div>\n",
       "<style>\n",
       "    .dataframe thead tr:only-child th {\n",
       "        text-align: right;\n",
       "    }\n",
       "\n",
       "    .dataframe thead th {\n",
       "        text-align: left;\n",
       "    }\n",
       "\n",
       "    .dataframe tbody tr th {\n",
       "        vertical-align: top;\n",
       "    }\n",
       "</style>\n",
       "<table border=\"1\" class=\"dataframe\">\n",
       "  <thead>\n",
       "    <tr style=\"text-align: right;\">\n",
       "      <th></th>\n",
       "      <th>mcc_code</th>\n",
       "      <th>mcc_description</th>\n",
       "    </tr>\n",
       "  </thead>\n",
       "  <tbody>\n",
       "    <tr>\n",
       "      <th>0</th>\n",
       "      <td>742</td>\n",
       "      <td>Ветеринарные услуги</td>\n",
       "    </tr>\n",
       "    <tr>\n",
       "      <th>1</th>\n",
       "      <td>1711</td>\n",
       "      <td>Генеральные подрядчики по вентиляции, теплосна...</td>\n",
       "    </tr>\n",
       "    <tr>\n",
       "      <th>2</th>\n",
       "      <td>1731</td>\n",
       "      <td>Подрядчики по электричеству</td>\n",
       "    </tr>\n",
       "    <tr>\n",
       "      <th>3</th>\n",
       "      <td>1799</td>\n",
       "      <td>Подрядчики, специализированная торговля — нигд...</td>\n",
       "    </tr>\n",
       "    <tr>\n",
       "      <th>4</th>\n",
       "      <td>2741</td>\n",
       "      <td>Разнообразные издательства/печатное дело</td>\n",
       "    </tr>\n",
       "  </tbody>\n",
       "</table>\n",
       "</div>"
      ],
      "text/plain": [
       "   mcc_code                                    mcc_description\n",
       "0       742                                Ветеринарные услуги\n",
       "1      1711  Генеральные подрядчики по вентиляции, теплосна...\n",
       "2      1731                        Подрядчики по электричеству\n",
       "3      1799  Подрядчики, специализированная торговля — нигд...\n",
       "4      2741           Разнообразные издательства/печатное дело"
      ]
     },
     "execution_count": 48,
     "metadata": {},
     "output_type": "execute_result"
    }
   ],
   "source": [
    "df_mcc = pd.read_csv('data/tr_mcc_codes.csv', sep=';', encoding='utf8')\n",
    "df_mcc.head()"
   ]
  },
  {
   "cell_type": "markdown",
   "metadata": {},
   "source": [
    "Первое что мы видем - это странная дата и суммы в транзакциях. \n",
    "\n",
    "В принципе, посмотрев на исходное распределение \"относительных\" дат по какой-нибудь гендерной группы mcc, становится примерно понятно, что за даты закодированы.\n",
    "\n",
    "Ну а суммы транзакций организаторы просто умножили на $\\pi^{\\exp}$ =)\n",
    "\n",
    "Преобразование будет проделано ниже, но при желании, можете сами со всем разобраться."
   ]
  },
  {
   "cell_type": "code",
   "execution_count": 49,
   "metadata": {
    "collapsed": true
   },
   "outputs": [],
   "source": [
    "from pandas import Timestamp, DateOffset"
   ]
  },
  {
   "cell_type": "code",
   "execution_count": 50,
   "metadata": {
    "collapsed": true
   },
   "outputs": [],
   "source": [
    "def preproc_transactions(df_transactions):\n",
    "    sec_per_day = 86400\n",
    "    sec_per_hour = 3600\n",
    "    \n",
    "    start_date = 1420070400 - 154 * sec_per_day - 3 * sec_per_hour\n",
    "    \n",
    "    df_transactions.loc[:, 'day'] = df_transactions.tr_datetime\\\n",
    "                                               .str.split(' ')\\\n",
    "                                               .str.get(0)\\\n",
    "                                               .astype(int)\n",
    "    df_transactions.loc[:, 'time_raw'] = df_transactions.tr_datetime\\\n",
    "                                                    .str.split(' ')\\\n",
    "                                                    .str.get(1)\n",
    "\n",
    "    # set temp dt\n",
    "    df_transactions.loc[:, 'dt_temp'] = pd.to_datetime(df_transactions.loc[:, 'time_raw'], \n",
    "                                                    format='%H:%M:%S')\\\n",
    "                                        + DateOffset(years=115)\n",
    "    \n",
    "    df_transactions = df_transactions.assign(dt = lambda x: x.dt_temp.astype(np.int64) // 10**9\n",
    "                                             + (x.day - 153) * sec_per_day)\\\n",
    "                                     .assign(weekday = lambda x: ((x.day + 4) % 7 + 1))\n",
    "        \n",
    "    df_transactions.loc[:, 'datetime'] = pd.to_datetime(df_transactions.dt, unit='s')\n",
    "    df_transactions.loc[:, 'date'] = df_transactions.loc[:, 'datetime'].dt.strftime('%Y-%m-%d')\n",
    "    df_transactions.loc[:, 'hour'] = df_transactions.loc[:, 'datetime'].dt.strftime('%H')\n",
    "    \n",
    "    df_transactions = df_transactions.drop(['dt_temp', 'time_raw', 'tr_datetime'], axis=1)\n",
    "    \n",
    "    df_transactions.loc[:, 'amount'] = np.round(df_transactions.loc[:, 'amount']/(np.pi**np.exp(1)))\n",
    "            \n",
    "    return df_transactions"
   ]
  },
  {
   "cell_type": "code",
   "execution_count": 51,
   "metadata": {
    "collapsed": true
   },
   "outputs": [],
   "source": [
    "df_transactions = df_transactions.pipe(preproc_transactions)"
   ]
  },
  {
   "cell_type": "code",
   "execution_count": 52,
   "metadata": {},
   "outputs": [
    {
     "data": {
      "text/html": [
       "<div>\n",
       "<style>\n",
       "    .dataframe thead tr:only-child th {\n",
       "        text-align: right;\n",
       "    }\n",
       "\n",
       "    .dataframe thead th {\n",
       "        text-align: left;\n",
       "    }\n",
       "\n",
       "    .dataframe tbody tr th {\n",
       "        vertical-align: top;\n",
       "    }\n",
       "</style>\n",
       "<table border=\"1\" class=\"dataframe\">\n",
       "  <thead>\n",
       "    <tr style=\"text-align: right;\">\n",
       "      <th></th>\n",
       "      <th>customer_id</th>\n",
       "      <th>mcc_code</th>\n",
       "      <th>tr_type</th>\n",
       "      <th>amount</th>\n",
       "      <th>term_id</th>\n",
       "      <th>day</th>\n",
       "      <th>dt</th>\n",
       "      <th>weekday</th>\n",
       "      <th>datetime</th>\n",
       "      <th>date</th>\n",
       "      <th>hour</th>\n",
       "    </tr>\n",
       "  </thead>\n",
       "  <tbody>\n",
       "    <tr>\n",
       "      <th>0</th>\n",
       "      <td>39026145</td>\n",
       "      <td>4814</td>\n",
       "      <td>1030</td>\n",
       "      <td>-100.0</td>\n",
       "      <td>NaN</td>\n",
       "      <td>0</td>\n",
       "      <td>1406888606</td>\n",
       "      <td>5</td>\n",
       "      <td>2014-08-01 10:23:26</td>\n",
       "      <td>2014-08-01</td>\n",
       "      <td>10</td>\n",
       "    </tr>\n",
       "    <tr>\n",
       "      <th>1</th>\n",
       "      <td>39026145</td>\n",
       "      <td>6011</td>\n",
       "      <td>7010</td>\n",
       "      <td>2500.0</td>\n",
       "      <td>NaN</td>\n",
       "      <td>1</td>\n",
       "      <td>1406974769</td>\n",
       "      <td>6</td>\n",
       "      <td>2014-08-02 10:19:29</td>\n",
       "      <td>2014-08-02</td>\n",
       "      <td>10</td>\n",
       "    </tr>\n",
       "    <tr>\n",
       "      <th>2</th>\n",
       "      <td>39026145</td>\n",
       "      <td>4829</td>\n",
       "      <td>2330</td>\n",
       "      <td>-2500.0</td>\n",
       "      <td>NaN</td>\n",
       "      <td>1</td>\n",
       "      <td>1406974856</td>\n",
       "      <td>6</td>\n",
       "      <td>2014-08-02 10:20:56</td>\n",
       "      <td>2014-08-02</td>\n",
       "      <td>10</td>\n",
       "    </tr>\n",
       "    <tr>\n",
       "      <th>3</th>\n",
       "      <td>39026145</td>\n",
       "      <td>5499</td>\n",
       "      <td>1010</td>\n",
       "      <td>-62.0</td>\n",
       "      <td>NaN</td>\n",
       "      <td>1</td>\n",
       "      <td>1406975994</td>\n",
       "      <td>6</td>\n",
       "      <td>2014-08-02 10:39:54</td>\n",
       "      <td>2014-08-02</td>\n",
       "      <td>10</td>\n",
       "    </tr>\n",
       "    <tr>\n",
       "      <th>4</th>\n",
       "      <td>39026145</td>\n",
       "      <td>5499</td>\n",
       "      <td>1010</td>\n",
       "      <td>-41.0</td>\n",
       "      <td>NaN</td>\n",
       "      <td>2</td>\n",
       "      <td>1407080022</td>\n",
       "      <td>7</td>\n",
       "      <td>2014-08-03 15:33:42</td>\n",
       "      <td>2014-08-03</td>\n",
       "      <td>15</td>\n",
       "    </tr>\n",
       "  </tbody>\n",
       "</table>\n",
       "</div>"
      ],
      "text/plain": [
       "   customer_id  mcc_code  tr_type  amount term_id  day          dt  weekday  \\\n",
       "0     39026145      4814     1030  -100.0     NaN    0  1406888606        5   \n",
       "1     39026145      6011     7010  2500.0     NaN    1  1406974769        6   \n",
       "2     39026145      4829     2330 -2500.0     NaN    1  1406974856        6   \n",
       "3     39026145      5499     1010   -62.0     NaN    1  1406975994        6   \n",
       "4     39026145      5499     1010   -41.0     NaN    2  1407080022        7   \n",
       "\n",
       "             datetime        date hour  \n",
       "0 2014-08-01 10:23:26  2014-08-01   10  \n",
       "1 2014-08-02 10:19:29  2014-08-02   10  \n",
       "2 2014-08-02 10:20:56  2014-08-02   10  \n",
       "3 2014-08-02 10:39:54  2014-08-02   10  \n",
       "4 2014-08-03 15:33:42  2014-08-03   15  "
      ]
     },
     "execution_count": 52,
     "metadata": {},
     "output_type": "execute_result"
    }
   ],
   "source": [
    "df_transactions.head()"
   ]
  },
  {
   "cell_type": "markdown",
   "metadata": {},
   "source": [
    "## Генерим признаки"
   ]
  },
  {
   "cell_type": "markdown",
   "metadata": {},
   "source": [
    "* Для котого мы делаем предсказания?\n",
    "* Какие признаки этих объектов мы можем рассчитать?"
   ]
  },
  {
   "cell_type": "code",
   "execution_count": 53,
   "metadata": {},
   "outputs": [
    {
     "data": {
      "text/html": [
       "<div>\n",
       "<style>\n",
       "    .dataframe thead tr:only-child th {\n",
       "        text-align: right;\n",
       "    }\n",
       "\n",
       "    .dataframe thead th {\n",
       "        text-align: left;\n",
       "    }\n",
       "\n",
       "    .dataframe tbody tr th {\n",
       "        vertical-align: top;\n",
       "    }\n",
       "</style>\n",
       "<table border=\"1\" class=\"dataframe\">\n",
       "  <thead>\n",
       "    <tr style=\"text-align: right;\">\n",
       "      <th></th>\n",
       "      <th>customer_id</th>\n",
       "      <th>mcc_code</th>\n",
       "      <th>tr_type</th>\n",
       "      <th>amount</th>\n",
       "      <th>term_id</th>\n",
       "      <th>day</th>\n",
       "      <th>dt</th>\n",
       "      <th>weekday</th>\n",
       "      <th>datetime</th>\n",
       "      <th>date</th>\n",
       "      <th>hour</th>\n",
       "    </tr>\n",
       "  </thead>\n",
       "  <tbody>\n",
       "    <tr>\n",
       "      <th>0</th>\n",
       "      <td>39026145</td>\n",
       "      <td>4814</td>\n",
       "      <td>1030</td>\n",
       "      <td>-100.0</td>\n",
       "      <td>NaN</td>\n",
       "      <td>0</td>\n",
       "      <td>1406888606</td>\n",
       "      <td>5</td>\n",
       "      <td>2014-08-01 10:23:26</td>\n",
       "      <td>2014-08-01</td>\n",
       "      <td>10</td>\n",
       "    </tr>\n",
       "    <tr>\n",
       "      <th>1</th>\n",
       "      <td>39026145</td>\n",
       "      <td>6011</td>\n",
       "      <td>7010</td>\n",
       "      <td>2500.0</td>\n",
       "      <td>NaN</td>\n",
       "      <td>1</td>\n",
       "      <td>1406974769</td>\n",
       "      <td>6</td>\n",
       "      <td>2014-08-02 10:19:29</td>\n",
       "      <td>2014-08-02</td>\n",
       "      <td>10</td>\n",
       "    </tr>\n",
       "    <tr>\n",
       "      <th>2</th>\n",
       "      <td>39026145</td>\n",
       "      <td>4829</td>\n",
       "      <td>2330</td>\n",
       "      <td>-2500.0</td>\n",
       "      <td>NaN</td>\n",
       "      <td>1</td>\n",
       "      <td>1406974856</td>\n",
       "      <td>6</td>\n",
       "      <td>2014-08-02 10:20:56</td>\n",
       "      <td>2014-08-02</td>\n",
       "      <td>10</td>\n",
       "    </tr>\n",
       "    <tr>\n",
       "      <th>3</th>\n",
       "      <td>39026145</td>\n",
       "      <td>5499</td>\n",
       "      <td>1010</td>\n",
       "      <td>-62.0</td>\n",
       "      <td>NaN</td>\n",
       "      <td>1</td>\n",
       "      <td>1406975994</td>\n",
       "      <td>6</td>\n",
       "      <td>2014-08-02 10:39:54</td>\n",
       "      <td>2014-08-02</td>\n",
       "      <td>10</td>\n",
       "    </tr>\n",
       "    <tr>\n",
       "      <th>4</th>\n",
       "      <td>39026145</td>\n",
       "      <td>5499</td>\n",
       "      <td>1010</td>\n",
       "      <td>-41.0</td>\n",
       "      <td>NaN</td>\n",
       "      <td>2</td>\n",
       "      <td>1407080022</td>\n",
       "      <td>7</td>\n",
       "      <td>2014-08-03 15:33:42</td>\n",
       "      <td>2014-08-03</td>\n",
       "      <td>15</td>\n",
       "    </tr>\n",
       "  </tbody>\n",
       "</table>\n",
       "</div>"
      ],
      "text/plain": [
       "   customer_id  mcc_code  tr_type  amount term_id  day          dt  weekday  \\\n",
       "0     39026145      4814     1030  -100.0     NaN    0  1406888606        5   \n",
       "1     39026145      6011     7010  2500.0     NaN    1  1406974769        6   \n",
       "2     39026145      4829     2330 -2500.0     NaN    1  1406974856        6   \n",
       "3     39026145      5499     1010   -62.0     NaN    1  1406975994        6   \n",
       "4     39026145      5499     1010   -41.0     NaN    2  1407080022        7   \n",
       "\n",
       "             datetime        date hour  \n",
       "0 2014-08-01 10:23:26  2014-08-01   10  \n",
       "1 2014-08-02 10:19:29  2014-08-02   10  \n",
       "2 2014-08-02 10:20:56  2014-08-02   10  \n",
       "3 2014-08-02 10:39:54  2014-08-02   10  \n",
       "4 2014-08-03 15:33:42  2014-08-03   15  "
      ]
     },
     "execution_count": 53,
     "metadata": {},
     "output_type": "execute_result"
    }
   ],
   "source": [
    "df_transactions.head()"
   ]
  },
  {
   "cell_type": "code",
   "execution_count": 54,
   "metadata": {
    "collapsed": true
   },
   "outputs": [],
   "source": [
    "def gen_features(df_gender, df_transactions):\n",
    "    df_mcc_features = \\\n",
    "    df_transactions.query('amount < 0')\\\n",
    "           .pivot_table(index='customer_id', aggfunc='mean',\n",
    "                        values='amount', \n",
    "                        columns=['mcc_code'])\\\n",
    "           .rename_axis(lambda x: 'mcc_code={}'.format(x), axis=1)\n",
    "            \n",
    "    df_weekday_features = \\\n",
    "    df_transactions.query('amount < 0')\\\n",
    "                   .pivot_table(index='customer_id',\n",
    "                                aggfunc='count',\n",
    "                                columns=['weekday'],\n",
    "                                values='amount')\n",
    "\n",
    "    total = df_weekday_features.sum(axis=1) \n",
    "    \n",
    "    df_weekday_features = ((df_weekday_features.T)/total).T\n",
    "    \n",
    "    df_features = df_gender.join(df_mcc_features, \n",
    "                                 on='customer_id', \n",
    "                                 how='left')\\\n",
    "                           .join(df_weekday_features, \n",
    "                                 on='customer_id', \n",
    "                                 how='left')\\\n",
    "                           .fillna(0.0)\n",
    "    \n",
    "    return df_features"
   ]
  },
  {
   "cell_type": "code",
   "execution_count": 55,
   "metadata": {
    "collapsed": true
   },
   "outputs": [],
   "source": [
    "df_features = df_gender.pipe(gen_features, df_transactions)"
   ]
  },
  {
   "cell_type": "code",
   "execution_count": 56,
   "metadata": {},
   "outputs": [
    {
     "data": {
      "text/html": [
       "<div>\n",
       "<style>\n",
       "    .dataframe thead tr:only-child th {\n",
       "        text-align: right;\n",
       "    }\n",
       "\n",
       "    .dataframe thead th {\n",
       "        text-align: left;\n",
       "    }\n",
       "\n",
       "    .dataframe tbody tr th {\n",
       "        vertical-align: top;\n",
       "    }\n",
       "</style>\n",
       "<table border=\"1\" class=\"dataframe\">\n",
       "  <thead>\n",
       "    <tr style=\"text-align: right;\">\n",
       "      <th></th>\n",
       "      <th>customer_id</th>\n",
       "      <th>gender</th>\n",
       "      <th>mcc_code=742</th>\n",
       "      <th>mcc_code=1711</th>\n",
       "      <th>mcc_code=1731</th>\n",
       "      <th>mcc_code=1799</th>\n",
       "      <th>mcc_code=2741</th>\n",
       "      <th>mcc_code=3000</th>\n",
       "      <th>mcc_code=3351</th>\n",
       "      <th>mcc_code=3501</th>\n",
       "      <th>...</th>\n",
       "      <th>mcc_code=9311</th>\n",
       "      <th>mcc_code=9399</th>\n",
       "      <th>mcc_code=9402</th>\n",
       "      <th>1</th>\n",
       "      <th>2</th>\n",
       "      <th>3</th>\n",
       "      <th>4</th>\n",
       "      <th>5</th>\n",
       "      <th>6</th>\n",
       "      <th>7</th>\n",
       "    </tr>\n",
       "  </thead>\n",
       "  <tbody>\n",
       "    <tr>\n",
       "      <th>0</th>\n",
       "      <td>75562265</td>\n",
       "      <td>0</td>\n",
       "      <td>0.0</td>\n",
       "      <td>0.0</td>\n",
       "      <td>0.0</td>\n",
       "      <td>0.0</td>\n",
       "      <td>0.0</td>\n",
       "      <td>0.0</td>\n",
       "      <td>0.0</td>\n",
       "      <td>0.0</td>\n",
       "      <td>...</td>\n",
       "      <td>0.0</td>\n",
       "      <td>0.0</td>\n",
       "      <td>0.0</td>\n",
       "      <td>0.156134</td>\n",
       "      <td>0.122677</td>\n",
       "      <td>0.159851</td>\n",
       "      <td>0.130112</td>\n",
       "      <td>0.171004</td>\n",
       "      <td>0.118959</td>\n",
       "      <td>0.141264</td>\n",
       "    </tr>\n",
       "    <tr>\n",
       "      <th>1</th>\n",
       "      <td>10928546</td>\n",
       "      <td>1</td>\n",
       "      <td>0.0</td>\n",
       "      <td>0.0</td>\n",
       "      <td>0.0</td>\n",
       "      <td>0.0</td>\n",
       "      <td>0.0</td>\n",
       "      <td>0.0</td>\n",
       "      <td>0.0</td>\n",
       "      <td>0.0</td>\n",
       "      <td>...</td>\n",
       "      <td>0.0</td>\n",
       "      <td>-1740.0</td>\n",
       "      <td>0.0</td>\n",
       "      <td>0.159544</td>\n",
       "      <td>0.170940</td>\n",
       "      <td>0.118234</td>\n",
       "      <td>0.185185</td>\n",
       "      <td>0.158120</td>\n",
       "      <td>0.099715</td>\n",
       "      <td>0.108262</td>\n",
       "    </tr>\n",
       "    <tr>\n",
       "      <th>2</th>\n",
       "      <td>69348468</td>\n",
       "      <td>1</td>\n",
       "      <td>0.0</td>\n",
       "      <td>0.0</td>\n",
       "      <td>0.0</td>\n",
       "      <td>0.0</td>\n",
       "      <td>0.0</td>\n",
       "      <td>0.0</td>\n",
       "      <td>0.0</td>\n",
       "      <td>0.0</td>\n",
       "      <td>...</td>\n",
       "      <td>0.0</td>\n",
       "      <td>0.0</td>\n",
       "      <td>0.0</td>\n",
       "      <td>0.150115</td>\n",
       "      <td>0.150115</td>\n",
       "      <td>0.133949</td>\n",
       "      <td>0.131640</td>\n",
       "      <td>0.173210</td>\n",
       "      <td>0.131640</td>\n",
       "      <td>0.129330</td>\n",
       "    </tr>\n",
       "    <tr>\n",
       "      <th>3</th>\n",
       "      <td>84816985</td>\n",
       "      <td>1</td>\n",
       "      <td>0.0</td>\n",
       "      <td>0.0</td>\n",
       "      <td>0.0</td>\n",
       "      <td>0.0</td>\n",
       "      <td>0.0</td>\n",
       "      <td>0.0</td>\n",
       "      <td>0.0</td>\n",
       "      <td>0.0</td>\n",
       "      <td>...</td>\n",
       "      <td>0.0</td>\n",
       "      <td>0.0</td>\n",
       "      <td>0.0</td>\n",
       "      <td>0.189189</td>\n",
       "      <td>0.189189</td>\n",
       "      <td>0.229730</td>\n",
       "      <td>0.121622</td>\n",
       "      <td>0.040541</td>\n",
       "      <td>0.135135</td>\n",
       "      <td>0.094595</td>\n",
       "    </tr>\n",
       "    <tr>\n",
       "      <th>4</th>\n",
       "      <td>61009479</td>\n",
       "      <td>0</td>\n",
       "      <td>0.0</td>\n",
       "      <td>0.0</td>\n",
       "      <td>0.0</td>\n",
       "      <td>0.0</td>\n",
       "      <td>0.0</td>\n",
       "      <td>0.0</td>\n",
       "      <td>0.0</td>\n",
       "      <td>0.0</td>\n",
       "      <td>...</td>\n",
       "      <td>0.0</td>\n",
       "      <td>0.0</td>\n",
       "      <td>0.0</td>\n",
       "      <td>0.133152</td>\n",
       "      <td>0.160326</td>\n",
       "      <td>0.171196</td>\n",
       "      <td>0.138587</td>\n",
       "      <td>0.152174</td>\n",
       "      <td>0.125000</td>\n",
       "      <td>0.119565</td>\n",
       "    </tr>\n",
       "  </tbody>\n",
       "</table>\n",
       "<p>5 rows × 193 columns</p>\n",
       "</div>"
      ],
      "text/plain": [
       "   customer_id  gender  mcc_code=742  mcc_code=1711  mcc_code=1731  \\\n",
       "0     75562265       0           0.0            0.0            0.0   \n",
       "1     10928546       1           0.0            0.0            0.0   \n",
       "2     69348468       1           0.0            0.0            0.0   \n",
       "3     84816985       1           0.0            0.0            0.0   \n",
       "4     61009479       0           0.0            0.0            0.0   \n",
       "\n",
       "   mcc_code=1799  mcc_code=2741  mcc_code=3000  mcc_code=3351  mcc_code=3501  \\\n",
       "0            0.0            0.0            0.0            0.0            0.0   \n",
       "1            0.0            0.0            0.0            0.0            0.0   \n",
       "2            0.0            0.0            0.0            0.0            0.0   \n",
       "3            0.0            0.0            0.0            0.0            0.0   \n",
       "4            0.0            0.0            0.0            0.0            0.0   \n",
       "\n",
       "     ...     mcc_code=9311  mcc_code=9399  mcc_code=9402         1         2  \\\n",
       "0    ...               0.0            0.0            0.0  0.156134  0.122677   \n",
       "1    ...               0.0        -1740.0            0.0  0.159544  0.170940   \n",
       "2    ...               0.0            0.0            0.0  0.150115  0.150115   \n",
       "3    ...               0.0            0.0            0.0  0.189189  0.189189   \n",
       "4    ...               0.0            0.0            0.0  0.133152  0.160326   \n",
       "\n",
       "          3         4         5         6         7  \n",
       "0  0.159851  0.130112  0.171004  0.118959  0.141264  \n",
       "1  0.118234  0.185185  0.158120  0.099715  0.108262  \n",
       "2  0.133949  0.131640  0.173210  0.131640  0.129330  \n",
       "3  0.229730  0.121622  0.040541  0.135135  0.094595  \n",
       "4  0.171196  0.138587  0.152174  0.125000  0.119565  \n",
       "\n",
       "[5 rows x 193 columns]"
      ]
     },
     "execution_count": 56,
     "metadata": {},
     "output_type": "execute_result"
    }
   ],
   "source": [
    "df_features.head()"
   ]
  },
  {
   "cell_type": "code",
   "execution_count": 57,
   "metadata": {
    "collapsed": true
   },
   "outputs": [],
   "source": [
    "X = df_features.iloc[:, 2:].values\n",
    "y = df_features.iloc[:, 1].values"
   ]
  },
  {
   "cell_type": "markdown",
   "metadata": {},
   "source": [
    "## Подбор гипер-параметров"
   ]
  },
  {
   "cell_type": "markdown",
   "metadata": {
    "collapsed": true
   },
   "source": [
    "### Pipeline"
   ]
  },
  {
   "cell_type": "markdown",
   "metadata": {},
   "source": [
    "Сделаем простой sklearn пайплайн, который делает следующее:\n",
    "* Нормирует признаки через StandartScaler\n",
    "* Запускает лог-регрессию"
   ]
  },
  {
   "cell_type": "code",
   "execution_count": 58,
   "metadata": {
    "collapsed": true
   },
   "outputs": [],
   "source": [
    "from sklearn.pipeline import Pipeline, FeatureUnion\n",
    "from sklearn.preprocessing import OneHotEncoder, StandardScaler\n",
    "\n",
    "\n",
    "from sklearn.linear_model import LogisticRegression"
   ]
  },
  {
   "cell_type": "code",
   "execution_count": 59,
   "metadata": {
    "collapsed": true
   },
   "outputs": [],
   "source": [
    "model = Pipeline([\n",
    "    ('scaler', StandardScaler()),\n",
    "    ('clf', LogisticRegression())\n",
    "])"
   ]
  },
  {
   "cell_type": "code",
   "execution_count": 60,
   "metadata": {
    "collapsed": true
   },
   "outputs": [],
   "source": [
    "RND_SEED = 123"
   ]
  },
  {
   "cell_type": "markdown",
   "metadata": {},
   "source": [
    "До этого мы исключительно смотрели, как влияет на меру качества какой-то один параметр при фиксированных остальных. Пришло время перебирать все что можно!\n",
    "\n",
    "В базовом варианте, это делается либо через `Grid Search`, либо через `Random Search`. Какие ключевые отличия?\n",
    "* В `Grid Search` вы в явнов виде задаете возможные значения каждого гипер-параметра, который хотите варьировать. Соответственно, выполняется **полный** перебор всех возможных комбинаций\n",
    "* В `Random Search` допукается указание распределения параметров, например \"равномерно, на интервале от 0 до 100\" или \"нормальное распределение с таким-то цетром и такой-то дисперсией. Соответственно, так как это случайный перебор, то **вы** просто **задаете** количество случайных комбинаций, которые будут проверяться\n",
    "\n",
    "Может показаться, что делать случайный перебор опасно - там же все случайно. Но на практике именно он и искользуется в силу двух причин\n",
    "* Полный перебор большого количества комбинаций очень долгий\n",
    "* Мы можем просто пропустить значения гиперпараметра, которые сильно влияют на метрику качества (см рисунок снизу)\n",
    "\n",
    "<img src='images/gridsearch.jpeg'>"
   ]
  },
  {
   "cell_type": "code",
   "execution_count": 61,
   "metadata": {
    "collapsed": true
   },
   "outputs": [],
   "source": [
    "from sklearn.model_selection import StratifiedKFold\n",
    "from sklearn.model_selection import RandomizedSearchCV"
   ]
  },
  {
   "cell_type": "code",
   "execution_count": 62,
   "metadata": {
    "collapsed": true
   },
   "outputs": [],
   "source": [
    "from scipy.stats import lognorm as sp_lognorm"
   ]
  },
  {
   "cell_type": "code",
   "execution_count": 63,
   "metadata": {
    "collapsed": true
   },
   "outputs": [],
   "source": [
    "cv = StratifiedKFold(n_splits=5, \n",
    "                     random_state=RND_SEED, shuffle=True)"
   ]
  },
  {
   "cell_type": "code",
   "execution_count": 64,
   "metadata": {},
   "outputs": [
    {
     "name": "stdout",
     "output_type": "stream",
     "text": [
      "Fitting 5 folds for each of 100 candidates, totalling 500 fits\n",
      "[CV] clf__penalty=l2, clf__C=0.0385079020806, clf__random_state=123, scaler__with_mean=False \n",
      "[CV]  clf__penalty=l2, clf__C=0.0385079020806, clf__random_state=123, scaler__with_mean=False, total=   0.3s\n",
      "[CV] clf__penalty=l2, clf__C=0.0385079020806, clf__random_state=123, scaler__with_mean=False \n"
     ]
    },
    {
     "name": "stderr",
     "output_type": "stream",
     "text": [
      "[Parallel(n_jobs=1)]: Done   1 out of   1 | elapsed:    0.5s remaining:    0.0s\n"
     ]
    },
    {
     "name": "stdout",
     "output_type": "stream",
     "text": [
      "[CV]  clf__penalty=l2, clf__C=0.0385079020806, clf__random_state=123, scaler__with_mean=False, total=   0.2s\n",
      "[CV] clf__penalty=l2, clf__C=0.0385079020806, clf__random_state=123, scaler__with_mean=False \n",
      "[CV]  clf__penalty=l2, clf__C=0.0385079020806, clf__random_state=123, scaler__with_mean=False, total=   0.2s\n",
      "[CV] clf__penalty=l2, clf__C=0.0385079020806, clf__random_state=123, scaler__with_mean=False \n",
      "[CV]  clf__penalty=l2, clf__C=0.0385079020806, clf__random_state=123, scaler__with_mean=False, total=   0.2s\n",
      "[CV] clf__penalty=l2, clf__C=0.0385079020806, clf__random_state=123, scaler__with_mean=False \n",
      "[CV]  clf__penalty=l2, clf__C=0.0385079020806, clf__random_state=123, scaler__with_mean=False, total=   0.2s\n",
      "[CV] clf__penalty=l2, clf__C=19.9262177551, clf__random_state=123, scaler__with_mean=False \n",
      "[CV]  clf__penalty=l2, clf__C=19.9262177551, clf__random_state=123, scaler__with_mean=False, total=   0.4s\n",
      "[CV] clf__penalty=l2, clf__C=19.9262177551, clf__random_state=123, scaler__with_mean=False \n",
      "[CV]  clf__penalty=l2, clf__C=19.9262177551, clf__random_state=123, scaler__with_mean=False, total=   0.4s\n",
      "[CV] clf__penalty=l2, clf__C=19.9262177551, clf__random_state=123, scaler__with_mean=False \n",
      "[CV]  clf__penalty=l2, clf__C=19.9262177551, clf__random_state=123, scaler__with_mean=False, total=   0.3s\n",
      "[CV] clf__penalty=l2, clf__C=19.9262177551, clf__random_state=123, scaler__with_mean=False \n",
      "[CV]  clf__penalty=l2, clf__C=19.9262177551, clf__random_state=123, scaler__with_mean=False, total=   0.5s\n",
      "[CV] clf__penalty=l2, clf__C=19.9262177551, clf__random_state=123, scaler__with_mean=False \n",
      "[CV]  clf__penalty=l2, clf__C=19.9262177551, clf__random_state=123, scaler__with_mean=False, total=   0.4s\n",
      "[CV] clf__penalty=l2, clf__C=184.032136942, clf__random_state=123, scaler__with_mean=True \n",
      "[CV]  clf__penalty=l2, clf__C=184.032136942, clf__random_state=123, scaler__with_mean=True, total=   1.0s\n",
      "[CV] clf__penalty=l2, clf__C=184.032136942, clf__random_state=123, scaler__with_mean=True \n",
      "[CV]  clf__penalty=l2, clf__C=184.032136942, clf__random_state=123, scaler__with_mean=True, total=   0.9s\n",
      "[CV] clf__penalty=l2, clf__C=184.032136942, clf__random_state=123, scaler__with_mean=True \n",
      "[CV]  clf__penalty=l2, clf__C=184.032136942, clf__random_state=123, scaler__with_mean=True, total=   1.0s\n",
      "[CV] clf__penalty=l2, clf__C=184.032136942, clf__random_state=123, scaler__with_mean=True \n",
      "[CV]  clf__penalty=l2, clf__C=184.032136942, clf__random_state=123, scaler__with_mean=True, total=   0.9s\n",
      "[CV] clf__penalty=l2, clf__C=184.032136942, clf__random_state=123, scaler__with_mean=True \n",
      "[CV]  clf__penalty=l2, clf__C=184.032136942, clf__random_state=123, scaler__with_mean=True, total=   0.9s\n",
      "[CV] clf__penalty=l2, clf__C=3.38502838363, clf__random_state=123, scaler__with_mean=True \n",
      "[CV]  clf__penalty=l2, clf__C=3.38502838363, clf__random_state=123, scaler__with_mean=True, total=   1.0s\n",
      "[CV] clf__penalty=l2, clf__C=3.38502838363, clf__random_state=123, scaler__with_mean=True \n",
      "[CV]  clf__penalty=l2, clf__C=3.38502838363, clf__random_state=123, scaler__with_mean=True, total=   0.9s\n",
      "[CV] clf__penalty=l2, clf__C=3.38502838363, clf__random_state=123, scaler__with_mean=True \n",
      "[CV]  clf__penalty=l2, clf__C=3.38502838363, clf__random_state=123, scaler__with_mean=True, total=   1.0s\n",
      "[CV] clf__penalty=l2, clf__C=3.38502838363, clf__random_state=123, scaler__with_mean=True \n",
      "[CV]  clf__penalty=l2, clf__C=3.38502838363, clf__random_state=123, scaler__with_mean=True, total=   0.8s\n",
      "[CV] clf__penalty=l2, clf__C=3.38502838363, clf__random_state=123, scaler__with_mean=True \n",
      "[CV]  clf__penalty=l2, clf__C=3.38502838363, clf__random_state=123, scaler__with_mean=True, total=   0.9s\n",
      "[CV] clf__penalty=l2, clf__C=0.000689159561089, clf__random_state=123, scaler__with_mean=False \n",
      "[CV]  clf__penalty=l2, clf__C=0.000689159561089, clf__random_state=123, scaler__with_mean=False, total=   0.1s\n",
      "[CV] clf__penalty=l2, clf__C=0.000689159561089, clf__random_state=123, scaler__with_mean=False \n",
      "[CV]  clf__penalty=l2, clf__C=0.000689159561089, clf__random_state=123, scaler__with_mean=False, total=   0.1s\n",
      "[CV] clf__penalty=l2, clf__C=0.000689159561089, clf__random_state=123, scaler__with_mean=False \n",
      "[CV]  clf__penalty=l2, clf__C=0.000689159561089, clf__random_state=123, scaler__with_mean=False, total=   0.1s\n",
      "[CV] clf__penalty=l2, clf__C=0.000689159561089, clf__random_state=123, scaler__with_mean=False \n",
      "[CV]  clf__penalty=l2, clf__C=0.000689159561089, clf__random_state=123, scaler__with_mean=False, total=   0.1s\n",
      "[CV] clf__penalty=l2, clf__C=0.000689159561089, clf__random_state=123, scaler__with_mean=False \n",
      "[CV]  clf__penalty=l2, clf__C=0.000689159561089, clf__random_state=123, scaler__with_mean=False, total=   0.1s\n",
      "[CV] clf__penalty=l2, clf__C=0.276170213834, clf__random_state=123, scaler__with_mean=False \n",
      "[CV]  clf__penalty=l2, clf__C=0.276170213834, clf__random_state=123, scaler__with_mean=False, total=   0.3s\n",
      "[CV] clf__penalty=l2, clf__C=0.276170213834, clf__random_state=123, scaler__with_mean=False \n",
      "[CV]  clf__penalty=l2, clf__C=0.276170213834, clf__random_state=123, scaler__with_mean=False, total=   0.3s\n",
      "[CV] clf__penalty=l2, clf__C=0.276170213834, clf__random_state=123, scaler__with_mean=False \n",
      "[CV]  clf__penalty=l2, clf__C=0.276170213834, clf__random_state=123, scaler__with_mean=False, total=   0.3s\n",
      "[CV] clf__penalty=l2, clf__C=0.276170213834, clf__random_state=123, scaler__with_mean=False \n",
      "[CV]  clf__penalty=l2, clf__C=0.276170213834, clf__random_state=123, scaler__with_mean=False, total=   0.3s\n",
      "[CV] clf__penalty=l2, clf__C=0.276170213834, clf__random_state=123, scaler__with_mean=False \n",
      "[CV]  clf__penalty=l2, clf__C=0.276170213834, clf__random_state=123, scaler__with_mean=False, total=   0.3s\n",
      "[CV] clf__penalty=l2, clf__C=0.261238326477, clf__random_state=123, scaler__with_mean=True \n",
      "[CV]  clf__penalty=l2, clf__C=0.261238326477, clf__random_state=123, scaler__with_mean=True, total=   0.7s\n",
      "[CV] clf__penalty=l2, clf__C=0.261238326477, clf__random_state=123, scaler__with_mean=True \n",
      "[CV]  clf__penalty=l2, clf__C=0.261238326477, clf__random_state=123, scaler__with_mean=True, total=   0.7s\n",
      "[CV] clf__penalty=l2, clf__C=0.261238326477, clf__random_state=123, scaler__with_mean=True \n",
      "[CV]  clf__penalty=l2, clf__C=0.261238326477, clf__random_state=123, scaler__with_mean=True, total=   0.8s\n",
      "[CV] clf__penalty=l2, clf__C=0.261238326477, clf__random_state=123, scaler__with_mean=True \n",
      "[CV]  clf__penalty=l2, clf__C=0.261238326477, clf__random_state=123, scaler__with_mean=True, total=   0.8s\n",
      "[CV] clf__penalty=l2, clf__C=0.261238326477, clf__random_state=123, scaler__with_mean=True \n",
      "[CV]  clf__penalty=l2, clf__C=0.261238326477, clf__random_state=123, scaler__with_mean=True, total=   0.8s\n",
      "[CV] clf__penalty=l2, clf__C=149.187638977, clf__random_state=123, scaler__with_mean=False \n",
      "[CV]  clf__penalty=l2, clf__C=149.187638977, clf__random_state=123, scaler__with_mean=False, total=   0.4s\n",
      "[CV] clf__penalty=l2, clf__C=149.187638977, clf__random_state=123, scaler__with_mean=False \n",
      "[CV]  clf__penalty=l2, clf__C=149.187638977, clf__random_state=123, scaler__with_mean=False, total=   0.3s\n",
      "[CV] clf__penalty=l2, clf__C=149.187638977, clf__random_state=123, scaler__with_mean=False \n",
      "[CV]  clf__penalty=l2, clf__C=149.187638977, clf__random_state=123, scaler__with_mean=False, total=   0.3s\n",
      "[CV] clf__penalty=l2, clf__C=149.187638977, clf__random_state=123, scaler__with_mean=False \n",
      "[CV]  clf__penalty=l2, clf__C=149.187638977, clf__random_state=123, scaler__with_mean=False, total=   0.5s\n",
      "[CV] clf__penalty=l2, clf__C=149.187638977, clf__random_state=123, scaler__with_mean=False \n",
      "[CV]  clf__penalty=l2, clf__C=149.187638977, clf__random_state=123, scaler__with_mean=False, total=   0.4s\n",
      "[CV] clf__penalty=l2, clf__C=87.7216627328, clf__random_state=123, scaler__with_mean=True \n",
      "[CV]  clf__penalty=l2, clf__C=87.7216627328, clf__random_state=123, scaler__with_mean=True, total=   1.0s\n",
      "[CV] clf__penalty=l2, clf__C=87.7216627328, clf__random_state=123, scaler__with_mean=True \n",
      "[CV]  clf__penalty=l2, clf__C=87.7216627328, clf__random_state=123, scaler__with_mean=True, total=   0.9s\n",
      "[CV] clf__penalty=l2, clf__C=87.7216627328, clf__random_state=123, scaler__with_mean=True \n"
     ]
    },
    {
     "name": "stdout",
     "output_type": "stream",
     "text": [
      "[CV]  clf__penalty=l2, clf__C=87.7216627328, clf__random_state=123, scaler__with_mean=True, total=   1.0s\n",
      "[CV] clf__penalty=l2, clf__C=87.7216627328, clf__random_state=123, scaler__with_mean=True \n",
      "[CV]  clf__penalty=l2, clf__C=87.7216627328, clf__random_state=123, scaler__with_mean=True, total=   0.9s\n",
      "[CV] clf__penalty=l2, clf__C=87.7216627328, clf__random_state=123, scaler__with_mean=True \n",
      "[CV]  clf__penalty=l2, clf__C=87.7216627328, clf__random_state=123, scaler__with_mean=True, total=   0.9s\n",
      "[CV] clf__penalty=l2, clf__C=0.147090683175, clf__random_state=123, scaler__with_mean=True \n",
      "[CV]  clf__penalty=l2, clf__C=0.147090683175, clf__random_state=123, scaler__with_mean=True, total=   0.7s\n",
      "[CV] clf__penalty=l2, clf__C=0.147090683175, clf__random_state=123, scaler__with_mean=True \n",
      "[CV]  clf__penalty=l2, clf__C=0.147090683175, clf__random_state=123, scaler__with_mean=True, total=   0.7s\n",
      "[CV] clf__penalty=l2, clf__C=0.147090683175, clf__random_state=123, scaler__with_mean=True \n",
      "[CV]  clf__penalty=l2, clf__C=0.147090683175, clf__random_state=123, scaler__with_mean=True, total=   0.7s\n",
      "[CV] clf__penalty=l2, clf__C=0.147090683175, clf__random_state=123, scaler__with_mean=True \n",
      "[CV]  clf__penalty=l2, clf__C=0.147090683175, clf__random_state=123, scaler__with_mean=True, total=   0.8s\n",
      "[CV] clf__penalty=l2, clf__C=0.147090683175, clf__random_state=123, scaler__with_mean=True \n",
      "[CV]  clf__penalty=l2, clf__C=0.147090683175, clf__random_state=123, scaler__with_mean=True, total=   0.6s\n",
      "[CV] clf__penalty=l2, clf__C=1.46166728539, clf__random_state=123, scaler__with_mean=False \n",
      "[CV]  clf__penalty=l2, clf__C=1.46166728539, clf__random_state=123, scaler__with_mean=False, total=   0.4s\n",
      "[CV] clf__penalty=l2, clf__C=1.46166728539, clf__random_state=123, scaler__with_mean=False \n",
      "[CV]  clf__penalty=l2, clf__C=1.46166728539, clf__random_state=123, scaler__with_mean=False, total=   0.4s\n",
      "[CV] clf__penalty=l2, clf__C=1.46166728539, clf__random_state=123, scaler__with_mean=False \n",
      "[CV]  clf__penalty=l2, clf__C=1.46166728539, clf__random_state=123, scaler__with_mean=False, total=   0.4s\n",
      "[CV] clf__penalty=l2, clf__C=1.46166728539, clf__random_state=123, scaler__with_mean=False \n",
      "[CV]  clf__penalty=l2, clf__C=1.46166728539, clf__random_state=123, scaler__with_mean=False, total=   0.5s\n",
      "[CV] clf__penalty=l2, clf__C=1.46166728539, clf__random_state=123, scaler__with_mean=False \n",
      "[CV]  clf__penalty=l2, clf__C=1.46166728539, clf__random_state=123, scaler__with_mean=False, total=   0.4s\n",
      "[CV] clf__penalty=l2, clf__C=0.0201516940202, clf__random_state=123, scaler__with_mean=True \n",
      "[CV]  clf__penalty=l2, clf__C=0.0201516940202, clf__random_state=123, scaler__with_mean=True, total=   0.5s\n",
      "[CV] clf__penalty=l2, clf__C=0.0201516940202, clf__random_state=123, scaler__with_mean=True \n",
      "[CV]  clf__penalty=l2, clf__C=0.0201516940202, clf__random_state=123, scaler__with_mean=True, total=   0.5s\n",
      "[CV] clf__penalty=l2, clf__C=0.0201516940202, clf__random_state=123, scaler__with_mean=True \n",
      "[CV]  clf__penalty=l2, clf__C=0.0201516940202, clf__random_state=123, scaler__with_mean=True, total=   0.5s\n",
      "[CV] clf__penalty=l2, clf__C=0.0201516940202, clf__random_state=123, scaler__with_mean=True \n",
      "[CV]  clf__penalty=l2, clf__C=0.0201516940202, clf__random_state=123, scaler__with_mean=True, total=   0.5s\n",
      "[CV] clf__penalty=l2, clf__C=0.0201516940202, clf__random_state=123, scaler__with_mean=True \n",
      "[CV]  clf__penalty=l2, clf__C=0.0201516940202, clf__random_state=123, scaler__with_mean=True, total=   0.5s\n",
      "[CV] clf__penalty=l2, clf__C=20.3313025034, clf__random_state=123, scaler__with_mean=True \n",
      "[CV]  clf__penalty=l2, clf__C=20.3313025034, clf__random_state=123, scaler__with_mean=True, total=   1.1s\n",
      "[CV] clf__penalty=l2, clf__C=20.3313025034, clf__random_state=123, scaler__with_mean=True \n",
      "[CV]  clf__penalty=l2, clf__C=20.3313025034, clf__random_state=123, scaler__with_mean=True, total=   0.9s\n",
      "[CV] clf__penalty=l2, clf__C=20.3313025034, clf__random_state=123, scaler__with_mean=True \n",
      "[CV]  clf__penalty=l2, clf__C=20.3313025034, clf__random_state=123, scaler__with_mean=True, total=   1.0s\n",
      "[CV] clf__penalty=l2, clf__C=20.3313025034, clf__random_state=123, scaler__with_mean=True \n",
      "[CV]  clf__penalty=l2, clf__C=20.3313025034, clf__random_state=123, scaler__with_mean=True, total=   0.9s\n",
      "[CV] clf__penalty=l2, clf__C=20.3313025034, clf__random_state=123, scaler__with_mean=True \n",
      "[CV]  clf__penalty=l2, clf__C=20.3313025034, clf__random_state=123, scaler__with_mean=True, total=   0.9s\n",
      "[CV] clf__penalty=l2, clf__C=3.18534052178, clf__random_state=123, scaler__with_mean=True \n",
      "[CV]  clf__penalty=l2, clf__C=3.18534052178, clf__random_state=123, scaler__with_mean=True, total=   1.0s\n",
      "[CV] clf__penalty=l2, clf__C=3.18534052178, clf__random_state=123, scaler__with_mean=True \n",
      "[CV]  clf__penalty=l2, clf__C=3.18534052178, clf__random_state=123, scaler__with_mean=True, total=   0.9s\n",
      "[CV] clf__penalty=l2, clf__C=3.18534052178, clf__random_state=123, scaler__with_mean=True \n",
      "[CV]  clf__penalty=l2, clf__C=3.18534052178, clf__random_state=123, scaler__with_mean=True, total=   1.0s\n",
      "[CV] clf__penalty=l2, clf__C=3.18534052178, clf__random_state=123, scaler__with_mean=True \n",
      "[CV]  clf__penalty=l2, clf__C=3.18534052178, clf__random_state=123, scaler__with_mean=True, total=   0.8s\n",
      "[CV] clf__penalty=l2, clf__C=3.18534052178, clf__random_state=123, scaler__with_mean=True \n",
      "[CV]  clf__penalty=l2, clf__C=3.18534052178, clf__random_state=123, scaler__with_mean=True, total=   0.9s\n",
      "[CV] clf__penalty=l2, clf__C=88.8971049299, clf__random_state=123, scaler__with_mean=True \n",
      "[CV]  clf__penalty=l2, clf__C=88.8971049299, clf__random_state=123, scaler__with_mean=True, total=   1.1s\n",
      "[CV] clf__penalty=l2, clf__C=88.8971049299, clf__random_state=123, scaler__with_mean=True \n",
      "[CV]  clf__penalty=l2, clf__C=88.8971049299, clf__random_state=123, scaler__with_mean=True, total=   0.9s\n",
      "[CV] clf__penalty=l2, clf__C=88.8971049299, clf__random_state=123, scaler__with_mean=True \n",
      "[CV]  clf__penalty=l2, clf__C=88.8971049299, clf__random_state=123, scaler__with_mean=True, total=   1.0s\n",
      "[CV] clf__penalty=l2, clf__C=88.8971049299, clf__random_state=123, scaler__with_mean=True \n",
      "[CV]  clf__penalty=l2, clf__C=88.8971049299, clf__random_state=123, scaler__with_mean=True, total=   0.9s\n",
      "[CV] clf__penalty=l2, clf__C=88.8971049299, clf__random_state=123, scaler__with_mean=True \n",
      "[CV]  clf__penalty=l2, clf__C=88.8971049299, clf__random_state=123, scaler__with_mean=True, total=   0.9s\n",
      "[CV] clf__penalty=l2, clf__C=9.39090601456, clf__random_state=123, scaler__with_mean=True \n",
      "[CV]  clf__penalty=l2, clf__C=9.39090601456, clf__random_state=123, scaler__with_mean=True, total=   1.0s\n",
      "[CV] clf__penalty=l2, clf__C=9.39090601456, clf__random_state=123, scaler__with_mean=True \n",
      "[CV]  clf__penalty=l2, clf__C=9.39090601456, clf__random_state=123, scaler__with_mean=True, total=   0.9s\n",
      "[CV] clf__penalty=l2, clf__C=9.39090601456, clf__random_state=123, scaler__with_mean=True \n",
      "[CV]  clf__penalty=l2, clf__C=9.39090601456, clf__random_state=123, scaler__with_mean=True, total=   1.0s\n",
      "[CV] clf__penalty=l2, clf__C=9.39090601456, clf__random_state=123, scaler__with_mean=True \n",
      "[CV]  clf__penalty=l2, clf__C=9.39090601456, clf__random_state=123, scaler__with_mean=True, total=   0.8s\n",
      "[CV] clf__penalty=l2, clf__C=9.39090601456, clf__random_state=123, scaler__with_mean=True \n",
      "[CV]  clf__penalty=l2, clf__C=9.39090601456, clf__random_state=123, scaler__with_mean=True, total=   1.0s\n",
      "[CV] clf__penalty=l2, clf__C=0.0232455397689, clf__random_state=123, scaler__with_mean=True \n",
      "[CV]  clf__penalty=l2, clf__C=0.0232455397689, clf__random_state=123, scaler__with_mean=True, total=   0.5s\n",
      "[CV] clf__penalty=l2, clf__C=0.0232455397689, clf__random_state=123, scaler__with_mean=True \n",
      "[CV]  clf__penalty=l2, clf__C=0.0232455397689, clf__random_state=123, scaler__with_mean=True, total=   0.5s\n",
      "[CV] clf__penalty=l2, clf__C=0.0232455397689, clf__random_state=123, scaler__with_mean=True \n",
      "[CV]  clf__penalty=l2, clf__C=0.0232455397689, clf__random_state=123, scaler__with_mean=True, total=   0.6s\n",
      "[CV] clf__penalty=l2, clf__C=0.0232455397689, clf__random_state=123, scaler__with_mean=True \n",
      "[CV]  clf__penalty=l2, clf__C=0.0232455397689, clf__random_state=123, scaler__with_mean=True, total=   0.6s\n",
      "[CV] clf__penalty=l2, clf__C=0.0232455397689, clf__random_state=123, scaler__with_mean=True \n"
     ]
    },
    {
     "name": "stdout",
     "output_type": "stream",
     "text": [
      "[CV]  clf__penalty=l2, clf__C=0.0232455397689, clf__random_state=123, scaler__with_mean=True, total=   0.6s\n",
      "[CV] clf__penalty=l2, clf__C=0.147599241258, clf__random_state=123, scaler__with_mean=False \n",
      "[CV]  clf__penalty=l2, clf__C=0.147599241258, clf__random_state=123, scaler__with_mean=False, total=   0.4s\n",
      "[CV] clf__penalty=l2, clf__C=0.147599241258, clf__random_state=123, scaler__with_mean=False \n",
      "[CV]  clf__penalty=l2, clf__C=0.147599241258, clf__random_state=123, scaler__with_mean=False, total=   0.2s\n",
      "[CV] clf__penalty=l2, clf__C=0.147599241258, clf__random_state=123, scaler__with_mean=False \n",
      "[CV]  clf__penalty=l2, clf__C=0.147599241258, clf__random_state=123, scaler__with_mean=False, total=   0.3s\n",
      "[CV] clf__penalty=l2, clf__C=0.147599241258, clf__random_state=123, scaler__with_mean=False \n",
      "[CV]  clf__penalty=l2, clf__C=0.147599241258, clf__random_state=123, scaler__with_mean=False, total=   0.3s\n",
      "[CV] clf__penalty=l2, clf__C=0.147599241258, clf__random_state=123, scaler__with_mean=False \n",
      "[CV]  clf__penalty=l2, clf__C=0.147599241258, clf__random_state=123, scaler__with_mean=False, total=   0.2s\n",
      "[CV] clf__penalty=l2, clf__C=0.105852777336, clf__random_state=123, scaler__with_mean=False \n",
      "[CV]  clf__penalty=l2, clf__C=0.105852777336, clf__random_state=123, scaler__with_mean=False, total=   0.3s\n",
      "[CV] clf__penalty=l2, clf__C=0.105852777336, clf__random_state=123, scaler__with_mean=False \n",
      "[CV]  clf__penalty=l2, clf__C=0.105852777336, clf__random_state=123, scaler__with_mean=False, total=   0.2s\n",
      "[CV] clf__penalty=l2, clf__C=0.105852777336, clf__random_state=123, scaler__with_mean=False \n",
      "[CV]  clf__penalty=l2, clf__C=0.105852777336, clf__random_state=123, scaler__with_mean=False, total=   0.3s\n",
      "[CV] clf__penalty=l2, clf__C=0.105852777336, clf__random_state=123, scaler__with_mean=False \n",
      "[CV]  clf__penalty=l2, clf__C=0.105852777336, clf__random_state=123, scaler__with_mean=False, total=   0.2s\n",
      "[CV] clf__penalty=l2, clf__C=0.105852777336, clf__random_state=123, scaler__with_mean=False \n",
      "[CV]  clf__penalty=l2, clf__C=0.105852777336, clf__random_state=123, scaler__with_mean=False, total=   0.2s\n",
      "[CV] clf__penalty=l2, clf__C=2.05669808735, clf__random_state=123, scaler__with_mean=True \n",
      "[CV]  clf__penalty=l2, clf__C=2.05669808735, clf__random_state=123, scaler__with_mean=True, total=   1.0s\n",
      "[CV] clf__penalty=l2, clf__C=2.05669808735, clf__random_state=123, scaler__with_mean=True \n",
      "[CV]  clf__penalty=l2, clf__C=2.05669808735, clf__random_state=123, scaler__with_mean=True, total=   0.9s\n",
      "[CV] clf__penalty=l2, clf__C=2.05669808735, clf__random_state=123, scaler__with_mean=True \n",
      "[CV]  clf__penalty=l2, clf__C=2.05669808735, clf__random_state=123, scaler__with_mean=True, total=   1.0s\n",
      "[CV] clf__penalty=l2, clf__C=2.05669808735, clf__random_state=123, scaler__with_mean=True \n",
      "[CV]  clf__penalty=l2, clf__C=2.05669808735, clf__random_state=123, scaler__with_mean=True, total=   0.9s\n",
      "[CV] clf__penalty=l2, clf__C=2.05669808735, clf__random_state=123, scaler__with_mean=True \n",
      "[CV]  clf__penalty=l2, clf__C=2.05669808735, clf__random_state=123, scaler__with_mean=True, total=   0.9s\n",
      "[CV] clf__penalty=l2, clf__C=0.464470091407, clf__random_state=123, scaler__with_mean=True \n",
      "[CV]  clf__penalty=l2, clf__C=0.464470091407, clf__random_state=123, scaler__with_mean=True, total=   0.9s\n",
      "[CV] clf__penalty=l2, clf__C=0.464470091407, clf__random_state=123, scaler__with_mean=True \n",
      "[CV]  clf__penalty=l2, clf__C=0.464470091407, clf__random_state=123, scaler__with_mean=True, total=   1.0s\n",
      "[CV] clf__penalty=l2, clf__C=0.464470091407, clf__random_state=123, scaler__with_mean=True \n",
      "[CV]  clf__penalty=l2, clf__C=0.464470091407, clf__random_state=123, scaler__with_mean=True, total=   0.9s\n",
      "[CV] clf__penalty=l2, clf__C=0.464470091407, clf__random_state=123, scaler__with_mean=True \n",
      "[CV]  clf__penalty=l2, clf__C=0.464470091407, clf__random_state=123, scaler__with_mean=True, total=   0.8s\n",
      "[CV] clf__penalty=l2, clf__C=0.464470091407, clf__random_state=123, scaler__with_mean=True \n",
      "[CV]  clf__penalty=l2, clf__C=0.464470091407, clf__random_state=123, scaler__with_mean=True, total=   0.8s\n",
      "[CV] clf__penalty=l2, clf__C=0.000225821133581, clf__random_state=123, scaler__with_mean=False \n",
      "[CV]  clf__penalty=l2, clf__C=0.000225821133581, clf__random_state=123, scaler__with_mean=False, total=   0.1s\n",
      "[CV] clf__penalty=l2, clf__C=0.000225821133581, clf__random_state=123, scaler__with_mean=False \n",
      "[CV]  clf__penalty=l2, clf__C=0.000225821133581, clf__random_state=123, scaler__with_mean=False, total=   0.1s\n",
      "[CV] clf__penalty=l2, clf__C=0.000225821133581, clf__random_state=123, scaler__with_mean=False \n",
      "[CV]  clf__penalty=l2, clf__C=0.000225821133581, clf__random_state=123, scaler__with_mean=False, total=   0.1s\n",
      "[CV] clf__penalty=l2, clf__C=0.000225821133581, clf__random_state=123, scaler__with_mean=False \n",
      "[CV]  clf__penalty=l2, clf__C=0.000225821133581, clf__random_state=123, scaler__with_mean=False, total=   0.1s\n",
      "[CV] clf__penalty=l2, clf__C=0.000225821133581, clf__random_state=123, scaler__with_mean=False \n",
      "[CV]  clf__penalty=l2, clf__C=0.000225821133581, clf__random_state=123, scaler__with_mean=False, total=   0.1s\n",
      "[CV] clf__penalty=l2, clf__C=0.123941756762, clf__random_state=123, scaler__with_mean=True \n",
      "[CV]  clf__penalty=l2, clf__C=0.123941756762, clf__random_state=123, scaler__with_mean=True, total=   0.6s\n",
      "[CV] clf__penalty=l2, clf__C=0.123941756762, clf__random_state=123, scaler__with_mean=True \n",
      "[CV]  clf__penalty=l2, clf__C=0.123941756762, clf__random_state=123, scaler__with_mean=True, total=   0.6s\n",
      "[CV] clf__penalty=l2, clf__C=0.123941756762, clf__random_state=123, scaler__with_mean=True \n",
      "[CV]  clf__penalty=l2, clf__C=0.123941756762, clf__random_state=123, scaler__with_mean=True, total=   0.6s\n",
      "[CV] clf__penalty=l2, clf__C=0.123941756762, clf__random_state=123, scaler__with_mean=True \n",
      "[CV]  clf__penalty=l2, clf__C=0.123941756762, clf__random_state=123, scaler__with_mean=True, total=   0.7s\n",
      "[CV] clf__penalty=l2, clf__C=0.123941756762, clf__random_state=123, scaler__with_mean=True \n",
      "[CV]  clf__penalty=l2, clf__C=0.123941756762, clf__random_state=123, scaler__with_mean=True, total=   0.6s\n",
      "[CV] clf__penalty=l2, clf__C=0.00488101455993, clf__random_state=123, scaler__with_mean=False \n",
      "[CV]  clf__penalty=l2, clf__C=0.00488101455993, clf__random_state=123, scaler__with_mean=False, total=   0.2s\n",
      "[CV] clf__penalty=l2, clf__C=0.00488101455993, clf__random_state=123, scaler__with_mean=False \n",
      "[CV]  clf__penalty=l2, clf__C=0.00488101455993, clf__random_state=123, scaler__with_mean=False, total=   0.2s\n",
      "[CV] clf__penalty=l2, clf__C=0.00488101455993, clf__random_state=123, scaler__with_mean=False \n",
      "[CV]  clf__penalty=l2, clf__C=0.00488101455993, clf__random_state=123, scaler__with_mean=False, total=   0.2s\n",
      "[CV] clf__penalty=l2, clf__C=0.00488101455993, clf__random_state=123, scaler__with_mean=False \n",
      "[CV]  clf__penalty=l2, clf__C=0.00488101455993, clf__random_state=123, scaler__with_mean=False, total=   0.2s\n",
      "[CV] clf__penalty=l2, clf__C=0.00488101455993, clf__random_state=123, scaler__with_mean=False \n",
      "[CV]  clf__penalty=l2, clf__C=0.00488101455993, clf__random_state=123, scaler__with_mean=False, total=   0.1s\n",
      "[CV] clf__penalty=l2, clf__C=1.0085742982, clf__random_state=123, scaler__with_mean=True \n",
      "[CV]  clf__penalty=l2, clf__C=1.0085742982, clf__random_state=123, scaler__with_mean=True, total=   0.9s\n",
      "[CV] clf__penalty=l2, clf__C=1.0085742982, clf__random_state=123, scaler__with_mean=True \n",
      "[CV]  clf__penalty=l2, clf__C=1.0085742982, clf__random_state=123, scaler__with_mean=True, total=   0.9s\n",
      "[CV] clf__penalty=l2, clf__C=1.0085742982, clf__random_state=123, scaler__with_mean=True \n",
      "[CV]  clf__penalty=l2, clf__C=1.0085742982, clf__random_state=123, scaler__with_mean=True, total=   1.5s\n",
      "[CV] clf__penalty=l2, clf__C=1.0085742982, clf__random_state=123, scaler__with_mean=True \n",
      "[CV]  clf__penalty=l2, clf__C=1.0085742982, clf__random_state=123, scaler__with_mean=True, total=   1.0s\n",
      "[CV] clf__penalty=l2, clf__C=1.0085742982, clf__random_state=123, scaler__with_mean=True \n",
      "[CV]  clf__penalty=l2, clf__C=1.0085742982, clf__random_state=123, scaler__with_mean=True, total=   0.8s\n",
      "[CV] clf__penalty=l2, clf__C=7.88268146409, clf__random_state=123, scaler__with_mean=False \n"
     ]
    },
    {
     "name": "stdout",
     "output_type": "stream",
     "text": [
      "[CV]  clf__penalty=l2, clf__C=7.88268146409, clf__random_state=123, scaler__with_mean=False, total=   0.4s\n",
      "[CV] clf__penalty=l2, clf__C=7.88268146409, clf__random_state=123, scaler__with_mean=False \n",
      "[CV]  clf__penalty=l2, clf__C=7.88268146409, clf__random_state=123, scaler__with_mean=False, total=   0.5s\n",
      "[CV] clf__penalty=l2, clf__C=7.88268146409, clf__random_state=123, scaler__with_mean=False \n",
      "[CV]  clf__penalty=l2, clf__C=7.88268146409, clf__random_state=123, scaler__with_mean=False, total=   0.5s\n",
      "[CV] clf__penalty=l2, clf__C=7.88268146409, clf__random_state=123, scaler__with_mean=False \n",
      "[CV]  clf__penalty=l2, clf__C=7.88268146409, clf__random_state=123, scaler__with_mean=False, total=   0.5s\n",
      "[CV] clf__penalty=l2, clf__C=7.88268146409, clf__random_state=123, scaler__with_mean=False \n",
      "[CV]  clf__penalty=l2, clf__C=7.88268146409, clf__random_state=123, scaler__with_mean=False, total=   0.4s\n",
      "[CV] clf__penalty=l2, clf__C=0.355608429795, clf__random_state=123, scaler__with_mean=False \n",
      "[CV]  clf__penalty=l2, clf__C=0.355608429795, clf__random_state=123, scaler__with_mean=False, total=   0.4s\n",
      "[CV] clf__penalty=l2, clf__C=0.355608429795, clf__random_state=123, scaler__with_mean=False \n",
      "[CV]  clf__penalty=l2, clf__C=0.355608429795, clf__random_state=123, scaler__with_mean=False, total=   0.3s\n",
      "[CV] clf__penalty=l2, clf__C=0.355608429795, clf__random_state=123, scaler__with_mean=False \n",
      "[CV]  clf__penalty=l2, clf__C=0.355608429795, clf__random_state=123, scaler__with_mean=False, total=   0.3s\n",
      "[CV] clf__penalty=l2, clf__C=0.355608429795, clf__random_state=123, scaler__with_mean=False \n",
      "[CV]  clf__penalty=l2, clf__C=0.355608429795, clf__random_state=123, scaler__with_mean=False, total=   0.3s\n",
      "[CV] clf__penalty=l2, clf__C=0.355608429795, clf__random_state=123, scaler__with_mean=False \n",
      "[CV]  clf__penalty=l2, clf__C=0.355608429795, clf__random_state=123, scaler__with_mean=False, total=   0.4s\n",
      "[CV] clf__penalty=l2, clf__C=0.1135971483, clf__random_state=123, scaler__with_mean=True \n",
      "[CV]  clf__penalty=l2, clf__C=0.1135971483, clf__random_state=123, scaler__with_mean=True, total=   0.8s\n",
      "[CV] clf__penalty=l2, clf__C=0.1135971483, clf__random_state=123, scaler__with_mean=True \n",
      "[CV]  clf__penalty=l2, clf__C=0.1135971483, clf__random_state=123, scaler__with_mean=True, total=   0.8s\n",
      "[CV] clf__penalty=l2, clf__C=0.1135971483, clf__random_state=123, scaler__with_mean=True \n",
      "[CV]  clf__penalty=l2, clf__C=0.1135971483, clf__random_state=123, scaler__with_mean=True, total=   0.8s\n",
      "[CV] clf__penalty=l2, clf__C=0.1135971483, clf__random_state=123, scaler__with_mean=True \n",
      "[CV]  clf__penalty=l2, clf__C=0.1135971483, clf__random_state=123, scaler__with_mean=True, total=   0.7s\n",
      "[CV] clf__penalty=l2, clf__C=0.1135971483, clf__random_state=123, scaler__with_mean=True \n",
      "[CV]  clf__penalty=l2, clf__C=0.1135971483, clf__random_state=123, scaler__with_mean=True, total=   0.7s\n",
      "[CV] clf__penalty=l2, clf__C=0.309530272311, clf__random_state=123, scaler__with_mean=True \n",
      "[CV]  clf__penalty=l2, clf__C=0.309530272311, clf__random_state=123, scaler__with_mean=True, total=   0.8s\n",
      "[CV] clf__penalty=l2, clf__C=0.309530272311, clf__random_state=123, scaler__with_mean=True \n",
      "[CV]  clf__penalty=l2, clf__C=0.309530272311, clf__random_state=123, scaler__with_mean=True, total=   0.8s\n",
      "[CV] clf__penalty=l2, clf__C=0.309530272311, clf__random_state=123, scaler__with_mean=True \n",
      "[CV]  clf__penalty=l2, clf__C=0.309530272311, clf__random_state=123, scaler__with_mean=True, total=   0.9s\n",
      "[CV] clf__penalty=l2, clf__C=0.309530272311, clf__random_state=123, scaler__with_mean=True \n",
      "[CV]  clf__penalty=l2, clf__C=0.309530272311, clf__random_state=123, scaler__with_mean=True, total=   0.9s\n",
      "[CV] clf__penalty=l2, clf__C=0.309530272311, clf__random_state=123, scaler__with_mean=True \n",
      "[CV]  clf__penalty=l2, clf__C=0.309530272311, clf__random_state=123, scaler__with_mean=True, total=   0.8s\n",
      "[CV] clf__penalty=l2, clf__C=5.59245063429, clf__random_state=123, scaler__with_mean=False \n",
      "[CV]  clf__penalty=l2, clf__C=5.59245063429, clf__random_state=123, scaler__with_mean=False, total=   0.4s\n",
      "[CV] clf__penalty=l2, clf__C=5.59245063429, clf__random_state=123, scaler__with_mean=False \n",
      "[CV]  clf__penalty=l2, clf__C=5.59245063429, clf__random_state=123, scaler__with_mean=False, total=   0.4s\n",
      "[CV] clf__penalty=l2, clf__C=5.59245063429, clf__random_state=123, scaler__with_mean=False \n",
      "[CV]  clf__penalty=l2, clf__C=5.59245063429, clf__random_state=123, scaler__with_mean=False, total=   0.3s\n",
      "[CV] clf__penalty=l2, clf__C=5.59245063429, clf__random_state=123, scaler__with_mean=False \n",
      "[CV]  clf__penalty=l2, clf__C=5.59245063429, clf__random_state=123, scaler__with_mean=False, total=   0.5s\n",
      "[CV] clf__penalty=l2, clf__C=5.59245063429, clf__random_state=123, scaler__with_mean=False \n",
      "[CV]  clf__penalty=l2, clf__C=5.59245063429, clf__random_state=123, scaler__with_mean=False, total=   0.4s\n",
      "[CV] clf__penalty=l2, clf__C=1.04145174392, clf__random_state=123, scaler__with_mean=False \n",
      "[CV]  clf__penalty=l2, clf__C=1.04145174392, clf__random_state=123, scaler__with_mean=False, total=   0.4s\n",
      "[CV] clf__penalty=l2, clf__C=1.04145174392, clf__random_state=123, scaler__with_mean=False \n",
      "[CV]  clf__penalty=l2, clf__C=1.04145174392, clf__random_state=123, scaler__with_mean=False, total=   0.4s\n",
      "[CV] clf__penalty=l2, clf__C=1.04145174392, clf__random_state=123, scaler__with_mean=False \n",
      "[CV]  clf__penalty=l2, clf__C=1.04145174392, clf__random_state=123, scaler__with_mean=False, total=   0.3s\n",
      "[CV] clf__penalty=l2, clf__C=1.04145174392, clf__random_state=123, scaler__with_mean=False \n",
      "[CV]  clf__penalty=l2, clf__C=1.04145174392, clf__random_state=123, scaler__with_mean=False, total=   0.4s\n",
      "[CV] clf__penalty=l2, clf__C=1.04145174392, clf__random_state=123, scaler__with_mean=False \n",
      "[CV]  clf__penalty=l2, clf__C=1.04145174392, clf__random_state=123, scaler__with_mean=False, total=   0.4s\n",
      "[CV] clf__penalty=l2, clf__C=2.75143437816, clf__random_state=123, scaler__with_mean=False \n",
      "[CV]  clf__penalty=l2, clf__C=2.75143437816, clf__random_state=123, scaler__with_mean=False, total=   0.5s\n",
      "[CV] clf__penalty=l2, clf__C=2.75143437816, clf__random_state=123, scaler__with_mean=False \n",
      "[CV]  clf__penalty=l2, clf__C=2.75143437816, clf__random_state=123, scaler__with_mean=False, total=   0.5s\n",
      "[CV] clf__penalty=l2, clf__C=2.75143437816, clf__random_state=123, scaler__with_mean=False \n",
      "[CV]  clf__penalty=l2, clf__C=2.75143437816, clf__random_state=123, scaler__with_mean=False, total=   0.4s\n",
      "[CV] clf__penalty=l2, clf__C=2.75143437816, clf__random_state=123, scaler__with_mean=False \n",
      "[CV]  clf__penalty=l2, clf__C=2.75143437816, clf__random_state=123, scaler__with_mean=False, total=   0.5s\n",
      "[CV] clf__penalty=l2, clf__C=2.75143437816, clf__random_state=123, scaler__with_mean=False \n",
      "[CV]  clf__penalty=l2, clf__C=2.75143437816, clf__random_state=123, scaler__with_mean=False, total=   0.4s\n",
      "[CV] clf__penalty=l2, clf__C=18.8442535849, clf__random_state=123, scaler__with_mean=True \n",
      "[CV]  clf__penalty=l2, clf__C=18.8442535849, clf__random_state=123, scaler__with_mean=True, total=   1.1s\n",
      "[CV] clf__penalty=l2, clf__C=18.8442535849, clf__random_state=123, scaler__with_mean=True \n",
      "[CV]  clf__penalty=l2, clf__C=18.8442535849, clf__random_state=123, scaler__with_mean=True, total=   0.9s\n",
      "[CV] clf__penalty=l2, clf__C=18.8442535849, clf__random_state=123, scaler__with_mean=True \n",
      "[CV]  clf__penalty=l2, clf__C=18.8442535849, clf__random_state=123, scaler__with_mean=True, total=   1.0s\n",
      "[CV] clf__penalty=l2, clf__C=18.8442535849, clf__random_state=123, scaler__with_mean=True \n",
      "[CV]  clf__penalty=l2, clf__C=18.8442535849, clf__random_state=123, scaler__with_mean=True, total=   0.9s\n",
      "[CV] clf__penalty=l2, clf__C=18.8442535849, clf__random_state=123, scaler__with_mean=True \n",
      "[CV]  clf__penalty=l2, clf__C=18.8442535849, clf__random_state=123, scaler__with_mean=True, total=   0.9s\n",
      "[CV] clf__penalty=l2, clf__C=824.213843865, clf__random_state=123, scaler__with_mean=False \n",
      "[CV]  clf__penalty=l2, clf__C=824.213843865, clf__random_state=123, scaler__with_mean=False, total=   0.4s\n",
      "[CV] clf__penalty=l2, clf__C=824.213843865, clf__random_state=123, scaler__with_mean=False \n",
      "[CV]  clf__penalty=l2, clf__C=824.213843865, clf__random_state=123, scaler__with_mean=False, total=   0.4s\n",
      "[CV] clf__penalty=l2, clf__C=824.213843865, clf__random_state=123, scaler__with_mean=False \n"
     ]
    },
    {
     "name": "stdout",
     "output_type": "stream",
     "text": [
      "[CV]  clf__penalty=l2, clf__C=824.213843865, clf__random_state=123, scaler__with_mean=False, total=   0.4s\n",
      "[CV] clf__penalty=l2, clf__C=824.213843865, clf__random_state=123, scaler__with_mean=False \n",
      "[CV]  clf__penalty=l2, clf__C=824.213843865, clf__random_state=123, scaler__with_mean=False, total=   0.6s\n",
      "[CV] clf__penalty=l2, clf__C=824.213843865, clf__random_state=123, scaler__with_mean=False \n",
      "[CV]  clf__penalty=l2, clf__C=824.213843865, clf__random_state=123, scaler__with_mean=False, total=   0.4s\n",
      "[CV] clf__penalty=l2, clf__C=0.114919040566, clf__random_state=123, scaler__with_mean=True \n",
      "[CV]  clf__penalty=l2, clf__C=0.114919040566, clf__random_state=123, scaler__with_mean=True, total=   0.7s\n",
      "[CV] clf__penalty=l2, clf__C=0.114919040566, clf__random_state=123, scaler__with_mean=True \n",
      "[CV]  clf__penalty=l2, clf__C=0.114919040566, clf__random_state=123, scaler__with_mean=True, total=   0.7s\n",
      "[CV] clf__penalty=l2, clf__C=0.114919040566, clf__random_state=123, scaler__with_mean=True \n",
      "[CV]  clf__penalty=l2, clf__C=0.114919040566, clf__random_state=123, scaler__with_mean=True, total=   0.7s\n",
      "[CV] clf__penalty=l2, clf__C=0.114919040566, clf__random_state=123, scaler__with_mean=True \n",
      "[CV]  clf__penalty=l2, clf__C=0.114919040566, clf__random_state=123, scaler__with_mean=True, total=   0.8s\n",
      "[CV] clf__penalty=l2, clf__C=0.114919040566, clf__random_state=123, scaler__with_mean=True \n",
      "[CV]  clf__penalty=l2, clf__C=0.114919040566, clf__random_state=123, scaler__with_mean=True, total=   0.6s\n",
      "[CV] clf__penalty=l2, clf__C=0.00605257909444, clf__random_state=123, scaler__with_mean=True \n",
      "[CV]  clf__penalty=l2, clf__C=0.00605257909444, clf__random_state=123, scaler__with_mean=True, total=   0.5s\n",
      "[CV] clf__penalty=l2, clf__C=0.00605257909444, clf__random_state=123, scaler__with_mean=True \n",
      "[CV]  clf__penalty=l2, clf__C=0.00605257909444, clf__random_state=123, scaler__with_mean=True, total=   0.4s\n",
      "[CV] clf__penalty=l2, clf__C=0.00605257909444, clf__random_state=123, scaler__with_mean=True \n",
      "[CV]  clf__penalty=l2, clf__C=0.00605257909444, clf__random_state=123, scaler__with_mean=True, total=   0.4s\n",
      "[CV] clf__penalty=l2, clf__C=0.00605257909444, clf__random_state=123, scaler__with_mean=True \n",
      "[CV]  clf__penalty=l2, clf__C=0.00605257909444, clf__random_state=123, scaler__with_mean=True, total=   0.4s\n",
      "[CV] clf__penalty=l2, clf__C=0.00605257909444, clf__random_state=123, scaler__with_mean=True \n",
      "[CV]  clf__penalty=l2, clf__C=0.00605257909444, clf__random_state=123, scaler__with_mean=True, total=   0.4s\n",
      "[CV] clf__penalty=l2, clf__C=1.09313497385, clf__random_state=123, scaler__with_mean=True \n",
      "[CV]  clf__penalty=l2, clf__C=1.09313497385, clf__random_state=123, scaler__with_mean=True, total=   1.0s\n",
      "[CV] clf__penalty=l2, clf__C=1.09313497385, clf__random_state=123, scaler__with_mean=True \n",
      "[CV]  clf__penalty=l2, clf__C=1.09313497385, clf__random_state=123, scaler__with_mean=True, total=   0.9s\n",
      "[CV] clf__penalty=l2, clf__C=1.09313497385, clf__random_state=123, scaler__with_mean=True \n",
      "[CV]  clf__penalty=l2, clf__C=1.09313497385, clf__random_state=123, scaler__with_mean=True, total=   1.1s\n",
      "[CV] clf__penalty=l2, clf__C=1.09313497385, clf__random_state=123, scaler__with_mean=True \n",
      "[CV]  clf__penalty=l2, clf__C=1.09313497385, clf__random_state=123, scaler__with_mean=True, total=   0.9s\n",
      "[CV] clf__penalty=l2, clf__C=1.09313497385, clf__random_state=123, scaler__with_mean=True \n",
      "[CV]  clf__penalty=l2, clf__C=1.09313497385, clf__random_state=123, scaler__with_mean=True, total=   0.8s\n",
      "[CV] clf__penalty=l2, clf__C=24.7282894044, clf__random_state=123, scaler__with_mean=False \n",
      "[CV]  clf__penalty=l2, clf__C=24.7282894044, clf__random_state=123, scaler__with_mean=False, total=   0.4s\n",
      "[CV] clf__penalty=l2, clf__C=24.7282894044, clf__random_state=123, scaler__with_mean=False \n",
      "[CV]  clf__penalty=l2, clf__C=24.7282894044, clf__random_state=123, scaler__with_mean=False, total=   0.4s\n",
      "[CV] clf__penalty=l2, clf__C=24.7282894044, clf__random_state=123, scaler__with_mean=False \n",
      "[CV]  clf__penalty=l2, clf__C=24.7282894044, clf__random_state=123, scaler__with_mean=False, total=   0.4s\n",
      "[CV] clf__penalty=l2, clf__C=24.7282894044, clf__random_state=123, scaler__with_mean=False \n",
      "[CV]  clf__penalty=l2, clf__C=24.7282894044, clf__random_state=123, scaler__with_mean=False, total=   0.5s\n",
      "[CV] clf__penalty=l2, clf__C=24.7282894044, clf__random_state=123, scaler__with_mean=False \n",
      "[CV]  clf__penalty=l2, clf__C=24.7282894044, clf__random_state=123, scaler__with_mean=False, total=   0.3s\n",
      "[CV] clf__penalty=l2, clf__C=221.332999809, clf__random_state=123, scaler__with_mean=False \n",
      "[CV]  clf__penalty=l2, clf__C=221.332999809, clf__random_state=123, scaler__with_mean=False, total=   0.4s\n",
      "[CV] clf__penalty=l2, clf__C=221.332999809, clf__random_state=123, scaler__with_mean=False \n",
      "[CV]  clf__penalty=l2, clf__C=221.332999809, clf__random_state=123, scaler__with_mean=False, total=   0.4s\n",
      "[CV] clf__penalty=l2, clf__C=221.332999809, clf__random_state=123, scaler__with_mean=False \n",
      "[CV]  clf__penalty=l2, clf__C=221.332999809, clf__random_state=123, scaler__with_mean=False, total=   0.3s\n",
      "[CV] clf__penalty=l2, clf__C=221.332999809, clf__random_state=123, scaler__with_mean=False \n",
      "[CV]  clf__penalty=l2, clf__C=221.332999809, clf__random_state=123, scaler__with_mean=False, total=   0.5s\n",
      "[CV] clf__penalty=l2, clf__C=221.332999809, clf__random_state=123, scaler__with_mean=False \n",
      "[CV]  clf__penalty=l2, clf__C=221.332999809, clf__random_state=123, scaler__with_mean=False, total=   0.4s\n",
      "[CV] clf__penalty=l2, clf__C=41.0626545788, clf__random_state=123, scaler__with_mean=False \n",
      "[CV]  clf__penalty=l2, clf__C=41.0626545788, clf__random_state=123, scaler__with_mean=False, total=   0.4s\n",
      "[CV] clf__penalty=l2, clf__C=41.0626545788, clf__random_state=123, scaler__with_mean=False \n",
      "[CV]  clf__penalty=l2, clf__C=41.0626545788, clf__random_state=123, scaler__with_mean=False, total=   0.4s\n",
      "[CV] clf__penalty=l2, clf__C=41.0626545788, clf__random_state=123, scaler__with_mean=False \n",
      "[CV]  clf__penalty=l2, clf__C=41.0626545788, clf__random_state=123, scaler__with_mean=False, total=   0.4s\n",
      "[CV] clf__penalty=l2, clf__C=41.0626545788, clf__random_state=123, scaler__with_mean=False \n",
      "[CV]  clf__penalty=l2, clf__C=41.0626545788, clf__random_state=123, scaler__with_mean=False, total=   0.6s\n",
      "[CV] clf__penalty=l2, clf__C=41.0626545788, clf__random_state=123, scaler__with_mean=False \n",
      "[CV]  clf__penalty=l2, clf__C=41.0626545788, clf__random_state=123, scaler__with_mean=False, total=   0.4s\n",
      "[CV] clf__penalty=l2, clf__C=0.0984579089199, clf__random_state=123, scaler__with_mean=False \n",
      "[CV]  clf__penalty=l2, clf__C=0.0984579089199, clf__random_state=123, scaler__with_mean=False, total=   0.3s\n",
      "[CV] clf__penalty=l2, clf__C=0.0984579089199, clf__random_state=123, scaler__with_mean=False \n",
      "[CV]  clf__penalty=l2, clf__C=0.0984579089199, clf__random_state=123, scaler__with_mean=False, total=   0.3s\n",
      "[CV] clf__penalty=l2, clf__C=0.0984579089199, clf__random_state=123, scaler__with_mean=False \n",
      "[CV]  clf__penalty=l2, clf__C=0.0984579089199, clf__random_state=123, scaler__with_mean=False, total=   0.3s\n",
      "[CV] clf__penalty=l2, clf__C=0.0984579089199, clf__random_state=123, scaler__with_mean=False \n",
      "[CV]  clf__penalty=l2, clf__C=0.0984579089199, clf__random_state=123, scaler__with_mean=False, total=   0.3s\n",
      "[CV] clf__penalty=l2, clf__C=0.0984579089199, clf__random_state=123, scaler__with_mean=False \n",
      "[CV]  clf__penalty=l2, clf__C=0.0984579089199, clf__random_state=123, scaler__with_mean=False, total=   0.2s\n",
      "[CV] clf__penalty=l2, clf__C=10.8545896893, clf__random_state=123, scaler__with_mean=False \n",
      "[CV]  clf__penalty=l2, clf__C=10.8545896893, clf__random_state=123, scaler__with_mean=False, total=   0.4s\n",
      "[CV] clf__penalty=l2, clf__C=10.8545896893, clf__random_state=123, scaler__with_mean=False \n",
      "[CV]  clf__penalty=l2, clf__C=10.8545896893, clf__random_state=123, scaler__with_mean=False, total=   0.4s\n",
      "[CV] clf__penalty=l2, clf__C=10.8545896893, clf__random_state=123, scaler__with_mean=False \n",
      "[CV]  clf__penalty=l2, clf__C=10.8545896893, clf__random_state=123, scaler__with_mean=False, total=   0.3s\n",
      "[CV] clf__penalty=l2, clf__C=10.8545896893, clf__random_state=123, scaler__with_mean=False \n",
      "[CV]  clf__penalty=l2, clf__C=10.8545896893, clf__random_state=123, scaler__with_mean=False, total=   0.5s\n",
      "[CV] clf__penalty=l2, clf__C=10.8545896893, clf__random_state=123, scaler__with_mean=False \n"
     ]
    },
    {
     "name": "stdout",
     "output_type": "stream",
     "text": [
      "[CV]  clf__penalty=l2, clf__C=10.8545896893, clf__random_state=123, scaler__with_mean=False, total=   0.4s\n",
      "[CV] clf__penalty=l2, clf__C=0.0728649966332, clf__random_state=123, scaler__with_mean=False \n",
      "[CV]  clf__penalty=l2, clf__C=0.0728649966332, clf__random_state=123, scaler__with_mean=False, total=   0.3s\n",
      "[CV] clf__penalty=l2, clf__C=0.0728649966332, clf__random_state=123, scaler__with_mean=False \n",
      "[CV]  clf__penalty=l2, clf__C=0.0728649966332, clf__random_state=123, scaler__with_mean=False, total=   0.3s\n",
      "[CV] clf__penalty=l2, clf__C=0.0728649966332, clf__random_state=123, scaler__with_mean=False \n",
      "[CV]  clf__penalty=l2, clf__C=0.0728649966332, clf__random_state=123, scaler__with_mean=False, total=   0.3s\n",
      "[CV] clf__penalty=l2, clf__C=0.0728649966332, clf__random_state=123, scaler__with_mean=False \n",
      "[CV]  clf__penalty=l2, clf__C=0.0728649966332, clf__random_state=123, scaler__with_mean=False, total=   0.2s\n",
      "[CV] clf__penalty=l2, clf__C=0.0728649966332, clf__random_state=123, scaler__with_mean=False \n",
      "[CV]  clf__penalty=l2, clf__C=0.0728649966332, clf__random_state=123, scaler__with_mean=False, total=   0.2s\n",
      "[CV] clf__penalty=l2, clf__C=1.59904584283, clf__random_state=123, scaler__with_mean=False \n",
      "[CV]  clf__penalty=l2, clf__C=1.59904584283, clf__random_state=123, scaler__with_mean=False, total=   0.4s\n",
      "[CV] clf__penalty=l2, clf__C=1.59904584283, clf__random_state=123, scaler__with_mean=False \n",
      "[CV]  clf__penalty=l2, clf__C=1.59904584283, clf__random_state=123, scaler__with_mean=False, total=   0.4s\n",
      "[CV] clf__penalty=l2, clf__C=1.59904584283, clf__random_state=123, scaler__with_mean=False \n",
      "[CV]  clf__penalty=l2, clf__C=1.59904584283, clf__random_state=123, scaler__with_mean=False, total=   0.3s\n",
      "[CV] clf__penalty=l2, clf__C=1.59904584283, clf__random_state=123, scaler__with_mean=False \n",
      "[CV]  clf__penalty=l2, clf__C=1.59904584283, clf__random_state=123, scaler__with_mean=False, total=   0.4s\n",
      "[CV] clf__penalty=l2, clf__C=1.59904584283, clf__random_state=123, scaler__with_mean=False \n",
      "[CV]  clf__penalty=l2, clf__C=1.59904584283, clf__random_state=123, scaler__with_mean=False, total=   0.3s\n",
      "[CV] clf__penalty=l2, clf__C=70.2385383281, clf__random_state=123, scaler__with_mean=True \n",
      "[CV]  clf__penalty=l2, clf__C=70.2385383281, clf__random_state=123, scaler__with_mean=True, total=   1.0s\n",
      "[CV] clf__penalty=l2, clf__C=70.2385383281, clf__random_state=123, scaler__with_mean=True \n",
      "[CV]  clf__penalty=l2, clf__C=70.2385383281, clf__random_state=123, scaler__with_mean=True, total=   0.9s\n",
      "[CV] clf__penalty=l2, clf__C=70.2385383281, clf__random_state=123, scaler__with_mean=True \n",
      "[CV]  clf__penalty=l2, clf__C=70.2385383281, clf__random_state=123, scaler__with_mean=True, total=   1.0s\n",
      "[CV] clf__penalty=l2, clf__C=70.2385383281, clf__random_state=123, scaler__with_mean=True \n",
      "[CV]  clf__penalty=l2, clf__C=70.2385383281, clf__random_state=123, scaler__with_mean=True, total=   0.9s\n",
      "[CV] clf__penalty=l2, clf__C=70.2385383281, clf__random_state=123, scaler__with_mean=True \n",
      "[CV]  clf__penalty=l2, clf__C=70.2385383281, clf__random_state=123, scaler__with_mean=True, total=   0.9s\n",
      "[CV] clf__penalty=l2, clf__C=11.2651017217, clf__random_state=123, scaler__with_mean=True \n",
      "[CV]  clf__penalty=l2, clf__C=11.2651017217, clf__random_state=123, scaler__with_mean=True, total=   1.0s\n",
      "[CV] clf__penalty=l2, clf__C=11.2651017217, clf__random_state=123, scaler__with_mean=True \n",
      "[CV]  clf__penalty=l2, clf__C=11.2651017217, clf__random_state=123, scaler__with_mean=True, total=   0.9s\n",
      "[CV] clf__penalty=l2, clf__C=11.2651017217, clf__random_state=123, scaler__with_mean=True \n",
      "[CV]  clf__penalty=l2, clf__C=11.2651017217, clf__random_state=123, scaler__with_mean=True, total=   1.0s\n",
      "[CV] clf__penalty=l2, clf__C=11.2651017217, clf__random_state=123, scaler__with_mean=True \n",
      "[CV]  clf__penalty=l2, clf__C=11.2651017217, clf__random_state=123, scaler__with_mean=True, total=   0.9s\n",
      "[CV] clf__penalty=l2, clf__C=11.2651017217, clf__random_state=123, scaler__with_mean=True \n",
      "[CV]  clf__penalty=l2, clf__C=11.2651017217, clf__random_state=123, scaler__with_mean=True, total=   0.9s\n",
      "[CV] clf__penalty=l2, clf__C=44.8154853758, clf__random_state=123, scaler__with_mean=False \n",
      "[CV]  clf__penalty=l2, clf__C=44.8154853758, clf__random_state=123, scaler__with_mean=False, total=   0.4s\n",
      "[CV] clf__penalty=l2, clf__C=44.8154853758, clf__random_state=123, scaler__with_mean=False \n",
      "[CV]  clf__penalty=l2, clf__C=44.8154853758, clf__random_state=123, scaler__with_mean=False, total=   0.4s\n",
      "[CV] clf__penalty=l2, clf__C=44.8154853758, clf__random_state=123, scaler__with_mean=False \n",
      "[CV]  clf__penalty=l2, clf__C=44.8154853758, clf__random_state=123, scaler__with_mean=False, total=   0.3s\n",
      "[CV] clf__penalty=l2, clf__C=44.8154853758, clf__random_state=123, scaler__with_mean=False \n",
      "[CV]  clf__penalty=l2, clf__C=44.8154853758, clf__random_state=123, scaler__with_mean=False, total=   0.5s\n",
      "[CV] clf__penalty=l2, clf__C=44.8154853758, clf__random_state=123, scaler__with_mean=False \n",
      "[CV]  clf__penalty=l2, clf__C=44.8154853758, clf__random_state=123, scaler__with_mean=False, total=   0.4s\n",
      "[CV] clf__penalty=l2, clf__C=557.532017178, clf__random_state=123, scaler__with_mean=False \n",
      "[CV]  clf__penalty=l2, clf__C=557.532017178, clf__random_state=123, scaler__with_mean=False, total=   0.4s\n",
      "[CV] clf__penalty=l2, clf__C=557.532017178, clf__random_state=123, scaler__with_mean=False \n",
      "[CV]  clf__penalty=l2, clf__C=557.532017178, clf__random_state=123, scaler__with_mean=False, total=   0.4s\n",
      "[CV] clf__penalty=l2, clf__C=557.532017178, clf__random_state=123, scaler__with_mean=False \n",
      "[CV]  clf__penalty=l2, clf__C=557.532017178, clf__random_state=123, scaler__with_mean=False, total=   0.3s\n",
      "[CV] clf__penalty=l2, clf__C=557.532017178, clf__random_state=123, scaler__with_mean=False \n",
      "[CV]  clf__penalty=l2, clf__C=557.532017178, clf__random_state=123, scaler__with_mean=False, total=   0.5s\n",
      "[CV] clf__penalty=l2, clf__C=557.532017178, clf__random_state=123, scaler__with_mean=False \n",
      "[CV]  clf__penalty=l2, clf__C=557.532017178, clf__random_state=123, scaler__with_mean=False, total=   0.5s\n",
      "[CV] clf__penalty=l2, clf__C=4.07682034891, clf__random_state=123, scaler__with_mean=True \n",
      "[CV]  clf__penalty=l2, clf__C=4.07682034891, clf__random_state=123, scaler__with_mean=True, total=   1.1s\n",
      "[CV] clf__penalty=l2, clf__C=4.07682034891, clf__random_state=123, scaler__with_mean=True \n",
      "[CV]  clf__penalty=l2, clf__C=4.07682034891, clf__random_state=123, scaler__with_mean=True, total=   0.9s\n",
      "[CV] clf__penalty=l2, clf__C=4.07682034891, clf__random_state=123, scaler__with_mean=True \n",
      "[CV]  clf__penalty=l2, clf__C=4.07682034891, clf__random_state=123, scaler__with_mean=True, total=   1.0s\n",
      "[CV] clf__penalty=l2, clf__C=4.07682034891, clf__random_state=123, scaler__with_mean=True \n",
      "[CV]  clf__penalty=l2, clf__C=4.07682034891, clf__random_state=123, scaler__with_mean=True, total=   0.9s\n",
      "[CV] clf__penalty=l2, clf__C=4.07682034891, clf__random_state=123, scaler__with_mean=True \n",
      "[CV]  clf__penalty=l2, clf__C=4.07682034891, clf__random_state=123, scaler__with_mean=True, total=   0.9s\n",
      "[CV] clf__penalty=l2, clf__C=0.0826231845901, clf__random_state=123, scaler__with_mean=True \n",
      "[CV]  clf__penalty=l2, clf__C=0.0826231845901, clf__random_state=123, scaler__with_mean=True, total=   0.6s\n",
      "[CV] clf__penalty=l2, clf__C=0.0826231845901, clf__random_state=123, scaler__with_mean=True \n",
      "[CV]  clf__penalty=l2, clf__C=0.0826231845901, clf__random_state=123, scaler__with_mean=True, total=   0.6s\n",
      "[CV] clf__penalty=l2, clf__C=0.0826231845901, clf__random_state=123, scaler__with_mean=True \n",
      "[CV]  clf__penalty=l2, clf__C=0.0826231845901, clf__random_state=123, scaler__with_mean=True, total=   0.7s\n",
      "[CV] clf__penalty=l2, clf__C=0.0826231845901, clf__random_state=123, scaler__with_mean=True \n",
      "[CV]  clf__penalty=l2, clf__C=0.0826231845901, clf__random_state=123, scaler__with_mean=True, total=   0.8s\n",
      "[CV] clf__penalty=l2, clf__C=0.0826231845901, clf__random_state=123, scaler__with_mean=True \n",
      "[CV]  clf__penalty=l2, clf__C=0.0826231845901, clf__random_state=123, scaler__with_mean=True, total=   0.6s\n",
      "[CV] clf__penalty=l2, clf__C=4.79450381391, clf__random_state=123, scaler__with_mean=True \n",
      "[CV]  clf__penalty=l2, clf__C=4.79450381391, clf__random_state=123, scaler__with_mean=True, total=   1.0s\n",
      "[CV] clf__penalty=l2, clf__C=4.79450381391, clf__random_state=123, scaler__with_mean=True \n"
     ]
    },
    {
     "name": "stdout",
     "output_type": "stream",
     "text": [
      "[CV]  clf__penalty=l2, clf__C=4.79450381391, clf__random_state=123, scaler__with_mean=True, total=   0.9s\n",
      "[CV] clf__penalty=l2, clf__C=4.79450381391, clf__random_state=123, scaler__with_mean=True \n",
      "[CV]  clf__penalty=l2, clf__C=4.79450381391, clf__random_state=123, scaler__with_mean=True, total=   1.0s\n",
      "[CV] clf__penalty=l2, clf__C=4.79450381391, clf__random_state=123, scaler__with_mean=True \n",
      "[CV]  clf__penalty=l2, clf__C=4.79450381391, clf__random_state=123, scaler__with_mean=True, total=   0.9s\n",
      "[CV] clf__penalty=l2, clf__C=4.79450381391, clf__random_state=123, scaler__with_mean=True \n",
      "[CV]  clf__penalty=l2, clf__C=4.79450381391, clf__random_state=123, scaler__with_mean=True, total=   0.9s\n",
      "[CV] clf__penalty=l2, clf__C=252.925667477, clf__random_state=123, scaler__with_mean=False \n",
      "[CV]  clf__penalty=l2, clf__C=252.925667477, clf__random_state=123, scaler__with_mean=False, total=   0.4s\n",
      "[CV] clf__penalty=l2, clf__C=252.925667477, clf__random_state=123, scaler__with_mean=False \n",
      "[CV]  clf__penalty=l2, clf__C=252.925667477, clf__random_state=123, scaler__with_mean=False, total=   0.4s\n",
      "[CV] clf__penalty=l2, clf__C=252.925667477, clf__random_state=123, scaler__with_mean=False \n",
      "[CV]  clf__penalty=l2, clf__C=252.925667477, clf__random_state=123, scaler__with_mean=False, total=   0.4s\n",
      "[CV] clf__penalty=l2, clf__C=252.925667477, clf__random_state=123, scaler__with_mean=False \n",
      "[CV]  clf__penalty=l2, clf__C=252.925667477, clf__random_state=123, scaler__with_mean=False, total=   0.5s\n",
      "[CV] clf__penalty=l2, clf__C=252.925667477, clf__random_state=123, scaler__with_mean=False \n",
      "[CV]  clf__penalty=l2, clf__C=252.925667477, clf__random_state=123, scaler__with_mean=False, total=   0.4s\n",
      "[CV] clf__penalty=l2, clf__C=0.298168023446, clf__random_state=123, scaler__with_mean=False \n",
      "[CV]  clf__penalty=l2, clf__C=0.298168023446, clf__random_state=123, scaler__with_mean=False, total=   0.3s\n",
      "[CV] clf__penalty=l2, clf__C=0.298168023446, clf__random_state=123, scaler__with_mean=False \n",
      "[CV]  clf__penalty=l2, clf__C=0.298168023446, clf__random_state=123, scaler__with_mean=False, total=   0.3s\n",
      "[CV] clf__penalty=l2, clf__C=0.298168023446, clf__random_state=123, scaler__with_mean=False \n",
      "[CV]  clf__penalty=l2, clf__C=0.298168023446, clf__random_state=123, scaler__with_mean=False, total=   0.3s\n",
      "[CV] clf__penalty=l2, clf__C=0.298168023446, clf__random_state=123, scaler__with_mean=False \n",
      "[CV]  clf__penalty=l2, clf__C=0.298168023446, clf__random_state=123, scaler__with_mean=False, total=   0.3s\n",
      "[CV] clf__penalty=l2, clf__C=0.298168023446, clf__random_state=123, scaler__with_mean=False \n",
      "[CV]  clf__penalty=l2, clf__C=0.298168023446, clf__random_state=123, scaler__with_mean=False, total=   0.3s\n",
      "[CV] clf__penalty=l2, clf__C=0.685169685088, clf__random_state=123, scaler__with_mean=True \n",
      "[CV]  clf__penalty=l2, clf__C=0.685169685088, clf__random_state=123, scaler__with_mean=True, total=   0.9s\n",
      "[CV] clf__penalty=l2, clf__C=0.685169685088, clf__random_state=123, scaler__with_mean=True \n",
      "[CV]  clf__penalty=l2, clf__C=0.685169685088, clf__random_state=123, scaler__with_mean=True, total=   0.9s\n",
      "[CV] clf__penalty=l2, clf__C=0.685169685088, clf__random_state=123, scaler__with_mean=True \n",
      "[CV]  clf__penalty=l2, clf__C=0.685169685088, clf__random_state=123, scaler__with_mean=True, total=   0.9s\n",
      "[CV] clf__penalty=l2, clf__C=0.685169685088, clf__random_state=123, scaler__with_mean=True \n",
      "[CV]  clf__penalty=l2, clf__C=0.685169685088, clf__random_state=123, scaler__with_mean=True, total=   0.9s\n",
      "[CV] clf__penalty=l2, clf__C=0.685169685088, clf__random_state=123, scaler__with_mean=True \n",
      "[CV]  clf__penalty=l2, clf__C=0.685169685088, clf__random_state=123, scaler__with_mean=True, total=   0.9s\n",
      "[CV] clf__penalty=l2, clf__C=115.629858347, clf__random_state=123, scaler__with_mean=False \n",
      "[CV]  clf__penalty=l2, clf__C=115.629858347, clf__random_state=123, scaler__with_mean=False, total=   0.4s\n",
      "[CV] clf__penalty=l2, clf__C=115.629858347, clf__random_state=123, scaler__with_mean=False \n",
      "[CV]  clf__penalty=l2, clf__C=115.629858347, clf__random_state=123, scaler__with_mean=False, total=   0.4s\n",
      "[CV] clf__penalty=l2, clf__C=115.629858347, clf__random_state=123, scaler__with_mean=False \n",
      "[CV]  clf__penalty=l2, clf__C=115.629858347, clf__random_state=123, scaler__with_mean=False, total=   0.4s\n",
      "[CV] clf__penalty=l2, clf__C=115.629858347, clf__random_state=123, scaler__with_mean=False \n",
      "[CV]  clf__penalty=l2, clf__C=115.629858347, clf__random_state=123, scaler__with_mean=False, total=   0.5s\n",
      "[CV] clf__penalty=l2, clf__C=115.629858347, clf__random_state=123, scaler__with_mean=False \n",
      "[CV]  clf__penalty=l2, clf__C=115.629858347, clf__random_state=123, scaler__with_mean=False, total=   0.4s\n",
      "[CV] clf__penalty=l2, clf__C=0.0944408143082, clf__random_state=123, scaler__with_mean=False \n",
      "[CV]  clf__penalty=l2, clf__C=0.0944408143082, clf__random_state=123, scaler__with_mean=False, total=   0.3s\n",
      "[CV] clf__penalty=l2, clf__C=0.0944408143082, clf__random_state=123, scaler__with_mean=False \n",
      "[CV]  clf__penalty=l2, clf__C=0.0944408143082, clf__random_state=123, scaler__with_mean=False, total=   0.2s\n",
      "[CV] clf__penalty=l2, clf__C=0.0944408143082, clf__random_state=123, scaler__with_mean=False \n",
      "[CV]  clf__penalty=l2, clf__C=0.0944408143082, clf__random_state=123, scaler__with_mean=False, total=   0.3s\n",
      "[CV] clf__penalty=l2, clf__C=0.0944408143082, clf__random_state=123, scaler__with_mean=False \n",
      "[CV]  clf__penalty=l2, clf__C=0.0944408143082, clf__random_state=123, scaler__with_mean=False, total=   0.2s\n",
      "[CV] clf__penalty=l2, clf__C=0.0944408143082, clf__random_state=123, scaler__with_mean=False \n",
      "[CV]  clf__penalty=l2, clf__C=0.0944408143082, clf__random_state=123, scaler__with_mean=False, total=   0.2s\n",
      "[CV] clf__penalty=l2, clf__C=43.1944547254, clf__random_state=123, scaler__with_mean=False \n",
      "[CV]  clf__penalty=l2, clf__C=43.1944547254, clf__random_state=123, scaler__with_mean=False, total=   0.4s\n",
      "[CV] clf__penalty=l2, clf__C=43.1944547254, clf__random_state=123, scaler__with_mean=False \n",
      "[CV]  clf__penalty=l2, clf__C=43.1944547254, clf__random_state=123, scaler__with_mean=False, total=   0.4s\n",
      "[CV] clf__penalty=l2, clf__C=43.1944547254, clf__random_state=123, scaler__with_mean=False \n",
      "[CV]  clf__penalty=l2, clf__C=43.1944547254, clf__random_state=123, scaler__with_mean=False, total=   0.4s\n",
      "[CV] clf__penalty=l2, clf__C=43.1944547254, clf__random_state=123, scaler__with_mean=False \n",
      "[CV]  clf__penalty=l2, clf__C=43.1944547254, clf__random_state=123, scaler__with_mean=False, total=   0.5s\n",
      "[CV] clf__penalty=l2, clf__C=43.1944547254, clf__random_state=123, scaler__with_mean=False \n",
      "[CV]  clf__penalty=l2, clf__C=43.1944547254, clf__random_state=123, scaler__with_mean=False, total=   0.4s\n",
      "[CV] clf__penalty=l2, clf__C=0.126614663374, clf__random_state=123, scaler__with_mean=False \n",
      "[CV]  clf__penalty=l2, clf__C=0.126614663374, clf__random_state=123, scaler__with_mean=False, total=   0.3s\n",
      "[CV] clf__penalty=l2, clf__C=0.126614663374, clf__random_state=123, scaler__with_mean=False \n",
      "[CV]  clf__penalty=l2, clf__C=0.126614663374, clf__random_state=123, scaler__with_mean=False, total=   0.3s\n",
      "[CV] clf__penalty=l2, clf__C=0.126614663374, clf__random_state=123, scaler__with_mean=False \n",
      "[CV]  clf__penalty=l2, clf__C=0.126614663374, clf__random_state=123, scaler__with_mean=False, total=   0.3s\n",
      "[CV] clf__penalty=l2, clf__C=0.126614663374, clf__random_state=123, scaler__with_mean=False \n",
      "[CV]  clf__penalty=l2, clf__C=0.126614663374, clf__random_state=123, scaler__with_mean=False, total=   0.3s\n",
      "[CV] clf__penalty=l2, clf__C=0.126614663374, clf__random_state=123, scaler__with_mean=False \n",
      "[CV]  clf__penalty=l2, clf__C=0.126614663374, clf__random_state=123, scaler__with_mean=False, total=   0.2s\n",
      "[CV] clf__penalty=l2, clf__C=0.0812094867476, clf__random_state=123, scaler__with_mean=False \n",
      "[CV]  clf__penalty=l2, clf__C=0.0812094867476, clf__random_state=123, scaler__with_mean=False, total=   0.3s\n",
      "[CV] clf__penalty=l2, clf__C=0.0812094867476, clf__random_state=123, scaler__with_mean=False \n",
      "[CV]  clf__penalty=l2, clf__C=0.0812094867476, clf__random_state=123, scaler__with_mean=False, total=   0.2s\n",
      "[CV] clf__penalty=l2, clf__C=0.0812094867476, clf__random_state=123, scaler__with_mean=False \n"
     ]
    },
    {
     "name": "stdout",
     "output_type": "stream",
     "text": [
      "[CV]  clf__penalty=l2, clf__C=0.0812094867476, clf__random_state=123, scaler__with_mean=False, total=   0.2s\n",
      "[CV] clf__penalty=l2, clf__C=0.0812094867476, clf__random_state=123, scaler__with_mean=False \n",
      "[CV]  clf__penalty=l2, clf__C=0.0812094867476, clf__random_state=123, scaler__with_mean=False, total=   0.3s\n",
      "[CV] clf__penalty=l2, clf__C=0.0812094867476, clf__random_state=123, scaler__with_mean=False \n",
      "[CV]  clf__penalty=l2, clf__C=0.0812094867476, clf__random_state=123, scaler__with_mean=False, total=   0.3s\n",
      "[CV] clf__penalty=l2, clf__C=3.97337562749, clf__random_state=123, scaler__with_mean=False \n",
      "[CV]  clf__penalty=l2, clf__C=3.97337562749, clf__random_state=123, scaler__with_mean=False, total=   0.4s\n",
      "[CV] clf__penalty=l2, clf__C=3.97337562749, clf__random_state=123, scaler__with_mean=False \n",
      "[CV]  clf__penalty=l2, clf__C=3.97337562749, clf__random_state=123, scaler__with_mean=False, total=   0.4s\n",
      "[CV] clf__penalty=l2, clf__C=3.97337562749, clf__random_state=123, scaler__with_mean=False \n",
      "[CV]  clf__penalty=l2, clf__C=3.97337562749, clf__random_state=123, scaler__with_mean=False, total=   0.4s\n",
      "[CV] clf__penalty=l2, clf__C=3.97337562749, clf__random_state=123, scaler__with_mean=False \n",
      "[CV]  clf__penalty=l2, clf__C=3.97337562749, clf__random_state=123, scaler__with_mean=False, total=   0.5s\n",
      "[CV] clf__penalty=l2, clf__C=3.97337562749, clf__random_state=123, scaler__with_mean=False \n",
      "[CV]  clf__penalty=l2, clf__C=3.97337562749, clf__random_state=123, scaler__with_mean=False, total=   0.4s\n",
      "[CV] clf__penalty=l2, clf__C=0.111093181133, clf__random_state=123, scaler__with_mean=True \n",
      "[CV]  clf__penalty=l2, clf__C=0.111093181133, clf__random_state=123, scaler__with_mean=True, total=   0.7s\n",
      "[CV] clf__penalty=l2, clf__C=0.111093181133, clf__random_state=123, scaler__with_mean=True \n",
      "[CV]  clf__penalty=l2, clf__C=0.111093181133, clf__random_state=123, scaler__with_mean=True, total=   0.6s\n",
      "[CV] clf__penalty=l2, clf__C=0.111093181133, clf__random_state=123, scaler__with_mean=True \n",
      "[CV]  clf__penalty=l2, clf__C=0.111093181133, clf__random_state=123, scaler__with_mean=True, total=   0.7s\n",
      "[CV] clf__penalty=l2, clf__C=0.111093181133, clf__random_state=123, scaler__with_mean=True \n",
      "[CV]  clf__penalty=l2, clf__C=0.111093181133, clf__random_state=123, scaler__with_mean=True, total=   0.8s\n",
      "[CV] clf__penalty=l2, clf__C=0.111093181133, clf__random_state=123, scaler__with_mean=True \n",
      "[CV]  clf__penalty=l2, clf__C=0.111093181133, clf__random_state=123, scaler__with_mean=True, total=   0.6s\n",
      "[CV] clf__penalty=l2, clf__C=0.0263162306995, clf__random_state=123, scaler__with_mean=True \n",
      "[CV]  clf__penalty=l2, clf__C=0.0263162306995, clf__random_state=123, scaler__with_mean=True, total=   0.6s\n",
      "[CV] clf__penalty=l2, clf__C=0.0263162306995, clf__random_state=123, scaler__with_mean=True \n",
      "[CV]  clf__penalty=l2, clf__C=0.0263162306995, clf__random_state=123, scaler__with_mean=True, total=   0.5s\n",
      "[CV] clf__penalty=l2, clf__C=0.0263162306995, clf__random_state=123, scaler__with_mean=True \n",
      "[CV]  clf__penalty=l2, clf__C=0.0263162306995, clf__random_state=123, scaler__with_mean=True, total=   0.6s\n",
      "[CV] clf__penalty=l2, clf__C=0.0263162306995, clf__random_state=123, scaler__with_mean=True \n",
      "[CV]  clf__penalty=l2, clf__C=0.0263162306995, clf__random_state=123, scaler__with_mean=True, total=   0.6s\n",
      "[CV] clf__penalty=l2, clf__C=0.0263162306995, clf__random_state=123, scaler__with_mean=True \n",
      "[CV]  clf__penalty=l2, clf__C=0.0263162306995, clf__random_state=123, scaler__with_mean=True, total=   0.6s\n",
      "[CV] clf__penalty=l2, clf__C=0.112898402541, clf__random_state=123, scaler__with_mean=False \n",
      "[CV]  clf__penalty=l2, clf__C=0.112898402541, clf__random_state=123, scaler__with_mean=False, total=   0.3s\n",
      "[CV] clf__penalty=l2, clf__C=0.112898402541, clf__random_state=123, scaler__with_mean=False \n",
      "[CV]  clf__penalty=l2, clf__C=0.112898402541, clf__random_state=123, scaler__with_mean=False, total=   0.3s\n",
      "[CV] clf__penalty=l2, clf__C=0.112898402541, clf__random_state=123, scaler__with_mean=False \n",
      "[CV]  clf__penalty=l2, clf__C=0.112898402541, clf__random_state=123, scaler__with_mean=False, total=   0.3s\n",
      "[CV] clf__penalty=l2, clf__C=0.112898402541, clf__random_state=123, scaler__with_mean=False \n",
      "[CV]  clf__penalty=l2, clf__C=0.112898402541, clf__random_state=123, scaler__with_mean=False, total=   0.2s\n",
      "[CV] clf__penalty=l2, clf__C=0.112898402541, clf__random_state=123, scaler__with_mean=False \n",
      "[CV]  clf__penalty=l2, clf__C=0.112898402541, clf__random_state=123, scaler__with_mean=False, total=   0.2s\n",
      "[CV] clf__penalty=l2, clf__C=2.51495366368, clf__random_state=123, scaler__with_mean=False \n",
      "[CV]  clf__penalty=l2, clf__C=2.51495366368, clf__random_state=123, scaler__with_mean=False, total=   0.4s\n",
      "[CV] clf__penalty=l2, clf__C=2.51495366368, clf__random_state=123, scaler__with_mean=False \n",
      "[CV]  clf__penalty=l2, clf__C=2.51495366368, clf__random_state=123, scaler__with_mean=False, total=   0.4s\n",
      "[CV] clf__penalty=l2, clf__C=2.51495366368, clf__random_state=123, scaler__with_mean=False \n",
      "[CV]  clf__penalty=l2, clf__C=2.51495366368, clf__random_state=123, scaler__with_mean=False, total=   0.3s\n",
      "[CV] clf__penalty=l2, clf__C=2.51495366368, clf__random_state=123, scaler__with_mean=False \n",
      "[CV]  clf__penalty=l2, clf__C=2.51495366368, clf__random_state=123, scaler__with_mean=False, total=   0.5s\n",
      "[CV] clf__penalty=l2, clf__C=2.51495366368, clf__random_state=123, scaler__with_mean=False \n",
      "[CV]  clf__penalty=l2, clf__C=2.51495366368, clf__random_state=123, scaler__with_mean=False, total=   0.4s\n",
      "[CV] clf__penalty=l2, clf__C=31.5198223112, clf__random_state=123, scaler__with_mean=False \n",
      "[CV]  clf__penalty=l2, clf__C=31.5198223112, clf__random_state=123, scaler__with_mean=False, total=   0.4s\n",
      "[CV] clf__penalty=l2, clf__C=31.5198223112, clf__random_state=123, scaler__with_mean=False \n",
      "[CV]  clf__penalty=l2, clf__C=31.5198223112, clf__random_state=123, scaler__with_mean=False, total=   0.4s\n",
      "[CV] clf__penalty=l2, clf__C=31.5198223112, clf__random_state=123, scaler__with_mean=False \n",
      "[CV]  clf__penalty=l2, clf__C=31.5198223112, clf__random_state=123, scaler__with_mean=False, total=   0.3s\n",
      "[CV] clf__penalty=l2, clf__C=31.5198223112, clf__random_state=123, scaler__with_mean=False \n",
      "[CV]  clf__penalty=l2, clf__C=31.5198223112, clf__random_state=123, scaler__with_mean=False, total=   0.5s\n",
      "[CV] clf__penalty=l2, clf__C=31.5198223112, clf__random_state=123, scaler__with_mean=False \n",
      "[CV]  clf__penalty=l2, clf__C=31.5198223112, clf__random_state=123, scaler__with_mean=False, total=   0.4s\n",
      "[CV] clf__penalty=l2, clf__C=0.0223248215166, clf__random_state=123, scaler__with_mean=True \n",
      "[CV]  clf__penalty=l2, clf__C=0.0223248215166, clf__random_state=123, scaler__with_mean=True, total=   0.5s\n",
      "[CV] clf__penalty=l2, clf__C=0.0223248215166, clf__random_state=123, scaler__with_mean=True \n",
      "[CV]  clf__penalty=l2, clf__C=0.0223248215166, clf__random_state=123, scaler__with_mean=True, total=   0.5s\n",
      "[CV] clf__penalty=l2, clf__C=0.0223248215166, clf__random_state=123, scaler__with_mean=True \n",
      "[CV]  clf__penalty=l2, clf__C=0.0223248215166, clf__random_state=123, scaler__with_mean=True, total=   0.6s\n",
      "[CV] clf__penalty=l2, clf__C=0.0223248215166, clf__random_state=123, scaler__with_mean=True \n",
      "[CV]  clf__penalty=l2, clf__C=0.0223248215166, clf__random_state=123, scaler__with_mean=True, total=   0.5s\n",
      "[CV] clf__penalty=l2, clf__C=0.0223248215166, clf__random_state=123, scaler__with_mean=True \n",
      "[CV]  clf__penalty=l2, clf__C=0.0223248215166, clf__random_state=123, scaler__with_mean=True, total=   0.6s\n",
      "[CV] clf__penalty=l2, clf__C=30.6696856181, clf__random_state=123, scaler__with_mean=True \n",
      "[CV]  clf__penalty=l2, clf__C=30.6696856181, clf__random_state=123, scaler__with_mean=True, total=   1.1s\n",
      "[CV] clf__penalty=l2, clf__C=30.6696856181, clf__random_state=123, scaler__with_mean=True \n",
      "[CV]  clf__penalty=l2, clf__C=30.6696856181, clf__random_state=123, scaler__with_mean=True, total=   0.9s\n",
      "[CV] clf__penalty=l2, clf__C=30.6696856181, clf__random_state=123, scaler__with_mean=True \n",
      "[CV]  clf__penalty=l2, clf__C=30.6696856181, clf__random_state=123, scaler__with_mean=True, total=   1.0s\n",
      "[CV] clf__penalty=l2, clf__C=30.6696856181, clf__random_state=123, scaler__with_mean=True \n",
      "[CV]  clf__penalty=l2, clf__C=30.6696856181, clf__random_state=123, scaler__with_mean=True, total=   0.8s\n",
      "[CV] clf__penalty=l2, clf__C=30.6696856181, clf__random_state=123, scaler__with_mean=True \n"
     ]
    },
    {
     "name": "stdout",
     "output_type": "stream",
     "text": [
      "[CV]  clf__penalty=l2, clf__C=30.6696856181, clf__random_state=123, scaler__with_mean=True, total=   0.9s\n",
      "[CV] clf__penalty=l2, clf__C=1.67255988757, clf__random_state=123, scaler__with_mean=False \n",
      "[CV]  clf__penalty=l2, clf__C=1.67255988757, clf__random_state=123, scaler__with_mean=False, total=   0.4s\n",
      "[CV] clf__penalty=l2, clf__C=1.67255988757, clf__random_state=123, scaler__with_mean=False \n",
      "[CV]  clf__penalty=l2, clf__C=1.67255988757, clf__random_state=123, scaler__with_mean=False, total=   0.4s\n",
      "[CV] clf__penalty=l2, clf__C=1.67255988757, clf__random_state=123, scaler__with_mean=False \n",
      "[CV]  clf__penalty=l2, clf__C=1.67255988757, clf__random_state=123, scaler__with_mean=False, total=   0.4s\n",
      "[CV] clf__penalty=l2, clf__C=1.67255988757, clf__random_state=123, scaler__with_mean=False \n",
      "[CV]  clf__penalty=l2, clf__C=1.67255988757, clf__random_state=123, scaler__with_mean=False, total=   0.4s\n",
      "[CV] clf__penalty=l2, clf__C=1.67255988757, clf__random_state=123, scaler__with_mean=False \n",
      "[CV]  clf__penalty=l2, clf__C=1.67255988757, clf__random_state=123, scaler__with_mean=False, total=   0.4s\n",
      "[CV] clf__penalty=l2, clf__C=0.0386308640193, clf__random_state=123, scaler__with_mean=False \n",
      "[CV]  clf__penalty=l2, clf__C=0.0386308640193, clf__random_state=123, scaler__with_mean=False, total=   0.2s\n",
      "[CV] clf__penalty=l2, clf__C=0.0386308640193, clf__random_state=123, scaler__with_mean=False \n",
      "[CV]  clf__penalty=l2, clf__C=0.0386308640193, clf__random_state=123, scaler__with_mean=False, total=   0.2s\n",
      "[CV] clf__penalty=l2, clf__C=0.0386308640193, clf__random_state=123, scaler__with_mean=False \n",
      "[CV]  clf__penalty=l2, clf__C=0.0386308640193, clf__random_state=123, scaler__with_mean=False, total=   0.3s\n",
      "[CV] clf__penalty=l2, clf__C=0.0386308640193, clf__random_state=123, scaler__with_mean=False \n",
      "[CV]  clf__penalty=l2, clf__C=0.0386308640193, clf__random_state=123, scaler__with_mean=False, total=   0.2s\n",
      "[CV] clf__penalty=l2, clf__C=0.0386308640193, clf__random_state=123, scaler__with_mean=False \n",
      "[CV]  clf__penalty=l2, clf__C=0.0386308640193, clf__random_state=123, scaler__with_mean=False, total=   0.2s\n",
      "[CV] clf__penalty=l2, clf__C=0.0167322943443, clf__random_state=123, scaler__with_mean=False \n",
      "[CV]  clf__penalty=l2, clf__C=0.0167322943443, clf__random_state=123, scaler__with_mean=False, total=   0.2s\n",
      "[CV] clf__penalty=l2, clf__C=0.0167322943443, clf__random_state=123, scaler__with_mean=False \n",
      "[CV]  clf__penalty=l2, clf__C=0.0167322943443, clf__random_state=123, scaler__with_mean=False, total=   0.2s\n",
      "[CV] clf__penalty=l2, clf__C=0.0167322943443, clf__random_state=123, scaler__with_mean=False \n",
      "[CV]  clf__penalty=l2, clf__C=0.0167322943443, clf__random_state=123, scaler__with_mean=False, total=   0.2s\n",
      "[CV] clf__penalty=l2, clf__C=0.0167322943443, clf__random_state=123, scaler__with_mean=False \n",
      "[CV]  clf__penalty=l2, clf__C=0.0167322943443, clf__random_state=123, scaler__with_mean=False, total=   0.2s\n",
      "[CV] clf__penalty=l2, clf__C=0.0167322943443, clf__random_state=123, scaler__with_mean=False \n",
      "[CV]  clf__penalty=l2, clf__C=0.0167322943443, clf__random_state=123, scaler__with_mean=False, total=   0.2s\n",
      "[CV] clf__penalty=l2, clf__C=0.229539612393, clf__random_state=123, scaler__with_mean=True \n",
      "[CV]  clf__penalty=l2, clf__C=0.229539612393, clf__random_state=123, scaler__with_mean=True, total=   0.7s\n",
      "[CV] clf__penalty=l2, clf__C=0.229539612393, clf__random_state=123, scaler__with_mean=True \n",
      "[CV]  clf__penalty=l2, clf__C=0.229539612393, clf__random_state=123, scaler__with_mean=True, total=   0.7s\n",
      "[CV] clf__penalty=l2, clf__C=0.229539612393, clf__random_state=123, scaler__with_mean=True \n",
      "[CV]  clf__penalty=l2, clf__C=0.229539612393, clf__random_state=123, scaler__with_mean=True, total=   0.9s\n",
      "[CV] clf__penalty=l2, clf__C=0.229539612393, clf__random_state=123, scaler__with_mean=True \n",
      "[CV]  clf__penalty=l2, clf__C=0.229539612393, clf__random_state=123, scaler__with_mean=True, total=   0.8s\n",
      "[CV] clf__penalty=l2, clf__C=0.229539612393, clf__random_state=123, scaler__with_mean=True \n",
      "[CV]  clf__penalty=l2, clf__C=0.229539612393, clf__random_state=123, scaler__with_mean=True, total=   0.8s\n",
      "[CV] clf__penalty=l2, clf__C=20.1305204239, clf__random_state=123, scaler__with_mean=False \n",
      "[CV]  clf__penalty=l2, clf__C=20.1305204239, clf__random_state=123, scaler__with_mean=False, total=   0.4s\n",
      "[CV] clf__penalty=l2, clf__C=20.1305204239, clf__random_state=123, scaler__with_mean=False \n",
      "[CV]  clf__penalty=l2, clf__C=20.1305204239, clf__random_state=123, scaler__with_mean=False, total=   0.4s\n",
      "[CV] clf__penalty=l2, clf__C=20.1305204239, clf__random_state=123, scaler__with_mean=False \n",
      "[CV]  clf__penalty=l2, clf__C=20.1305204239, clf__random_state=123, scaler__with_mean=False, total=   0.5s\n",
      "[CV] clf__penalty=l2, clf__C=20.1305204239, clf__random_state=123, scaler__with_mean=False \n",
      "[CV]  clf__penalty=l2, clf__C=20.1305204239, clf__random_state=123, scaler__with_mean=False, total=   0.5s\n",
      "[CV] clf__penalty=l2, clf__C=20.1305204239, clf__random_state=123, scaler__with_mean=False \n",
      "[CV]  clf__penalty=l2, clf__C=20.1305204239, clf__random_state=123, scaler__with_mean=False, total=   0.4s\n",
      "[CV] clf__penalty=l2, clf__C=8.47223127277, clf__random_state=123, scaler__with_mean=False \n",
      "[CV]  clf__penalty=l2, clf__C=8.47223127277, clf__random_state=123, scaler__with_mean=False, total=   0.4s\n",
      "[CV] clf__penalty=l2, clf__C=8.47223127277, clf__random_state=123, scaler__with_mean=False \n",
      "[CV]  clf__penalty=l2, clf__C=8.47223127277, clf__random_state=123, scaler__with_mean=False, total=   0.4s\n",
      "[CV] clf__penalty=l2, clf__C=8.47223127277, clf__random_state=123, scaler__with_mean=False \n",
      "[CV]  clf__penalty=l2, clf__C=8.47223127277, clf__random_state=123, scaler__with_mean=False, total=   0.3s\n",
      "[CV] clf__penalty=l2, clf__C=8.47223127277, clf__random_state=123, scaler__with_mean=False \n",
      "[CV]  clf__penalty=l2, clf__C=8.47223127277, clf__random_state=123, scaler__with_mean=False, total=   0.5s\n",
      "[CV] clf__penalty=l2, clf__C=8.47223127277, clf__random_state=123, scaler__with_mean=False \n",
      "[CV]  clf__penalty=l2, clf__C=8.47223127277, clf__random_state=123, scaler__with_mean=False, total=   0.4s\n",
      "[CV] clf__penalty=l2, clf__C=2428.21520227, clf__random_state=123, scaler__with_mean=True \n",
      "[CV]  clf__penalty=l2, clf__C=2428.21520227, clf__random_state=123, scaler__with_mean=True, total=   1.1s\n",
      "[CV] clf__penalty=l2, clf__C=2428.21520227, clf__random_state=123, scaler__with_mean=True \n",
      "[CV]  clf__penalty=l2, clf__C=2428.21520227, clf__random_state=123, scaler__with_mean=True, total=   0.9s\n",
      "[CV] clf__penalty=l2, clf__C=2428.21520227, clf__random_state=123, scaler__with_mean=True \n",
      "[CV]  clf__penalty=l2, clf__C=2428.21520227, clf__random_state=123, scaler__with_mean=True, total=   1.0s\n",
      "[CV] clf__penalty=l2, clf__C=2428.21520227, clf__random_state=123, scaler__with_mean=True \n",
      "[CV]  clf__penalty=l2, clf__C=2428.21520227, clf__random_state=123, scaler__with_mean=True, total=   0.9s\n",
      "[CV] clf__penalty=l2, clf__C=2428.21520227, clf__random_state=123, scaler__with_mean=True \n",
      "[CV]  clf__penalty=l2, clf__C=2428.21520227, clf__random_state=123, scaler__with_mean=True, total=   0.9s\n",
      "[CV] clf__penalty=l2, clf__C=0.134948449085, clf__random_state=123, scaler__with_mean=False \n",
      "[CV]  clf__penalty=l2, clf__C=0.134948449085, clf__random_state=123, scaler__with_mean=False, total=   0.3s\n",
      "[CV] clf__penalty=l2, clf__C=0.134948449085, clf__random_state=123, scaler__with_mean=False \n",
      "[CV]  clf__penalty=l2, clf__C=0.134948449085, clf__random_state=123, scaler__with_mean=False, total=   0.2s\n",
      "[CV] clf__penalty=l2, clf__C=0.134948449085, clf__random_state=123, scaler__with_mean=False \n",
      "[CV]  clf__penalty=l2, clf__C=0.134948449085, clf__random_state=123, scaler__with_mean=False, total=   0.3s\n",
      "[CV] clf__penalty=l2, clf__C=0.134948449085, clf__random_state=123, scaler__with_mean=False \n",
      "[CV]  clf__penalty=l2, clf__C=0.134948449085, clf__random_state=123, scaler__with_mean=False, total=   0.3s\n",
      "[CV] clf__penalty=l2, clf__C=0.134948449085, clf__random_state=123, scaler__with_mean=False \n",
      "[CV]  clf__penalty=l2, clf__C=0.134948449085, clf__random_state=123, scaler__with_mean=False, total=   0.3s\n",
      "[CV] clf__penalty=l2, clf__C=0.0594953723746, clf__random_state=123, scaler__with_mean=False \n"
     ]
    },
    {
     "name": "stdout",
     "output_type": "stream",
     "text": [
      "[CV]  clf__penalty=l2, clf__C=0.0594953723746, clf__random_state=123, scaler__with_mean=False, total=   0.3s\n",
      "[CV] clf__penalty=l2, clf__C=0.0594953723746, clf__random_state=123, scaler__with_mean=False \n",
      "[CV]  clf__penalty=l2, clf__C=0.0594953723746, clf__random_state=123, scaler__with_mean=False, total=   0.2s\n",
      "[CV] clf__penalty=l2, clf__C=0.0594953723746, clf__random_state=123, scaler__with_mean=False \n",
      "[CV]  clf__penalty=l2, clf__C=0.0594953723746, clf__random_state=123, scaler__with_mean=False, total=   0.3s\n",
      "[CV] clf__penalty=l2, clf__C=0.0594953723746, clf__random_state=123, scaler__with_mean=False \n",
      "[CV]  clf__penalty=l2, clf__C=0.0594953723746, clf__random_state=123, scaler__with_mean=False, total=   0.3s\n",
      "[CV] clf__penalty=l2, clf__C=0.0594953723746, clf__random_state=123, scaler__with_mean=False \n",
      "[CV]  clf__penalty=l2, clf__C=0.0594953723746, clf__random_state=123, scaler__with_mean=False, total=   0.2s\n",
      "[CV] clf__penalty=l2, clf__C=3.59103305109, clf__random_state=123, scaler__with_mean=False \n",
      "[CV]  clf__penalty=l2, clf__C=3.59103305109, clf__random_state=123, scaler__with_mean=False, total=   0.4s\n",
      "[CV] clf__penalty=l2, clf__C=3.59103305109, clf__random_state=123, scaler__with_mean=False \n",
      "[CV]  clf__penalty=l2, clf__C=3.59103305109, clf__random_state=123, scaler__with_mean=False, total=   0.4s\n",
      "[CV] clf__penalty=l2, clf__C=3.59103305109, clf__random_state=123, scaler__with_mean=False \n",
      "[CV]  clf__penalty=l2, clf__C=3.59103305109, clf__random_state=123, scaler__with_mean=False, total=   0.3s\n",
      "[CV] clf__penalty=l2, clf__C=3.59103305109, clf__random_state=123, scaler__with_mean=False \n",
      "[CV]  clf__penalty=l2, clf__C=3.59103305109, clf__random_state=123, scaler__with_mean=False, total=   0.6s\n",
      "[CV] clf__penalty=l2, clf__C=3.59103305109, clf__random_state=123, scaler__with_mean=False \n",
      "[CV]  clf__penalty=l2, clf__C=3.59103305109, clf__random_state=123, scaler__with_mean=False, total=   0.4s\n",
      "[CV] clf__penalty=l2, clf__C=0.00809726254325, clf__random_state=123, scaler__with_mean=True \n",
      "[CV]  clf__penalty=l2, clf__C=0.00809726254325, clf__random_state=123, scaler__with_mean=True, total=   0.5s\n",
      "[CV] clf__penalty=l2, clf__C=0.00809726254325, clf__random_state=123, scaler__with_mean=True \n",
      "[CV]  clf__penalty=l2, clf__C=0.00809726254325, clf__random_state=123, scaler__with_mean=True, total=   0.5s\n",
      "[CV] clf__penalty=l2, clf__C=0.00809726254325, clf__random_state=123, scaler__with_mean=True \n",
      "[CV]  clf__penalty=l2, clf__C=0.00809726254325, clf__random_state=123, scaler__with_mean=True, total=   0.5s\n",
      "[CV] clf__penalty=l2, clf__C=0.00809726254325, clf__random_state=123, scaler__with_mean=True \n",
      "[CV]  clf__penalty=l2, clf__C=0.00809726254325, clf__random_state=123, scaler__with_mean=True, total=   0.5s\n",
      "[CV] clf__penalty=l2, clf__C=0.00809726254325, clf__random_state=123, scaler__with_mean=True \n",
      "[CV]  clf__penalty=l2, clf__C=0.00809726254325, clf__random_state=123, scaler__with_mean=True, total=   0.4s\n",
      "[CV] clf__penalty=l2, clf__C=89.1117672556, clf__random_state=123, scaler__with_mean=False \n",
      "[CV]  clf__penalty=l2, clf__C=89.1117672556, clf__random_state=123, scaler__with_mean=False, total=   0.4s\n",
      "[CV] clf__penalty=l2, clf__C=89.1117672556, clf__random_state=123, scaler__with_mean=False \n",
      "[CV]  clf__penalty=l2, clf__C=89.1117672556, clf__random_state=123, scaler__with_mean=False, total=   0.4s\n",
      "[CV] clf__penalty=l2, clf__C=89.1117672556, clf__random_state=123, scaler__with_mean=False \n",
      "[CV]  clf__penalty=l2, clf__C=89.1117672556, clf__random_state=123, scaler__with_mean=False, total=   0.4s\n",
      "[CV] clf__penalty=l2, clf__C=89.1117672556, clf__random_state=123, scaler__with_mean=False \n",
      "[CV]  clf__penalty=l2, clf__C=89.1117672556, clf__random_state=123, scaler__with_mean=False, total=   0.5s\n",
      "[CV] clf__penalty=l2, clf__C=89.1117672556, clf__random_state=123, scaler__with_mean=False \n",
      "[CV]  clf__penalty=l2, clf__C=89.1117672556, clf__random_state=123, scaler__with_mean=False, total=   0.4s\n",
      "[CV] clf__penalty=l2, clf__C=0.128419259313, clf__random_state=123, scaler__with_mean=True \n",
      "[CV]  clf__penalty=l2, clf__C=0.128419259313, clf__random_state=123, scaler__with_mean=True, total=   0.7s\n",
      "[CV] clf__penalty=l2, clf__C=0.128419259313, clf__random_state=123, scaler__with_mean=True \n",
      "[CV]  clf__penalty=l2, clf__C=0.128419259313, clf__random_state=123, scaler__with_mean=True, total=   0.7s\n",
      "[CV] clf__penalty=l2, clf__C=0.128419259313, clf__random_state=123, scaler__with_mean=True \n",
      "[CV]  clf__penalty=l2, clf__C=0.128419259313, clf__random_state=123, scaler__with_mean=True, total=   0.7s\n",
      "[CV] clf__penalty=l2, clf__C=0.128419259313, clf__random_state=123, scaler__with_mean=True \n",
      "[CV]  clf__penalty=l2, clf__C=0.128419259313, clf__random_state=123, scaler__with_mean=True, total=   0.8s\n",
      "[CV] clf__penalty=l2, clf__C=0.128419259313, clf__random_state=123, scaler__with_mean=True \n",
      "[CV]  clf__penalty=l2, clf__C=0.128419259313, clf__random_state=123, scaler__with_mean=True, total=   0.6s\n",
      "[CV] clf__penalty=l2, clf__C=20.8680057744, clf__random_state=123, scaler__with_mean=False \n",
      "[CV]  clf__penalty=l2, clf__C=20.8680057744, clf__random_state=123, scaler__with_mean=False, total=   0.4s\n",
      "[CV] clf__penalty=l2, clf__C=20.8680057744, clf__random_state=123, scaler__with_mean=False \n",
      "[CV]  clf__penalty=l2, clf__C=20.8680057744, clf__random_state=123, scaler__with_mean=False, total=   0.4s\n",
      "[CV] clf__penalty=l2, clf__C=20.8680057744, clf__random_state=123, scaler__with_mean=False \n",
      "[CV]  clf__penalty=l2, clf__C=20.8680057744, clf__random_state=123, scaler__with_mean=False, total=   0.4s\n",
      "[CV] clf__penalty=l2, clf__C=20.8680057744, clf__random_state=123, scaler__with_mean=False \n",
      "[CV]  clf__penalty=l2, clf__C=20.8680057744, clf__random_state=123, scaler__with_mean=False, total=   0.5s\n",
      "[CV] clf__penalty=l2, clf__C=20.8680057744, clf__random_state=123, scaler__with_mean=False \n",
      "[CV]  clf__penalty=l2, clf__C=20.8680057744, clf__random_state=123, scaler__with_mean=False, total=   0.4s\n",
      "[CV] clf__penalty=l2, clf__C=2.30763356403, clf__random_state=123, scaler__with_mean=True \n",
      "[CV]  clf__penalty=l2, clf__C=2.30763356403, clf__random_state=123, scaler__with_mean=True, total=   1.0s\n",
      "[CV] clf__penalty=l2, clf__C=2.30763356403, clf__random_state=123, scaler__with_mean=True \n",
      "[CV]  clf__penalty=l2, clf__C=2.30763356403, clf__random_state=123, scaler__with_mean=True, total=   0.9s\n",
      "[CV] clf__penalty=l2, clf__C=2.30763356403, clf__random_state=123, scaler__with_mean=True \n",
      "[CV]  clf__penalty=l2, clf__C=2.30763356403, clf__random_state=123, scaler__with_mean=True, total=   1.0s\n",
      "[CV] clf__penalty=l2, clf__C=2.30763356403, clf__random_state=123, scaler__with_mean=True \n",
      "[CV]  clf__penalty=l2, clf__C=2.30763356403, clf__random_state=123, scaler__with_mean=True, total=   0.9s\n",
      "[CV] clf__penalty=l2, clf__C=2.30763356403, clf__random_state=123, scaler__with_mean=True \n",
      "[CV]  clf__penalty=l2, clf__C=2.30763356403, clf__random_state=123, scaler__with_mean=True, total=   0.9s\n",
      "[CV] clf__penalty=l2, clf__C=0.669528621719, clf__random_state=123, scaler__with_mean=True \n",
      "[CV]  clf__penalty=l2, clf__C=0.669528621719, clf__random_state=123, scaler__with_mean=True, total=   0.9s\n",
      "[CV] clf__penalty=l2, clf__C=0.669528621719, clf__random_state=123, scaler__with_mean=True \n",
      "[CV]  clf__penalty=l2, clf__C=0.669528621719, clf__random_state=123, scaler__with_mean=True, total=   0.9s\n",
      "[CV] clf__penalty=l2, clf__C=0.669528621719, clf__random_state=123, scaler__with_mean=True \n",
      "[CV]  clf__penalty=l2, clf__C=0.669528621719, clf__random_state=123, scaler__with_mean=True, total=   0.9s\n",
      "[CV] clf__penalty=l2, clf__C=0.669528621719, clf__random_state=123, scaler__with_mean=True \n",
      "[CV]  clf__penalty=l2, clf__C=0.669528621719, clf__random_state=123, scaler__with_mean=True, total=   0.8s\n",
      "[CV] clf__penalty=l2, clf__C=0.669528621719, clf__random_state=123, scaler__with_mean=True \n",
      "[CV]  clf__penalty=l2, clf__C=0.669528621719, clf__random_state=123, scaler__with_mean=True, total=   0.9s\n",
      "[CV] clf__penalty=l2, clf__C=0.0948823325257, clf__random_state=123, scaler__with_mean=False \n",
      "[CV]  clf__penalty=l2, clf__C=0.0948823325257, clf__random_state=123, scaler__with_mean=False, total=   0.3s\n",
      "[CV] clf__penalty=l2, clf__C=0.0948823325257, clf__random_state=123, scaler__with_mean=False \n"
     ]
    },
    {
     "name": "stdout",
     "output_type": "stream",
     "text": [
      "[CV]  clf__penalty=l2, clf__C=0.0948823325257, clf__random_state=123, scaler__with_mean=False, total=   0.3s\n",
      "[CV] clf__penalty=l2, clf__C=0.0948823325257, clf__random_state=123, scaler__with_mean=False \n",
      "[CV]  clf__penalty=l2, clf__C=0.0948823325257, clf__random_state=123, scaler__with_mean=False, total=   0.3s\n",
      "[CV] clf__penalty=l2, clf__C=0.0948823325257, clf__random_state=123, scaler__with_mean=False \n",
      "[CV]  clf__penalty=l2, clf__C=0.0948823325257, clf__random_state=123, scaler__with_mean=False, total=   0.3s\n",
      "[CV] clf__penalty=l2, clf__C=0.0948823325257, clf__random_state=123, scaler__with_mean=False \n",
      "[CV]  clf__penalty=l2, clf__C=0.0948823325257, clf__random_state=123, scaler__with_mean=False, total=   0.2s\n",
      "[CV] clf__penalty=l2, clf__C=357.177917922, clf__random_state=123, scaler__with_mean=False \n",
      "[CV]  clf__penalty=l2, clf__C=357.177917922, clf__random_state=123, scaler__with_mean=False, total=   0.4s\n",
      "[CV] clf__penalty=l2, clf__C=357.177917922, clf__random_state=123, scaler__with_mean=False \n",
      "[CV]  clf__penalty=l2, clf__C=357.177917922, clf__random_state=123, scaler__with_mean=False, total=   0.4s\n",
      "[CV] clf__penalty=l2, clf__C=357.177917922, clf__random_state=123, scaler__with_mean=False \n",
      "[CV]  clf__penalty=l2, clf__C=357.177917922, clf__random_state=123, scaler__with_mean=False, total=   0.4s\n",
      "[CV] clf__penalty=l2, clf__C=357.177917922, clf__random_state=123, scaler__with_mean=False \n",
      "[CV]  clf__penalty=l2, clf__C=357.177917922, clf__random_state=123, scaler__with_mean=False, total=   0.5s\n",
      "[CV] clf__penalty=l2, clf__C=357.177917922, clf__random_state=123, scaler__with_mean=False \n",
      "[CV]  clf__penalty=l2, clf__C=357.177917922, clf__random_state=123, scaler__with_mean=False, total=   0.4s\n",
      "[CV] clf__penalty=l2, clf__C=0.00229933049169, clf__random_state=123, scaler__with_mean=False \n",
      "[CV]  clf__penalty=l2, clf__C=0.00229933049169, clf__random_state=123, scaler__with_mean=False, total=   0.2s\n",
      "[CV] clf__penalty=l2, clf__C=0.00229933049169, clf__random_state=123, scaler__with_mean=False \n",
      "[CV]  clf__penalty=l2, clf__C=0.00229933049169, clf__random_state=123, scaler__with_mean=False, total=   0.2s\n",
      "[CV] clf__penalty=l2, clf__C=0.00229933049169, clf__random_state=123, scaler__with_mean=False \n",
      "[CV]  clf__penalty=l2, clf__C=0.00229933049169, clf__random_state=123, scaler__with_mean=False, total=   0.2s\n",
      "[CV] clf__penalty=l2, clf__C=0.00229933049169, clf__random_state=123, scaler__with_mean=False \n",
      "[CV]  clf__penalty=l2, clf__C=0.00229933049169, clf__random_state=123, scaler__with_mean=False, total=   0.2s\n",
      "[CV] clf__penalty=l2, clf__C=0.00229933049169, clf__random_state=123, scaler__with_mean=False \n",
      "[CV]  clf__penalty=l2, clf__C=0.00229933049169, clf__random_state=123, scaler__with_mean=False, total=   0.1s\n",
      "[CV] clf__penalty=l2, clf__C=3.55191919465, clf__random_state=123, scaler__with_mean=True \n",
      "[CV]  clf__penalty=l2, clf__C=3.55191919465, clf__random_state=123, scaler__with_mean=True, total=   1.0s\n",
      "[CV] clf__penalty=l2, clf__C=3.55191919465, clf__random_state=123, scaler__with_mean=True \n",
      "[CV]  clf__penalty=l2, clf__C=3.55191919465, clf__random_state=123, scaler__with_mean=True, total=   0.9s\n",
      "[CV] clf__penalty=l2, clf__C=3.55191919465, clf__random_state=123, scaler__with_mean=True \n",
      "[CV]  clf__penalty=l2, clf__C=3.55191919465, clf__random_state=123, scaler__with_mean=True, total=   1.0s\n",
      "[CV] clf__penalty=l2, clf__C=3.55191919465, clf__random_state=123, scaler__with_mean=True \n",
      "[CV]  clf__penalty=l2, clf__C=3.55191919465, clf__random_state=123, scaler__with_mean=True, total=   0.9s\n",
      "[CV] clf__penalty=l2, clf__C=3.55191919465, clf__random_state=123, scaler__with_mean=True \n",
      "[CV]  clf__penalty=l2, clf__C=3.55191919465, clf__random_state=123, scaler__with_mean=True, total=   0.9s\n",
      "[CV] clf__penalty=l2, clf__C=0.547624384548, clf__random_state=123, scaler__with_mean=False \n",
      "[CV]  clf__penalty=l2, clf__C=0.547624384548, clf__random_state=123, scaler__with_mean=False, total=   0.4s\n",
      "[CV] clf__penalty=l2, clf__C=0.547624384548, clf__random_state=123, scaler__with_mean=False \n",
      "[CV]  clf__penalty=l2, clf__C=0.547624384548, clf__random_state=123, scaler__with_mean=False, total=   0.3s\n",
      "[CV] clf__penalty=l2, clf__C=0.547624384548, clf__random_state=123, scaler__with_mean=False \n",
      "[CV]  clf__penalty=l2, clf__C=0.547624384548, clf__random_state=123, scaler__with_mean=False, total=   0.3s\n",
      "[CV] clf__penalty=l2, clf__C=0.547624384548, clf__random_state=123, scaler__with_mean=False \n",
      "[CV]  clf__penalty=l2, clf__C=0.547624384548, clf__random_state=123, scaler__with_mean=False, total=   0.3s\n",
      "[CV] clf__penalty=l2, clf__C=0.547624384548, clf__random_state=123, scaler__with_mean=False \n",
      "[CV]  clf__penalty=l2, clf__C=0.547624384548, clf__random_state=123, scaler__with_mean=False, total=   0.3s\n",
      "[CV] clf__penalty=l2, clf__C=124.720209445, clf__random_state=123, scaler__with_mean=True \n",
      "[CV]  clf__penalty=l2, clf__C=124.720209445, clf__random_state=123, scaler__with_mean=True, total=   1.0s\n",
      "[CV] clf__penalty=l2, clf__C=124.720209445, clf__random_state=123, scaler__with_mean=True \n",
      "[CV]  clf__penalty=l2, clf__C=124.720209445, clf__random_state=123, scaler__with_mean=True, total=   0.9s\n",
      "[CV] clf__penalty=l2, clf__C=124.720209445, clf__random_state=123, scaler__with_mean=True \n",
      "[CV]  clf__penalty=l2, clf__C=124.720209445, clf__random_state=123, scaler__with_mean=True, total=   1.0s\n",
      "[CV] clf__penalty=l2, clf__C=124.720209445, clf__random_state=123, scaler__with_mean=True \n",
      "[CV]  clf__penalty=l2, clf__C=124.720209445, clf__random_state=123, scaler__with_mean=True, total=   0.9s\n",
      "[CV] clf__penalty=l2, clf__C=124.720209445, clf__random_state=123, scaler__with_mean=True \n",
      "[CV]  clf__penalty=l2, clf__C=124.720209445, clf__random_state=123, scaler__with_mean=True, total=   0.9s\n",
      "[CV] clf__penalty=l2, clf__C=0.444548029931, clf__random_state=123, scaler__with_mean=True \n",
      "[CV]  clf__penalty=l2, clf__C=0.444548029931, clf__random_state=123, scaler__with_mean=True, total=   0.9s\n",
      "[CV] clf__penalty=l2, clf__C=0.444548029931, clf__random_state=123, scaler__with_mean=True \n",
      "[CV]  clf__penalty=l2, clf__C=0.444548029931, clf__random_state=123, scaler__with_mean=True, total=   0.7s\n",
      "[CV] clf__penalty=l2, clf__C=0.444548029931, clf__random_state=123, scaler__with_mean=True \n",
      "[CV]  clf__penalty=l2, clf__C=0.444548029931, clf__random_state=123, scaler__with_mean=True, total=   1.0s\n",
      "[CV] clf__penalty=l2, clf__C=0.444548029931, clf__random_state=123, scaler__with_mean=True \n",
      "[CV]  clf__penalty=l2, clf__C=0.444548029931, clf__random_state=123, scaler__with_mean=True, total=   0.9s\n",
      "[CV] clf__penalty=l2, clf__C=0.444548029931, clf__random_state=123, scaler__with_mean=True \n",
      "[CV]  clf__penalty=l2, clf__C=0.444548029931, clf__random_state=123, scaler__with_mean=True, total=   0.8s\n",
      "[CV] clf__penalty=l2, clf__C=1.20236910975, clf__random_state=123, scaler__with_mean=False \n",
      "[CV]  clf__penalty=l2, clf__C=1.20236910975, clf__random_state=123, scaler__with_mean=False, total=   0.4s\n",
      "[CV] clf__penalty=l2, clf__C=1.20236910975, clf__random_state=123, scaler__with_mean=False \n",
      "[CV]  clf__penalty=l2, clf__C=1.20236910975, clf__random_state=123, scaler__with_mean=False, total=   0.4s\n",
      "[CV] clf__penalty=l2, clf__C=1.20236910975, clf__random_state=123, scaler__with_mean=False \n",
      "[CV]  clf__penalty=l2, clf__C=1.20236910975, clf__random_state=123, scaler__with_mean=False, total=   0.4s\n",
      "[CV] clf__penalty=l2, clf__C=1.20236910975, clf__random_state=123, scaler__with_mean=False \n",
      "[CV]  clf__penalty=l2, clf__C=1.20236910975, clf__random_state=123, scaler__with_mean=False, total=   0.4s\n",
      "[CV] clf__penalty=l2, clf__C=1.20236910975, clf__random_state=123, scaler__with_mean=False \n",
      "[CV]  clf__penalty=l2, clf__C=1.20236910975, clf__random_state=123, scaler__with_mean=False, total=   0.4s\n",
      "[CV] clf__penalty=l2, clf__C=0.671235560568, clf__random_state=123, scaler__with_mean=True \n",
      "[CV]  clf__penalty=l2, clf__C=0.671235560568, clf__random_state=123, scaler__with_mean=True, total=   1.0s\n",
      "[CV] clf__penalty=l2, clf__C=0.671235560568, clf__random_state=123, scaler__with_mean=True \n",
      "[CV]  clf__penalty=l2, clf__C=0.671235560568, clf__random_state=123, scaler__with_mean=True, total=   0.9s\n",
      "[CV] clf__penalty=l2, clf__C=0.671235560568, clf__random_state=123, scaler__with_mean=True \n"
     ]
    },
    {
     "name": "stdout",
     "output_type": "stream",
     "text": [
      "[CV]  clf__penalty=l2, clf__C=0.671235560568, clf__random_state=123, scaler__with_mean=True, total=   0.9s\n",
      "[CV] clf__penalty=l2, clf__C=0.671235560568, clf__random_state=123, scaler__with_mean=True \n",
      "[CV]  clf__penalty=l2, clf__C=0.671235560568, clf__random_state=123, scaler__with_mean=True, total=   0.8s\n",
      "[CV] clf__penalty=l2, clf__C=0.671235560568, clf__random_state=123, scaler__with_mean=True \n",
      "[CV]  clf__penalty=l2, clf__C=0.671235560568, clf__random_state=123, scaler__with_mean=True, total=   0.9s\n",
      "[CV] clf__penalty=l2, clf__C=4.14972428056, clf__random_state=123, scaler__with_mean=True \n",
      "[CV]  clf__penalty=l2, clf__C=4.14972428056, clf__random_state=123, scaler__with_mean=True, total=   1.0s\n",
      "[CV] clf__penalty=l2, clf__C=4.14972428056, clf__random_state=123, scaler__with_mean=True \n",
      "[CV]  clf__penalty=l2, clf__C=4.14972428056, clf__random_state=123, scaler__with_mean=True, total=   0.9s\n",
      "[CV] clf__penalty=l2, clf__C=4.14972428056, clf__random_state=123, scaler__with_mean=True \n",
      "[CV]  clf__penalty=l2, clf__C=4.14972428056, clf__random_state=123, scaler__with_mean=True, total=   1.0s\n",
      "[CV] clf__penalty=l2, clf__C=4.14972428056, clf__random_state=123, scaler__with_mean=True \n",
      "[CV]  clf__penalty=l2, clf__C=4.14972428056, clf__random_state=123, scaler__with_mean=True, total=   0.9s\n",
      "[CV] clf__penalty=l2, clf__C=4.14972428056, clf__random_state=123, scaler__with_mean=True \n",
      "[CV]  clf__penalty=l2, clf__C=4.14972428056, clf__random_state=123, scaler__with_mean=True, total=   0.9s\n",
      "[CV] clf__penalty=l2, clf__C=0.184192882757, clf__random_state=123, scaler__with_mean=False \n",
      "[CV]  clf__penalty=l2, clf__C=0.184192882757, clf__random_state=123, scaler__with_mean=False, total=   0.4s\n",
      "[CV] clf__penalty=l2, clf__C=0.184192882757, clf__random_state=123, scaler__with_mean=False \n",
      "[CV]  clf__penalty=l2, clf__C=0.184192882757, clf__random_state=123, scaler__with_mean=False, total=   0.3s\n",
      "[CV] clf__penalty=l2, clf__C=0.184192882757, clf__random_state=123, scaler__with_mean=False \n",
      "[CV]  clf__penalty=l2, clf__C=0.184192882757, clf__random_state=123, scaler__with_mean=False, total=   0.3s\n",
      "[CV] clf__penalty=l2, clf__C=0.184192882757, clf__random_state=123, scaler__with_mean=False \n",
      "[CV]  clf__penalty=l2, clf__C=0.184192882757, clf__random_state=123, scaler__with_mean=False, total=   0.4s\n",
      "[CV] clf__penalty=l2, clf__C=0.184192882757, clf__random_state=123, scaler__with_mean=False \n",
      "[CV]  clf__penalty=l2, clf__C=0.184192882757, clf__random_state=123, scaler__with_mean=False, total=   0.3s\n",
      "[CV] clf__penalty=l2, clf__C=24.5804265258, clf__random_state=123, scaler__with_mean=True \n",
      "[CV]  clf__penalty=l2, clf__C=24.5804265258, clf__random_state=123, scaler__with_mean=True, total=   1.0s\n",
      "[CV] clf__penalty=l2, clf__C=24.5804265258, clf__random_state=123, scaler__with_mean=True \n",
      "[CV]  clf__penalty=l2, clf__C=24.5804265258, clf__random_state=123, scaler__with_mean=True, total=   0.9s\n",
      "[CV] clf__penalty=l2, clf__C=24.5804265258, clf__random_state=123, scaler__with_mean=True \n",
      "[CV]  clf__penalty=l2, clf__C=24.5804265258, clf__random_state=123, scaler__with_mean=True, total=   1.0s\n",
      "[CV] clf__penalty=l2, clf__C=24.5804265258, clf__random_state=123, scaler__with_mean=True \n",
      "[CV]  clf__penalty=l2, clf__C=24.5804265258, clf__random_state=123, scaler__with_mean=True, total=   0.9s\n",
      "[CV] clf__penalty=l2, clf__C=24.5804265258, clf__random_state=123, scaler__with_mean=True \n",
      "[CV]  clf__penalty=l2, clf__C=24.5804265258, clf__random_state=123, scaler__with_mean=True, total=   0.9s\n",
      "[CV] clf__penalty=l2, clf__C=0.0235257495813, clf__random_state=123, scaler__with_mean=True \n",
      "[CV]  clf__penalty=l2, clf__C=0.0235257495813, clf__random_state=123, scaler__with_mean=True, total=   0.8s\n",
      "[CV] clf__penalty=l2, clf__C=0.0235257495813, clf__random_state=123, scaler__with_mean=True \n",
      "[CV]  clf__penalty=l2, clf__C=0.0235257495813, clf__random_state=123, scaler__with_mean=True, total=   0.5s\n",
      "[CV] clf__penalty=l2, clf__C=0.0235257495813, clf__random_state=123, scaler__with_mean=True \n",
      "[CV]  clf__penalty=l2, clf__C=0.0235257495813, clf__random_state=123, scaler__with_mean=True, total=   0.5s\n",
      "[CV] clf__penalty=l2, clf__C=0.0235257495813, clf__random_state=123, scaler__with_mean=True \n",
      "[CV]  clf__penalty=l2, clf__C=0.0235257495813, clf__random_state=123, scaler__with_mean=True, total=   0.5s\n",
      "[CV] clf__penalty=l2, clf__C=0.0235257495813, clf__random_state=123, scaler__with_mean=True \n",
      "[CV]  clf__penalty=l2, clf__C=0.0235257495813, clf__random_state=123, scaler__with_mean=True, total=   0.5s\n",
      "[CV] clf__penalty=l2, clf__C=9.80456584163, clf__random_state=123, scaler__with_mean=False \n",
      "[CV]  clf__penalty=l2, clf__C=9.80456584163, clf__random_state=123, scaler__with_mean=False, total=   0.4s\n",
      "[CV] clf__penalty=l2, clf__C=9.80456584163, clf__random_state=123, scaler__with_mean=False \n",
      "[CV]  clf__penalty=l2, clf__C=9.80456584163, clf__random_state=123, scaler__with_mean=False, total=   0.3s\n",
      "[CV] clf__penalty=l2, clf__C=9.80456584163, clf__random_state=123, scaler__with_mean=False \n",
      "[CV]  clf__penalty=l2, clf__C=9.80456584163, clf__random_state=123, scaler__with_mean=False, total=   0.3s\n",
      "[CV] clf__penalty=l2, clf__C=9.80456584163, clf__random_state=123, scaler__with_mean=False \n",
      "[CV]  clf__penalty=l2, clf__C=9.80456584163, clf__random_state=123, scaler__with_mean=False, total=   0.5s\n",
      "[CV] clf__penalty=l2, clf__C=9.80456584163, clf__random_state=123, scaler__with_mean=False \n",
      "[CV]  clf__penalty=l2, clf__C=9.80456584163, clf__random_state=123, scaler__with_mean=False, total=   0.3s\n",
      "[CV] clf__penalty=l2, clf__C=2.63901711674, clf__random_state=123, scaler__with_mean=True \n",
      "[CV]  clf__penalty=l2, clf__C=2.63901711674, clf__random_state=123, scaler__with_mean=True, total=   0.9s\n",
      "[CV] clf__penalty=l2, clf__C=2.63901711674, clf__random_state=123, scaler__with_mean=True \n",
      "[CV]  clf__penalty=l2, clf__C=2.63901711674, clf__random_state=123, scaler__with_mean=True, total=   0.8s\n",
      "[CV] clf__penalty=l2, clf__C=2.63901711674, clf__random_state=123, scaler__with_mean=True \n",
      "[CV]  clf__penalty=l2, clf__C=2.63901711674, clf__random_state=123, scaler__with_mean=True, total=   0.9s\n",
      "[CV] clf__penalty=l2, clf__C=2.63901711674, clf__random_state=123, scaler__with_mean=True \n",
      "[CV]  clf__penalty=l2, clf__C=2.63901711674, clf__random_state=123, scaler__with_mean=True, total=   0.8s\n",
      "[CV] clf__penalty=l2, clf__C=2.63901711674, clf__random_state=123, scaler__with_mean=True \n",
      "[CV]  clf__penalty=l2, clf__C=2.63901711674, clf__random_state=123, scaler__with_mean=True, total=   0.8s\n",
      "[CV] clf__penalty=l2, clf__C=0.00325372542566, clf__random_state=123, scaler__with_mean=True \n",
      "[CV]  clf__penalty=l2, clf__C=0.00325372542566, clf__random_state=123, scaler__with_mean=True, total=   0.3s\n",
      "[CV] clf__penalty=l2, clf__C=0.00325372542566, clf__random_state=123, scaler__with_mean=True \n",
      "[CV]  clf__penalty=l2, clf__C=0.00325372542566, clf__random_state=123, scaler__with_mean=True, total=   0.3s\n",
      "[CV] clf__penalty=l2, clf__C=0.00325372542566, clf__random_state=123, scaler__with_mean=True \n",
      "[CV]  clf__penalty=l2, clf__C=0.00325372542566, clf__random_state=123, scaler__with_mean=True, total=   0.3s\n",
      "[CV] clf__penalty=l2, clf__C=0.00325372542566, clf__random_state=123, scaler__with_mean=True \n",
      "[CV]  clf__penalty=l2, clf__C=0.00325372542566, clf__random_state=123, scaler__with_mean=True, total=   0.3s\n",
      "[CV] clf__penalty=l2, clf__C=0.00325372542566, clf__random_state=123, scaler__with_mean=True \n",
      "[CV]  clf__penalty=l2, clf__C=0.00325372542566, clf__random_state=123, scaler__with_mean=True, total=   0.4s\n",
      "[CV] clf__penalty=l2, clf__C=0.00395798874384, clf__random_state=123, scaler__with_mean=True \n",
      "[CV]  clf__penalty=l2, clf__C=0.00395798874384, clf__random_state=123, scaler__with_mean=True, total=   0.3s\n",
      "[CV] clf__penalty=l2, clf__C=0.00395798874384, clf__random_state=123, scaler__with_mean=True \n",
      "[CV]  clf__penalty=l2, clf__C=0.00395798874384, clf__random_state=123, scaler__with_mean=True, total=   0.4s\n",
      "[CV] clf__penalty=l2, clf__C=0.00395798874384, clf__random_state=123, scaler__with_mean=True \n",
      "[CV]  clf__penalty=l2, clf__C=0.00395798874384, clf__random_state=123, scaler__with_mean=True, total=   0.3s\n",
      "[CV] clf__penalty=l2, clf__C=0.00395798874384, clf__random_state=123, scaler__with_mean=True \n",
      "[CV]  clf__penalty=l2, clf__C=0.00395798874384, clf__random_state=123, scaler__with_mean=True, total=   0.4s\n",
      "[CV] clf__penalty=l2, clf__C=0.00395798874384, clf__random_state=123, scaler__with_mean=True \n"
     ]
    },
    {
     "name": "stdout",
     "output_type": "stream",
     "text": [
      "[CV]  clf__penalty=l2, clf__C=0.00395798874384, clf__random_state=123, scaler__with_mean=True, total=   0.4s\n"
     ]
    },
    {
     "name": "stderr",
     "output_type": "stream",
     "text": [
      "[Parallel(n_jobs=1)]: Done 500 out of 500 | elapsed:  5.0min finished\n"
     ]
    },
    {
     "data": {
      "text/plain": [
       "RandomizedSearchCV(cv=StratifiedKFold(n_splits=5, random_state=123, shuffle=True),\n",
       "          error_score='raise',\n",
       "          estimator=Pipeline(memory=None,\n",
       "     steps=[('scaler', StandardScaler(copy=True, with_mean=True, with_std=True)), ('clf', LogisticRegression(C=1.0, class_weight=None, dual=False, fit_intercept=True,\n",
       "          intercept_scaling=1, max_iter=100, multi_class='ovr', n_jobs=1,\n",
       "          penalty='l2', random_state=None, solver='liblinear', tol=0.0001,\n",
       "          verbose=0, warm_start=False))]),\n",
       "          fit_params=None, iid=True, n_iter=100, n_jobs=1,\n",
       "          param_distributions={'clf__penalty': ['l2'], 'clf__C': <scipy.stats._distn_infrastructure.rv_frozen object at 0x1a528d4650>, 'clf__random_state': [123], 'scaler__with_mean': [False, True]},\n",
       "          pre_dispatch='2*n_jobs', random_state=123, refit=True,\n",
       "          return_train_score='warn', scoring='roc_auc', verbose=2)"
      ]
     },
     "execution_count": 64,
     "metadata": {},
     "output_type": "execute_result"
    }
   ],
   "source": [
    "param_grid = {\n",
    "    'scaler__with_mean': [False, True],\n",
    "    'clf__penalty': ['l2'],\n",
    "    'clf__random_state': [RND_SEED],\n",
    "    'clf__C': sp_lognorm(3)\n",
    "}\n",
    "\n",
    "random_searcher = RandomizedSearchCV(model, param_grid, n_iter=100, \n",
    "                                     random_state=RND_SEED,\n",
    "                                     scoring='roc_auc', \n",
    "                                     n_jobs=1, cv=cv, \n",
    "                                     verbose=2)\n",
    "\n",
    "random_searcher.fit(X, y)"
   ]
  },
  {
   "cell_type": "code",
   "execution_count": 65,
   "metadata": {},
   "outputs": [
    {
     "data": {
      "text/plain": [
       "{'clf__C': 0.020151694020222502,\n",
       " 'clf__penalty': 'l2',\n",
       " 'clf__random_state': 123,\n",
       " 'scaler__with_mean': True}"
      ]
     },
     "execution_count": 65,
     "metadata": {},
     "output_type": "execute_result"
    }
   ],
   "source": [
    "random_searcher.best_params_"
   ]
  },
  {
   "cell_type": "code",
   "execution_count": 66,
   "metadata": {},
   "outputs": [
    {
     "data": {
      "text/plain": [
       "0.75090209130517616"
      ]
     },
     "execution_count": 66,
     "metadata": {},
     "output_type": "execute_result"
    }
   ],
   "source": [
    "random_searcher.best_score_"
   ]
  },
  {
   "cell_type": "code",
   "execution_count": 68,
   "metadata": {},
   "outputs": [
    {
     "name": "stderr",
     "output_type": "stream",
     "text": [
      "/Users/andrey.shestakov/anaconda2/lib/python2.7/site-packages/sklearn/model_selection/_search.py:761: DeprecationWarning: The grid_scores_ attribute was deprecated in version 0.18 in favor of the more elaborate cv_results_ attribute. The grid_scores_ attribute will not be available from 0.20\n",
      "  DeprecationWarning)\n"
     ]
    },
    {
     "data": {
      "text/plain": [
       "[mean: 0.75059, std: 0.01171, params: {'clf__penalty': 'l2', 'clf__C': 0.038507902080624053, 'clf__random_state': 123, 'scaler__with_mean': False},\n",
       " mean: 0.75011, std: 0.01184, params: {'clf__penalty': 'l2', 'clf__C': 19.926217755070205, 'clf__random_state': 123, 'scaler__with_mean': False},\n",
       " mean: 0.75011, std: 0.01184, params: {'clf__penalty': 'l2', 'clf__C': 184.03213694178385, 'clf__random_state': 123, 'scaler__with_mean': True},\n",
       " mean: 0.75013, std: 0.01185, params: {'clf__penalty': 'l2', 'clf__C': 3.385028383633593, 'clf__random_state': 123, 'scaler__with_mean': True},\n",
       " mean: 0.74356, std: 0.01075, params: {'clf__penalty': 'l2', 'clf__C': 0.00068915956108850243, 'clf__random_state': 123, 'scaler__with_mean': False},\n",
       " mean: 0.75028, std: 0.01178, params: {'clf__penalty': 'l2', 'clf__C': 0.27617021383351631, 'clf__random_state': 123, 'scaler__with_mean': False},\n",
       " mean: 0.75035, std: 0.01191, params: {'clf__penalty': 'l2', 'clf__C': 0.26123832647699602, 'clf__random_state': 123, 'scaler__with_mean': True},\n",
       " mean: 0.75011, std: 0.01184, params: {'clf__penalty': 'l2', 'clf__C': 149.18763897658783, 'clf__random_state': 123, 'scaler__with_mean': False},\n",
       " mean: 0.75011, std: 0.01184, params: {'clf__penalty': 'l2', 'clf__C': 87.721662732847321, 'clf__random_state': 123, 'scaler__with_mean': True},\n",
       " mean: 0.75048, std: 0.01193, params: {'clf__penalty': 'l2', 'clf__C': 0.14709068317534935, 'clf__random_state': 123, 'scaler__with_mean': True},\n",
       " mean: 0.75015, std: 0.01181, params: {'clf__penalty': 'l2', 'clf__C': 1.4616672853876165, 'clf__random_state': 123, 'scaler__with_mean': False},\n",
       " mean: 0.75090, std: 0.01167, params: {'clf__penalty': 'l2', 'clf__C': 0.020151694020222502, 'clf__random_state': 123, 'scaler__with_mean': True},\n",
       " mean: 0.75011, std: 0.01184, params: {'clf__penalty': 'l2', 'clf__C': 20.331302503428976, 'clf__random_state': 123, 'scaler__with_mean': True},\n",
       " mean: 0.75013, std: 0.01185, params: {'clf__penalty': 'l2', 'clf__C': 3.1853405217759172, 'clf__random_state': 123, 'scaler__with_mean': True},\n",
       " mean: 0.75010, std: 0.01184, params: {'clf__penalty': 'l2', 'clf__C': 88.897104929888897, 'clf__random_state': 123, 'scaler__with_mean': True},\n",
       " mean: 0.75011, std: 0.01184, params: {'clf__penalty': 'l2', 'clf__C': 9.3909060145649246, 'clf__random_state': 123, 'scaler__with_mean': True},\n",
       " mean: 0.75087, std: 0.01172, params: {'clf__penalty': 'l2', 'clf__C': 0.023245539768940712, 'clf__random_state': 123, 'scaler__with_mean': True},\n",
       " mean: 0.75040, std: 0.01179, params: {'clf__penalty': 'l2', 'clf__C': 0.147599241257587, 'clf__random_state': 123, 'scaler__with_mean': False},\n",
       " mean: 0.75046, std: 0.01177, params: {'clf__penalty': 'l2', 'clf__C': 0.10585277733578369, 'clf__random_state': 123, 'scaler__with_mean': False},\n",
       " mean: 0.75014, std: 0.01186, params: {'clf__penalty': 'l2', 'clf__C': 2.0566980873543561, 'clf__random_state': 123, 'scaler__with_mean': True},\n",
       " mean: 0.75026, std: 0.01189, params: {'clf__penalty': 'l2', 'clf__C': 0.46447009140681289, 'clf__random_state': 123, 'scaler__with_mean': True},\n",
       " mean: 0.73329, std: 0.01175, params: {'clf__penalty': 'l2', 'clf__C': 0.00022582113358079366, 'clf__random_state': 123, 'scaler__with_mean': False},\n",
       " mean: 0.75052, std: 0.01192, params: {'clf__penalty': 'l2', 'clf__C': 0.12394175676215756, 'clf__random_state': 123, 'scaler__with_mean': True},\n",
       " mean: 0.75000, std: 0.01078, params: {'clf__penalty': 'l2', 'clf__C': 0.0048810145599275257, 'clf__random_state': 123, 'scaler__with_mean': False},\n",
       " mean: 0.75018, std: 0.01186, params: {'clf__penalty': 'l2', 'clf__C': 1.0085742982038832, 'clf__random_state': 123, 'scaler__with_mean': True},\n",
       " mean: 0.75012, std: 0.01183, params: {'clf__penalty': 'l2', 'clf__C': 7.8826814640947305, 'clf__random_state': 123, 'scaler__with_mean': False},\n",
       " mean: 0.75026, std: 0.01178, params: {'clf__penalty': 'l2', 'clf__C': 0.35560842979531238, 'clf__random_state': 123, 'scaler__with_mean': False},\n",
       " mean: 0.75054, std: 0.01191, params: {'clf__penalty': 'l2', 'clf__C': 0.11359714830028045, 'clf__random_state': 123, 'scaler__with_mean': True},\n",
       " mean: 0.75032, std: 0.01190, params: {'clf__penalty': 'l2', 'clf__C': 0.30953027231115721, 'clf__random_state': 123, 'scaler__with_mean': True},\n",
       " mean: 0.75013, std: 0.01183, params: {'clf__penalty': 'l2', 'clf__C': 5.5924506342865747, 'clf__random_state': 123, 'scaler__with_mean': False},\n",
       " mean: 0.75016, std: 0.01180, params: {'clf__penalty': 'l2', 'clf__C': 1.0414517439188506, 'clf__random_state': 123, 'scaler__with_mean': False},\n",
       " mean: 0.75013, std: 0.01182, params: {'clf__penalty': 'l2', 'clf__C': 2.7514343781554707, 'clf__random_state': 123, 'scaler__with_mean': False},\n",
       " mean: 0.75011, std: 0.01184, params: {'clf__penalty': 'l2', 'clf__C': 18.844253584928911, 'clf__random_state': 123, 'scaler__with_mean': True},\n",
       " mean: 0.75011, std: 0.01184, params: {'clf__penalty': 'l2', 'clf__C': 824.21384386503519, 'clf__random_state': 123, 'scaler__with_mean': False},\n",
       " mean: 0.75054, std: 0.01192, params: {'clf__penalty': 'l2', 'clf__C': 0.11491904056616777, 'clf__random_state': 123, 'scaler__with_mean': True},\n",
       " mean: 0.75049, std: 0.01102, params: {'clf__penalty': 'l2', 'clf__C': 0.0060525790944415689, 'clf__random_state': 123, 'scaler__with_mean': True},\n",
       " mean: 0.75017, std: 0.01186, params: {'clf__penalty': 'l2', 'clf__C': 1.0931349738483687, 'clf__random_state': 123, 'scaler__with_mean': True},\n",
       " mean: 0.75011, std: 0.01183, params: {'clf__penalty': 'l2', 'clf__C': 24.728289404437721, 'clf__random_state': 123, 'scaler__with_mean': False},\n",
       " mean: 0.75011, std: 0.01184, params: {'clf__penalty': 'l2', 'clf__C': 221.33299980934083, 'clf__random_state': 123, 'scaler__with_mean': False},\n",
       " mean: 0.75011, std: 0.01184, params: {'clf__penalty': 'l2', 'clf__C': 41.062654578824642, 'clf__random_state': 123, 'scaler__with_mean': False},\n",
       " mean: 0.75047, std: 0.01176, params: {'clf__penalty': 'l2', 'clf__C': 0.098457908919913975, 'clf__random_state': 123, 'scaler__with_mean': False},\n",
       " mean: 0.75012, std: 0.01183, params: {'clf__penalty': 'l2', 'clf__C': 10.854589689291139, 'clf__random_state': 123, 'scaler__with_mean': False},\n",
       " mean: 0.75052, std: 0.01173, params: {'clf__penalty': 'l2', 'clf__C': 0.072864996633158041, 'clf__random_state': 123, 'scaler__with_mean': False},\n",
       " mean: 0.75015, std: 0.01181, params: {'clf__penalty': 'l2', 'clf__C': 1.5990458428340002, 'clf__random_state': 123, 'scaler__with_mean': False},\n",
       " mean: 0.75011, std: 0.01184, params: {'clf__penalty': 'l2', 'clf__C': 70.238538328092289, 'clf__random_state': 123, 'scaler__with_mean': True},\n",
       " mean: 0.75011, std: 0.01184, params: {'clf__penalty': 'l2', 'clf__C': 11.26510172173632, 'clf__random_state': 123, 'scaler__with_mean': True},\n",
       " mean: 0.75011, std: 0.01184, params: {'clf__penalty': 'l2', 'clf__C': 44.815485375775481, 'clf__random_state': 123, 'scaler__with_mean': False},\n",
       " mean: 0.75011, std: 0.01184, params: {'clf__penalty': 'l2', 'clf__C': 557.53201717786817, 'clf__random_state': 123, 'scaler__with_mean': False},\n",
       " mean: 0.75012, std: 0.01185, params: {'clf__penalty': 'l2', 'clf__C': 4.076820348913988, 'clf__random_state': 123, 'scaler__with_mean': True},\n",
       " mean: 0.75060, std: 0.01189, params: {'clf__penalty': 'l2', 'clf__C': 0.0826231845900912, 'clf__random_state': 123, 'scaler__with_mean': True},\n",
       " mean: 0.75012, std: 0.01185, params: {'clf__penalty': 'l2', 'clf__C': 4.7945038139078813, 'clf__random_state': 123, 'scaler__with_mean': True},\n",
       " mean: 0.75011, std: 0.01184, params: {'clf__penalty': 'l2', 'clf__C': 252.92566747693607, 'clf__random_state': 123, 'scaler__with_mean': False},\n",
       " mean: 0.75027, std: 0.01178, params: {'clf__penalty': 'l2', 'clf__C': 0.29816802344590759, 'clf__random_state': 123, 'scaler__with_mean': False},\n",
       " mean: 0.75021, std: 0.01187, params: {'clf__penalty': 'l2', 'clf__C': 0.68516968508823284, 'clf__random_state': 123, 'scaler__with_mean': True},\n",
       " mean: 0.75011, std: 0.01184, params: {'clf__penalty': 'l2', 'clf__C': 115.62985834666155, 'clf__random_state': 123, 'scaler__with_mean': False},\n",
       " mean: 0.75046, std: 0.01176, params: {'clf__penalty': 'l2', 'clf__C': 0.094440814308231744, 'clf__random_state': 123, 'scaler__with_mean': False},\n",
       " mean: 0.75011, std: 0.01184, params: {'clf__penalty': 'l2', 'clf__C': 43.194454725389974, 'clf__random_state': 123, 'scaler__with_mean': False},\n",
       " mean: 0.75042, std: 0.01178, params: {'clf__penalty': 'l2', 'clf__C': 0.12661466337390512, 'clf__random_state': 123, 'scaler__with_mean': False},\n",
       " mean: 0.75050, std: 0.01174, params: {'clf__penalty': 'l2', 'clf__C': 0.081209486747565604, 'clf__random_state': 123, 'scaler__with_mean': False},\n",
       " mean: 0.75013, std: 0.01182, params: {'clf__penalty': 'l2', 'clf__C': 3.9733756274850358, 'clf__random_state': 123, 'scaler__with_mean': False},\n",
       " mean: 0.75054, std: 0.01192, params: {'clf__penalty': 'l2', 'clf__C': 0.11109318113292845, 'clf__random_state': 123, 'scaler__with_mean': True},\n",
       " mean: 0.75083, std: 0.01176, params: {'clf__penalty': 'l2', 'clf__C': 0.026316230699511427, 'clf__random_state': 123, 'scaler__with_mean': True},\n",
       " mean: 0.75044, std: 0.01177, params: {'clf__penalty': 'l2', 'clf__C': 0.11289840254147233, 'clf__random_state': 123, 'scaler__with_mean': False},\n",
       " mean: 0.75014, std: 0.01181, params: {'clf__penalty': 'l2', 'clf__C': 2.5149536636769003, 'clf__random_state': 123, 'scaler__with_mean': False},\n",
       " mean: 0.75011, std: 0.01184, params: {'clf__penalty': 'l2', 'clf__C': 31.519822311235728, 'clf__random_state': 123, 'scaler__with_mean': False},\n",
       " mean: 0.75089, std: 0.01171, params: {'clf__penalty': 'l2', 'clf__C': 0.022324821516555488, 'clf__random_state': 123, 'scaler__with_mean': True},\n",
       " mean: 0.75011, std: 0.01184, params: {'clf__penalty': 'l2', 'clf__C': 30.669685618058622, 'clf__random_state': 123, 'scaler__with_mean': True},\n",
       " mean: 0.75015, std: 0.01181, params: {'clf__penalty': 'l2', 'clf__C': 1.6725598875680094, 'clf__random_state': 123, 'scaler__with_mean': False},\n",
       " mean: 0.75059, std: 0.01171, params: {'clf__penalty': 'l2', 'clf__C': 0.038630864019315619, 'clf__random_state': 123, 'scaler__with_mean': False},\n",
       " mean: 0.75073, std: 0.01151, params: {'clf__penalty': 'l2', 'clf__C': 0.016732294344343885, 'clf__random_state': 123, 'scaler__with_mean': False},\n",
       " mean: 0.75038, std: 0.01192, params: {'clf__penalty': 'l2', 'clf__C': 0.22953961239285081, 'clf__random_state': 123, 'scaler__with_mean': True},\n",
       " mean: 0.75011, std: 0.01184, params: {'clf__penalty': 'l2', 'clf__C': 20.130520423854584, 'clf__random_state': 123, 'scaler__with_mean': False},\n",
       " mean: 0.75012, std: 0.01183, params: {'clf__penalty': 'l2', 'clf__C': 8.4722312727653115, 'clf__random_state': 123, 'scaler__with_mean': False},\n",
       " mean: 0.75011, std: 0.01184, params: {'clf__penalty': 'l2', 'clf__C': 2428.2152022746391, 'clf__random_state': 123, 'scaler__with_mean': True},\n",
       " mean: 0.75042, std: 0.01178, params: {'clf__penalty': 'l2', 'clf__C': 0.13494844908531983, 'clf__random_state': 123, 'scaler__with_mean': False},\n",
       " mean: 0.75054, std: 0.01173, params: {'clf__penalty': 'l2', 'clf__C': 0.059495372374632385, 'clf__random_state': 123, 'scaler__with_mean': False},\n",
       " mean: 0.75013, std: 0.01182, params: {'clf__penalty': 'l2', 'clf__C': 3.5910330510947972, 'clf__random_state': 123, 'scaler__with_mean': False},\n",
       " mean: 0.75068, std: 0.01121, params: {'clf__penalty': 'l2', 'clf__C': 0.0080972625432488236, 'clf__random_state': 123, 'scaler__with_mean': True},\n",
       " mean: 0.75010, std: 0.01184, params: {'clf__penalty': 'l2', 'clf__C': 89.111767255642476, 'clf__random_state': 123, 'scaler__with_mean': False},\n",
       " mean: 0.75051, std: 0.01193, params: {'clf__penalty': 'l2', 'clf__C': 0.12841925931284584, 'clf__random_state': 123, 'scaler__with_mean': True},\n",
       " mean: 0.75011, std: 0.01183, params: {'clf__penalty': 'l2', 'clf__C': 20.868005774363482, 'clf__random_state': 123, 'scaler__with_mean': False},\n",
       " mean: 0.75013, std: 0.01186, params: {'clf__penalty': 'l2', 'clf__C': 2.3076335640262609, 'clf__random_state': 123, 'scaler__with_mean': True},\n",
       " mean: 0.75021, std: 0.01187, params: {'clf__penalty': 'l2', 'clf__C': 0.66952862171868122, 'clf__random_state': 123, 'scaler__with_mean': True},\n",
       " mean: 0.75046, std: 0.01176, params: {'clf__penalty': 'l2', 'clf__C': 0.094882332525716442, 'clf__random_state': 123, 'scaler__with_mean': False},\n",
       " mean: 0.75011, std: 0.01184, params: {'clf__penalty': 'l2', 'clf__C': 357.17791792223431, 'clf__random_state': 123, 'scaler__with_mean': False},\n",
       " mean: 0.74853, std: 0.01053, params: {'clf__penalty': 'l2', 'clf__C': 0.0022993304916883186, 'clf__random_state': 123, 'scaler__with_mean': False},\n",
       " mean: 0.75013, std: 0.01185, params: {'clf__penalty': 'l2', 'clf__C': 3.5519191946478452, 'clf__random_state': 123, 'scaler__with_mean': True},\n",
       " mean: 0.75021, std: 0.01177, params: {'clf__penalty': 'l2', 'clf__C': 0.54762438454779072, 'clf__random_state': 123, 'scaler__with_mean': False},\n",
       " mean: 0.75010, std: 0.01184, params: {'clf__penalty': 'l2', 'clf__C': 124.72020944454714, 'clf__random_state': 123, 'scaler__with_mean': True},\n",
       " mean: 0.75027, std: 0.01189, params: {'clf__penalty': 'l2', 'clf__C': 0.44454802993103493, 'clf__random_state': 123, 'scaler__with_mean': True},\n",
       " mean: 0.75016, std: 0.01180, params: {'clf__penalty': 'l2', 'clf__C': 1.2023691097525651, 'clf__random_state': 123, 'scaler__with_mean': False},\n",
       " mean: 0.75021, std: 0.01187, params: {'clf__penalty': 'l2', 'clf__C': 0.67123556056840017, 'clf__random_state': 123, 'scaler__with_mean': True},\n",
       " mean: 0.75012, std: 0.01185, params: {'clf__penalty': 'l2', 'clf__C': 4.1497242805566827, 'clf__random_state': 123, 'scaler__with_mean': True},\n",
       " mean: 0.75036, std: 0.01180, params: {'clf__penalty': 'l2', 'clf__C': 0.18419288275661866, 'clf__random_state': 123, 'scaler__with_mean': False},\n",
       " mean: 0.75011, std: 0.01184, params: {'clf__penalty': 'l2', 'clf__C': 24.580426525836902, 'clf__random_state': 123, 'scaler__with_mean': True},\n",
       " mean: 0.75087, std: 0.01173, params: {'clf__penalty': 'l2', 'clf__C': 0.023525749581250761, 'clf__random_state': 123, 'scaler__with_mean': True},\n",
       " mean: 0.75012, std: 0.01183, params: {'clf__penalty': 'l2', 'clf__C': 9.8045658416305326, 'clf__random_state': 123, 'scaler__with_mean': False},\n",
       " mean: 0.75013, std: 0.01185, params: {'clf__penalty': 'l2', 'clf__C': 2.6390171167401362, 'clf__random_state': 123, 'scaler__with_mean': True},\n",
       " mean: 0.74960, std: 0.01073, params: {'clf__penalty': 'l2', 'clf__C': 0.0032537254256619465, 'clf__random_state': 123, 'scaler__with_mean': True},\n",
       " mean: 0.74994, std: 0.01079, params: {'clf__penalty': 'l2', 'clf__C': 0.003957988743840961, 'clf__random_state': 123, 'scaler__with_mean': True}]"
      ]
     },
     "execution_count": 68,
     "metadata": {},
     "output_type": "execute_result"
    }
   ],
   "source": [
    "random_searcher.grid_scores_"
   ]
  }
 ],
 "metadata": {
  "anaconda-cloud": {},
  "kernelspec": {
   "display_name": "Python [conda root]",
   "language": "python",
   "name": "conda-root-py"
  },
  "language_info": {
   "codemirror_mode": {
    "name": "ipython",
    "version": 2
   },
   "file_extension": ".py",
   "mimetype": "text/x-python",
   "name": "python",
   "nbconvert_exporter": "python",
   "pygments_lexer": "ipython2",
   "version": "2.7.14"
  },
  "nav_menu": {},
  "toc": {
   "colors": {
    "hover_highlight": "#DAA520",
    "navigate_num": "#000000",
    "navigate_text": "#333333",
    "running_highlight": "#FF0000",
    "selected_highlight": "#FFD700",
    "sidebar_border": "#EEEEEE",
    "wrapper_background": "#FFFFFF"
   },
   "moveMenuLeft": true,
   "nav_menu": {
    "height": "476px",
    "width": "252px"
   },
   "navigate_menu": true,
   "number_sections": false,
   "sideBar": true,
   "threshold": 4,
   "toc_cell": false,
   "toc_section_display": "block",
   "toc_window_display": true,
   "widenNotebook": false
  }
 },
 "nbformat": 4,
 "nbformat_minor": 2
}
