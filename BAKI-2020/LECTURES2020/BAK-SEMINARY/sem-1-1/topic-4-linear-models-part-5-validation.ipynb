{
 "cells": [
  {
   "cell_type": "markdown",
   "metadata": {
    "_uuid": "c95c64ea101509a5efae5b76488990e9dce94d74"
   },
   "source": [
    "<center>\n",
    "<img src=\"https://habrastorage.org/files/fd4/502/43d/fd450243dd604b81b9713213a247aa20.jpg\">\n",
    "## Open Machine Learning Course\n",
    "<center>Author: [Yury Kashnitsky](https://www.linkedin.com/in/festline). Translated and edited by [Christina Butsko](https://www.linkedin.com/in/christinabutsko/), [Nerses Bagiyan](https://www.linkedin.com/in/nersesbagiyan/), [Yulia Klimushina](https://www.linkedin.com/in/yuliya-klimushina-7168a9139), and [Yuanyuan Pao](https://www.linkedin.com/in/yuanyuanpao/).\n",
    "\n",
    "This material is subject to the terms and conditions of the license [Creative Commons CC BY-NC-SA 4.0](https://creativecommons.org/licenses/by-nc-sa/4.0/). Free use is permitted for any non-comercial purpose with an obligatory indication of the names of the authors and of the source."
   ]
  },
  {
   "cell_type": "markdown",
   "metadata": {
    "_uuid": "f3ff070ec1754f67bfd59b37977bfe5e651b1feb"
   },
   "source": [
    "# <center>Topic 4. Linear Classification and Regression\n",
    "## <center> Part 5. Validation and Learning Curves"
   ]
  },
  {
   "cell_type": "code",
   "execution_count": null,
   "metadata": {
    "_uuid": "cf7c13c494ef2f0d23437f987c1a2b9b294bc0d3",
    "collapsed": true
   },
   "outputs": [],
   "source": [
    "import warnings\n",
    "warnings.filterwarnings('ignore')\n",
    "\n",
    "%matplotlib inline\n",
    "from matplotlib import pyplot as plt\n",
    "import seaborn as sns\n",
    "\n",
    "import numpy as np\n",
    "import pandas as pd\n",
    "from sklearn.preprocessing import PolynomialFeatures\n",
    "from sklearn.pipeline import Pipeline\n",
    "from sklearn.preprocessing import StandardScaler\n",
    "from sklearn.linear_model import LogisticRegression, LogisticRegressionCV, SGDClassifier\n",
    "from sklearn.model_selection import validation_curve"
   ]
  },
  {
   "cell_type": "markdown",
   "metadata": {
    "_uuid": "42ea067eab6df9622ef420e78739bca10f49189c"
   },
   "source": [
    "Now that we have an idea of model validation, cross-validation, and regularization. Let's consider the bigger question:\n",
    "\n",
    "**What to do if the quality of the model is dissatisfying?**\n",
    "\n",
    "- Should we make the model more complicated or more simple?\n",
    "- Should we add more features?\n",
    "- Do we simply need more data for training?\n",
    "\n",
    "The answers to these questions are not obvious. In particular, sometimes a more complex model can lead to a deterioration in performance. Other times, adding new observations will not bring noticeable changes. In fact, the ability to make the right decision and choose the right method to improve the model distinguishes a good professional from a bad one."
   ]
  },
  {
   "cell_type": "markdown",
   "metadata": {
    "_uuid": "d1ccebefdaa577c79c09d5cfaa00608ae2367add"
   },
   "source": [
    "We will work our data on customer churn of telecom operator."
   ]
  },
  {
   "cell_type": "code",
   "execution_count": null,
   "metadata": {
    "_uuid": "b74fe648505e38d7071693573d73f14018cadcb2",
    "collapsed": true
   },
   "outputs": [],
   "source": [
    "data = pd.read_csv('telecom_churn.csv').drop('State', axis=1)\n",
    "data['International plan'] = data['International plan'].map({'Yes': 1, 'No': 0})\n",
    "data['Voice mail plan'] = data['Voice mail plan'].map({'Yes': 1, 'No': 0})\n",
    "\n",
    "y = data['Churn'].astype('int').values\n",
    "X = data.drop('Churn', axis=1).values"
   ]
  },
  {
   "cell_type": "markdown",
   "metadata": {
    "_uuid": "321a00a3a8ca19cafb364017f0f09e2a743e00ae"
   },
   "source": [
    "**We will train logistic regression with stochastic gradient descent. Later in the course, we will have a separate article on this topic.**"
   ]
  },
  {
   "cell_type": "code",
   "execution_count": null,
   "metadata": {
    "_uuid": "aa24d34f9d7ab5cf8c5ae34bfed8c6543692b13d"
   },
   "outputs": [],
   "source": [
    "alphas = np.logspace(-2, 0, 20)\n",
    "sgd_logit = SGDClassifier(loss='log', n_jobs=-1, random_state=17)\n",
    "logit_pipe = Pipeline([('scaler', StandardScaler()), ('poly', PolynomialFeatures(degree=2)), \n",
    "                       ('sgd_logit', sgd_logit)])\n",
    "val_train, val_test = validation_curve(logit_pipe, X, y,\n",
    "                                       'sgd_logit__alpha', alphas, cv=5,\n",
    "                                        scoring='roc_auc')"
   ]
  },
  {
   "cell_type": "markdown",
   "metadata": {
    "_uuid": "9f27e180ec630bb9758a94ce81ef2d3baf7de97a"
   },
   "source": [
    "**As a first step, we will construct validation curves showing how the quality (ROC-AUC) on training and test sets varies with the regularization parameter.**"
   ]
  },
  {
   "cell_type": "code",
   "execution_count": null,
   "metadata": {
    "_uuid": "447082218a609a86e25532085809b391c08d19d1",
    "collapsed": true
   },
   "outputs": [],
   "source": [
    "def plot_with_err(x, data, **kwargs):\n",
    "    mu, std = data.mean(1), data.std(1)\n",
    "    lines = plt.plot(x, mu, '-', **kwargs)\n",
    "    plt.fill_between(x, mu - std, mu + std, edgecolor='none',\n",
    "                     facecolor=lines[0].get_color(), alpha=0.2)\n",
    "\n",
    "plot_with_err(alphas, val_train, label='training scores')\n",
    "plot_with_err(alphas, val_test, label='validation scores')\n",
    "plt.xlabel(r'$\\alpha$'); plt.ylabel('ROC AUC')\n",
    "plt.legend();"
   ]
  },
  {
   "cell_type": "markdown",
   "metadata": {
    "_uuid": "95f3cb1f99eb5014617fa46431025889a1f451fb"
   },
   "source": [
    "The trend is quite visible and is very common.\n",
    "\n",
    "- For simple models, training and validation errors are close and large. This suggests that the model **underfitted**, meaning it does not have a sufficient number of parameters.\n",
    "\n",
    "- For highly sophisticated models, training and validation errors differ significantly. This can be explained by **overfitting**. When there are too many parameters or regularization is not strict enough, the algorithm can be \"distracted\" by the noise in the data and lose track of the overall trend.\n",
    "\n"
   ]
  },
  {
   "cell_type": "markdown",
   "metadata": {
    "_uuid": "be1da9d827a0be77301c731a7d37c54bf8380990"
   },
   "source": [
    "### How much data is needed?\n",
    "\n",
    "The more data the model uses, the better. But how do we understand whether new data will helpful in any given situation? For example, is it rational to spend $N$ for assessors to double the dataset?\n",
    "\n",
    "Since the new data can be unavailable, it is reasonable to vary the size of the training set and see how the quality of the solution depends on the amount of training data. This is how we get **learning curves**.\n",
    "\n",
    "The idea is simple: we display the error as a function of the number of examples used in training. The parameters of the model are fixed in advance."
   ]
  },
  {
   "cell_type": "code",
   "execution_count": null,
   "metadata": {
    "_uuid": "403780bf914accb1b65617674a3bc661980e83e3",
    "collapsed": true
   },
   "outputs": [],
   "source": [
    "from sklearn.model_selection import learning_curve\n",
    "\n",
    "def plot_learning_curve(degree=2, alpha=0.01):\n",
    "    train_sizes = np.linspace(0.05, 1, 20)\n",
    "    logit_pipe = Pipeline([('scaler', StandardScaler()), ('poly', PolynomialFeatures(degree=degree)), \n",
    "                           ('sgd_logit', SGDClassifier(n_jobs=-1, random_state=17, alpha=alpha))])\n",
    "    N_train, val_train, val_test = learning_curve(logit_pipe,\n",
    "                                                  X, y, train_sizes=train_sizes, cv=5,\n",
    "                                                  scoring='roc_auc')\n",
    "    plot_with_err(N_train, val_train, label='training scores')\n",
    "    plot_with_err(N_train, val_test, label='validation scores')\n",
    "    plt.xlabel('Training Set Size'); plt.ylabel('AUC')\n",
    "    plt.legend()"
   ]
  },
  {
   "cell_type": "markdown",
   "metadata": {
    "_uuid": "1e5d546b6f7fc1fa4fe3dcaa6759a350c66202df"
   },
   "source": [
    "Let's see what we get for the linear model. We will set the regularization coefficient to be quite large."
   ]
  },
  {
   "cell_type": "code",
   "execution_count": null,
   "metadata": {
    "_uuid": "28d106b5b0995edc637d1512f25d9d7845c63fe0",
    "collapsed": true
   },
   "outputs": [],
   "source": [
    "plot_learning_curve(degree=2, alpha=10)"
   ]
  },
  {
   "cell_type": "markdown",
   "metadata": {
    "_uuid": "08ffb19c9f8c090fcd7f59030175a1b25adea626"
   },
   "source": [
    "A typical situation: for a small amounts of data, errors between training and cross-validation sets are quite different, indicating overfitting. For that same model but with a large amount of data, errors \"converge\", indicating underfitting.\n",
    " \n",
    "If we add more data, error on the training set will not grow. On the other hand, the error on the test data will not be reduced.\n",
    " \n",
    "So, we see that the errors \"converged\", and the addition of new data will not help. Actually this case is the most interesting for business. It is possible that we increase the size of the dataset by 10x, but, without changing the complexity of the model, this additional data may not help. Therefore the strategy of \"set once, then use 10 times\" might not work.\n",
    " \n",
    "What happens if we reduce the regularization coefficient to 0.05?\n",
    " \n",
    "We see a good trend - the curves gradually converge, and if we move farther to the right i.e. add more data to the model, we can improve the quality on the validation set even more. "
   ]
  },
  {
   "cell_type": "code",
   "execution_count": null,
   "metadata": {
    "_uuid": "cd9ea91a7b81533d47c3c2d644254f6d517050c3",
    "collapsed": true
   },
   "outputs": [],
   "source": [
    "plot_learning_curve(degree=2, alpha=0.05)"
   ]
  },
  {
   "cell_type": "markdown",
   "metadata": {
    "_uuid": "feced9c06804938f9cf0b0a6a139ab4130a1f75d"
   },
   "source": [
    "Now, what if we make the model even more complex by setting alpha = 10-4?\n",
    "\n",
    "Overfitting is seen - AUC decreases on both the training and the validation sets."
   ]
  },
  {
   "cell_type": "code",
   "execution_count": null,
   "metadata": {
    "_uuid": "27b5e9c28a7dad8e52824cfcef646257e541d48f",
    "collapsed": true
   },
   "outputs": [],
   "source": [
    "plot_learning_curve(degree=2, alpha=1e-4)"
   ]
  },
  {
   "cell_type": "markdown",
   "metadata": {
    "_uuid": "1f87019b2448b21809df1b0962cdcb044d91467f"
   },
   "source": [
    "Constructing these curves can help understand which way to go and how to properly adjust the complexity of the model for new data."
   ]
  },
  {
   "cell_type": "markdown",
   "metadata": {
    "_uuid": "49af4be78ba6e0021931f0123f729e0296f733d4"
   },
   "source": [
    "**Conclusions on the learning and validation curves:**\n",
    "\n",
    "\n",
    "- Error on the training set says nothing about the quality of the model by itself\n",
    "- Cross-validation error shows how well the model fits the data (the existing trend in the data) while retaining the ability to generalize to new data\n",
    "- **Validation curve** is a graph showing the results on training and validation sets depending on the **complexity of the model**:\n",
    "    + if the two curves are close to each other and both errors are large, it is a sign of *underfitting*\n",
    "    + if the two curves are far from each other, it is a sign of *overfitting*\n",
    "- **Learning Curve** is a graph showing the results on training and validation sets depending on the number of observations:\n",
    "    + if the curves converge, adding new data won't help, and it is necessary to change the complexity of the model \n",
    "    + if the curves have not converged, adding new data can improve the result\n",
    "\n"
   ]
  },
  {
   "cell_type": "markdown",
   "metadata": {
    "_uuid": "74306d596d7d47975ab35794c24e2a6a4fe2ba3c"
   },
   "source": [
    "### Useful resources\n",
    "- Medium [\"story\"](https://medium.com/open-machine-learning-course/open-machine-learning-course-topic-4-linear-classification-and-regression-44a41b9b5220) based on this notebook\n",
    "- If you read Russian: an [article](https://habrahabr.ru/company/ods/blog/323890/) on Habrahabr with ~ the same material. And a [lecture](https://youtu.be/oTXGQ-_oqvI) on YouTube\n",
    "- A nice and concise overview of linear models is given in the book [“Deep Learning”](http://www.deeplearningbook.org) (I. Goodfellow, Y. Bengio, and A. Courville).\n",
    "- Linear models are covered practically in every ML book. We recommend “Pattern Recognition and Machine Learning” (C. Bishop) and “Machine Learning: A Probabilistic Perspective” (K. Murphy).\n",
    "- If you prefer a thorough overview of linear model from a statistician’s viewpoint, then look at “The elements of statistical learning” (T. Hastie, R. Tibshirani, and J. Friedman).\n",
    "- The book “Machine Learning in Action” (P. Harrington) will walk you through implementations of classic ML algorithms in pure Python.\n",
    "- [Scikit-learn](http://scikit-learn.org/stable/documentation.html) library. These guys work hard on writing really clear documentation.\n",
    "- Scipy 2017 [scikit-learn tutorial](https://github.com/amueller/scipy-2017-sklearn) by Alex Gramfort and Andreas Mueller.\n",
    "- One more [ML course](https://github.com/diefimov/MTH594_MachineLearning) with very good materials.\n",
    "- [Implementations](https://github.com/rushter/MLAlgorithms) of many ML algorithms. Search for linear regression and logistic regression."
   ]
  }
 ],
 "metadata": {
  "anaconda-cloud": {},
  "kernelspec": {
   "display_name": "Python 3",
   "language": "python",
   "name": "python3"
  },
  "language_info": {
   "codemirror_mode": {
    "name": "ipython",
    "version": 3
   },
   "file_extension": ".py",
   "mimetype": "text/x-python",
   "name": "python",
   "nbconvert_exporter": "python",
   "pygments_lexer": "ipython3",
   "version": "3.6.5"
  },
  "name": "lesson7_part5_overfitting_validation.ipynb"
 },
 "nbformat": 4,
 "nbformat_minor": 1
}
