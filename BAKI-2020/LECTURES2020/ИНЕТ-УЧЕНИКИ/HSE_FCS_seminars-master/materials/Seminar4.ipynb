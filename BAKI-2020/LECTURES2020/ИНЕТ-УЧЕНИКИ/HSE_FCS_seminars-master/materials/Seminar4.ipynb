{
 "cells": [
  {
   "cell_type": "code",
   "execution_count": 1,
   "metadata": {
    "collapsed": false
   },
   "outputs": [
    {
     "name": "stdout",
     "output_type": "stream",
     "text": [
      "Populating the interactive namespace from numpy and matplotlib\n"
     ]
    }
   ],
   "source": [
    "%pylab inline\n",
    "import matplotlib.pylab as plt\n",
    "import math\n",
    "import random\n",
    "import numpy as np\n",
    "import pandas as pd\n",
    "from sklearn.cross_validation import train_test_split"
   ]
  },
  {
   "cell_type": "markdown",
   "metadata": {},
   "source": [
    "## Линейная классификация\n",
    "\n",
    "Ранее мы изучили задачу восстановления регрессии и способы её решения. В частности, для линейной модели с функционалом качества MSE решение данной задачи выписывается аналитически через матрицу \"объект-признак\" и вектор ответов обучающей выборки.\n",
    "\n",
    "Давайте приступим к рассмотрению задачи классификации. Начнём с того, что вспомним её постановку.\n",
    "\n",
    "### Постановка задачи классификации\n",
    "\n",
    "Пусть задана обучающая выборка $X = \\{ \\left( x_i, y_i \\right) \\}_{i=1}^l, x_i \\in \\mathbb{X}, y_i \\in \\mathbb{Y},$ — $l$ пар объект-ответ, где\n",
    "$\\mathbb{X}$ — пространство объектов,\n",
    "$\\mathbb{Y}$ — пространство ответов.\n",
    "\n",
    "Задача классификации отличается о задачи восстановления регрессии тем, что в данном случае пространство ответов конечно:\n",
    "$$\\left| \\mathbb{Y} \\right| < \\infty.$$\n",
    "\n",
    "\n",
    "**Примеры**:\n",
    "\n",
    "1) Кредитный скоринг.\n",
    "* Объект — заявка на кредит от клиента банка.\n",
    "* Ответ — решение о выдаче или невыдаче кредита.\n",
    "\n",
    "2) Медицинская диагностика.\n",
    "* Объект — характеристики пациента (результаты анализов, общая информация о пациенте, история болезни).\n",
    "* Ответ — диагноз (одно из ограниченного множества заболеваний).\n",
    "\n",
    "В дальнейшем будем рассматривать задачу бинарной классификации (то есть разделения объектов на 2 группы) и полагать $\\mathbb{Y} = \\{-1, +1\\}.$\n",
    "\n",
    "### Линейная модель\n",
    "\n",
    "Сегодня мы будем рассматривать линейную модель. В случае классификации формула для ответа на объекте $x$ видоизменяется по сравнению с линейной регрессией (при этом мы предполагаем, что нулевой признак в выборке — константный):\n",
    "$$a(x) = sgn(w_0 \\cdot 1 + w_1 x^1 + \\dots w_d x^d) = sgn(\\sum_{j = 0}^d w_j x^j) = sgn(\\langle w, x \\rangle).$$\n",
    "\n",
    "Множество точек $\\langle w, x\\rangle = 0$ является гиперплоскостью и делит пространство на 2 части по разные стороны от этой самой гиперплоскости. При этом объекты, расположенные по разные стороны от неё, полученный классификатор относит к различным классам в зависимости от знака скалярного произведения.\n",
    "\n",
    "<tr>\n",
    "<td> <img src=\"images/plane.png\" alt=\"Drawing\" style=\"width: 350px;\"/> </td>\n",
    "<td> <img src=\"images/cube.png\" alt=\"Drawing\" style=\"width: 350px;\"/> </td>\n",
    "</tr>\n",
    "\n",
    "Отметим, что для некоторого объекта $x$ расстояние до гиперплоскости для фиксированного вектора весов $w$ можно записать как $\\frac{\\left| \\langle w, x \\rangle \\right|}{\\|w \\|}$.\n",
    "\n",
    "Поэтому чем больше $\\left| \\langle w, x \\rangle \\right|$, тем дальше объект отстоит от гиперплоскости, тем увереннее алгоритм в его классификации.\n",
    "\n",
    "### Оптимизируемый функционал\n",
    "\n",
    "Как и в случае линейной регрессии, поиск оптимального алгоритма среди множества всех линейных моделей в случае классификации производится путем оптимизации некоторого функционала. Можно было бы рассматривать MAE или MSE, как и в случае регрессии, однако в случае классификации этот подход кажется немного странным, как минимум, потому что классы могут задаваться своими названиями, а не номерами. Их можно было бы занумеровать, но тогда результат будет сильно зависеть от способа нумерации.\n",
    "\n",
    "Будем минимизировать долю неверных классификаций, которую можно записать в следующем виде:\n",
    "\n",
    "$$Q(w, X) = \\frac{1}{l} \\sum_{i = 1}^l [a(x_i) \\ne y_i] \\to \\min_w.$$\n",
    "\n",
    "В этом функционале слагаемое $[a(x_i) \\ne y_i]$ отвечает за то, была ли допущена алгоритмом $a(\\cdot)$ ошибка на объекте $x_i$.\n",
    "\n",
    "Заметим, что $[a(x_i) \\ne y_i] = [sgn \\, \\langle w, x_i \\rangle \\ne sgn \\, y_i] = [y_i \\langle w, x_i \\rangle < 0],$ поэтому функционал можно переписать в следующем виде:\n",
    "$$Q(w, X) = \\frac{1}{l} \\sum_{i = 1}^l [y_i \\langle w, x_i \\rangle  < 0] \\to \\min_w.$$\n",
    "\n",
    "Величина $M_i = y_i \\langle w, x_i \\rangle$ называется **отступом** объекта $x_i$. Как было показано ранее:\n",
    "* объект верно классифицируется тогда и только тогда, когда отступ положительный;\n",
    "* чем больше значение отступа, тем надёжнее классифицируется объект.\n",
    "\n",
    "Тем не менее, получившийся функционал не получится оптимизировать градиентными методами. Поэтому рассмотрим пороговую функцию потерь для одного объекта $\\mathscr{L}(M) = [M < 0],$ участвующую в формуле функционала, оценим её сверху некоторой гладкой функцией потерь и будем минимизировать её:\n",
    "\n",
    "$$Q(w, X) = \\frac{1}{l} \\sum_{i = 1}^l [M_i < 0] = \\frac{1}{l} \\sum_{i = 1}^l \\mathscr{L}(M_i) \\le \\frac{1}{l} \\sum_{i = 1}^l \\widetilde{\\mathscr{L}}(M_i) = \\widetilde{Q}(w, X) \\to \\min_{w}$$\n",
    "\n",
    "Примеры оценок сверху для одного объекта:\n",
    "<img src=\"images/est.png\" alt=\"Drawing\" style=\"width: 650px;\">\n",
    "\n",
    "**ВАЖНО**: мы минимизируем верхнюю оценку и надеемся, что тогда будет минимизироваться и исходный функционал $Q(w, X)$, однако нет никаких гарантий, что так и будет!\n",
    "\n",
    "В зависимости от выбранной верхней оценки будут меняться свойства итогового алгоритма, положение разделяющей гиперплоскости и т.п.\n",
    "\n",
    "### Итог\n",
    "\n",
    "Таким образом, процесс обучения линейного классификатора складывается из следующих шагов:\n",
    "\n",
    "* Получение обучающей выборки $X^l = \\{ \\left( x_i, y_i \\right) \\}_{i=1}^l$\n",
    "* Выбор верхней оценки для пороговой функции потерь — отсюда получаем общий вид оптимизируемого функционала $\\widetilde{Q}(w, X^l)$\n",
    "* Проводим оптимизацию при помощи некоторого метода оптимизации и получаем оптимальное значение $w^*$\n",
    "* Предсказываем ответы для новых объектов по формуле $a(x) = \\langle w^*, x\\rangle$\n",
    "\n",
    "### Логистическая регрессия\n",
    "\n",
    "Рассмотрим в качестве верхней оценки пороговой функции потерь логистическую функцию:\n",
    "\n",
    "$$\\widetilde{\\mathscr{L}}(M) = \\log_2(1 + \\exp(-M)).$$\n",
    "\n",
    "Таким образом, необходимо решить следующую оптимизационную задачу:\n",
    "$$\\frac{1}{l} \\sum_{i=1}^l \\widetilde{\\mathscr{L}} (M_i) = \\frac{1}{l} \\sum_{i=1}^l \\log_2 (1 + \\exp (-y_i \\langle w, x_i \\rangle)) \\to \\min_w$$\n",
    "\n",
    "Получившийся метод обучения называется **логистической регрессией**.\n",
    "\n",
    "Давайте получим его, подойдя немного с другой стороны. Допустим, мы решаем задачу бинарной классификации, но хотим получать не только одну из двух меток, но и вероятность принадлежности объекта классу. \n",
    "\n",
    "**Пример**: Вы работаете в банке и хотите выдавать кредиты только тем клиентам, которые вернут его с вероятностью не меньше 0.9.\n",
    "\n",
    "Отметим, что\n",
    "$$P(y = -1|x) = 1 - P(y = +1|x),$$\n",
    "\n",
    "поэтому будем работать с вероятностью принадлежности объекта $x$ классу +1, т.е. $P(y = +1|x).$\n",
    "\n",
    "Мы могли бы считать $\\langle w, x \\rangle$ вероятностью принадлежности объекта $x$ классу +1, однако, как мы знаем, вероятность обязана лежать в отрезке [0; 1] (что неверно для скалярного произведения). Давайте обернем скалярное произведение в какую-нибудь функцию, которая будет принимать значения в отрезке [0; 1]! Например, **сигмоидную функцию**:\n",
    "\n",
    "$$\\sigma(z) = \\frac{1}{1 + \\exp(-z)}$$\n",
    "\n",
    "![Сигмоидная функция](./images/Logistic-curve.svg.png)\n",
    "\n",
    "Будем считать, что\n",
    "\n",
    "$$P(y = +1|x) = \\sigma(\\langle w, x \\rangle) = \\frac{1}{1 + exp(- \\langle w, x \\rangle)}$$\n",
    "\n",
    "На лекции было показано, что при такой постановке логично решать следующую оптимизационную задачу:\n",
    "\n",
    "\n",
    "$$\\frac{1}{l} \\sum_{i=1}^l \\{ [y_i = +1] \\log_2 \\sigma(\\langle w, x_i \\rangle) + [y_i = -1] \\log_2 (1 - \\sigma(\\langle w, x_i \\rangle)) \\} \\to \\max_{w}$$\n",
    "\n",
    "На самом деле, оказывается, что эта задача аналогична уже рассмотренной с использованием логистической функции в качестве аппроксимации. При этом функционал гладкий, и его можно оптимизировать при помощи градиентного спуска!\n",
    "\n",
    "### Пример обучения логрегрессии\n",
    "#### Определение спама по тексту электронного письма\n",
    "\n",
    "Попробуем при помощи моделей линейной классификации построить алгоритм, отделяющий спам от нормальной почты. Для экспериментов воспользуемся небольшим набором данных с [UCI](https://archive.ics.uci.edu/ml/datasets.html). Объекты в датасете соответствуют письмам, которые описаны признаками на основе текста письма, спам — положительный пример для классификации, хорошее письмо — отрицательный пример.\n",
    "\n",
    "![Spam](./images/spam.jpg)"
   ]
  },
  {
   "cell_type": "code",
   "execution_count": 177,
   "metadata": {
    "collapsed": false
   },
   "outputs": [
    {
     "data": {
      "text/html": [
       "<div>\n",
       "<table border=\"1\" class=\"dataframe\">\n",
       "  <thead>\n",
       "    <tr style=\"text-align: right;\">\n",
       "      <th></th>\n",
       "      <th>word_freq_make</th>\n",
       "      <th>word_freq_address</th>\n",
       "      <th>word_freq_all</th>\n",
       "      <th>word_freq_3d</th>\n",
       "      <th>word_freq_our</th>\n",
       "      <th>word_freq_over</th>\n",
       "      <th>word_freq_remove</th>\n",
       "      <th>word_freq_internet</th>\n",
       "      <th>word_freq_order</th>\n",
       "      <th>word_freq_mail</th>\n",
       "      <th>...</th>\n",
       "      <th>char_freq_;</th>\n",
       "      <th>char_freq_(</th>\n",
       "      <th>char_freq_[</th>\n",
       "      <th>char_freq_!</th>\n",
       "      <th>char_freq_$</th>\n",
       "      <th>char_freq_#</th>\n",
       "      <th>capital_run_length_average</th>\n",
       "      <th>capital_run_length_longest</th>\n",
       "      <th>capital_run_length_total</th>\n",
       "      <th>spam</th>\n",
       "    </tr>\n",
       "  </thead>\n",
       "  <tbody>\n",
       "    <tr>\n",
       "      <th>0</th>\n",
       "      <td>0.00</td>\n",
       "      <td>0.64</td>\n",
       "      <td>0.64</td>\n",
       "      <td>0</td>\n",
       "      <td>0.32</td>\n",
       "      <td>0.00</td>\n",
       "      <td>0.00</td>\n",
       "      <td>0.00</td>\n",
       "      <td>0.00</td>\n",
       "      <td>0.00</td>\n",
       "      <td>...</td>\n",
       "      <td>0.00</td>\n",
       "      <td>0.000</td>\n",
       "      <td>0</td>\n",
       "      <td>0.778</td>\n",
       "      <td>0.000</td>\n",
       "      <td>0.000</td>\n",
       "      <td>3.756</td>\n",
       "      <td>61</td>\n",
       "      <td>278</td>\n",
       "      <td>1</td>\n",
       "    </tr>\n",
       "    <tr>\n",
       "      <th>1</th>\n",
       "      <td>0.21</td>\n",
       "      <td>0.28</td>\n",
       "      <td>0.50</td>\n",
       "      <td>0</td>\n",
       "      <td>0.14</td>\n",
       "      <td>0.28</td>\n",
       "      <td>0.21</td>\n",
       "      <td>0.07</td>\n",
       "      <td>0.00</td>\n",
       "      <td>0.94</td>\n",
       "      <td>...</td>\n",
       "      <td>0.00</td>\n",
       "      <td>0.132</td>\n",
       "      <td>0</td>\n",
       "      <td>0.372</td>\n",
       "      <td>0.180</td>\n",
       "      <td>0.048</td>\n",
       "      <td>5.114</td>\n",
       "      <td>101</td>\n",
       "      <td>1028</td>\n",
       "      <td>1</td>\n",
       "    </tr>\n",
       "    <tr>\n",
       "      <th>2</th>\n",
       "      <td>0.06</td>\n",
       "      <td>0.00</td>\n",
       "      <td>0.71</td>\n",
       "      <td>0</td>\n",
       "      <td>1.23</td>\n",
       "      <td>0.19</td>\n",
       "      <td>0.19</td>\n",
       "      <td>0.12</td>\n",
       "      <td>0.64</td>\n",
       "      <td>0.25</td>\n",
       "      <td>...</td>\n",
       "      <td>0.01</td>\n",
       "      <td>0.143</td>\n",
       "      <td>0</td>\n",
       "      <td>0.276</td>\n",
       "      <td>0.184</td>\n",
       "      <td>0.010</td>\n",
       "      <td>9.821</td>\n",
       "      <td>485</td>\n",
       "      <td>2259</td>\n",
       "      <td>1</td>\n",
       "    </tr>\n",
       "    <tr>\n",
       "      <th>3</th>\n",
       "      <td>0.00</td>\n",
       "      <td>0.00</td>\n",
       "      <td>0.00</td>\n",
       "      <td>0</td>\n",
       "      <td>0.63</td>\n",
       "      <td>0.00</td>\n",
       "      <td>0.31</td>\n",
       "      <td>0.63</td>\n",
       "      <td>0.31</td>\n",
       "      <td>0.63</td>\n",
       "      <td>...</td>\n",
       "      <td>0.00</td>\n",
       "      <td>0.137</td>\n",
       "      <td>0</td>\n",
       "      <td>0.137</td>\n",
       "      <td>0.000</td>\n",
       "      <td>0.000</td>\n",
       "      <td>3.537</td>\n",
       "      <td>40</td>\n",
       "      <td>191</td>\n",
       "      <td>1</td>\n",
       "    </tr>\n",
       "    <tr>\n",
       "      <th>4</th>\n",
       "      <td>0.00</td>\n",
       "      <td>0.00</td>\n",
       "      <td>0.00</td>\n",
       "      <td>0</td>\n",
       "      <td>0.63</td>\n",
       "      <td>0.00</td>\n",
       "      <td>0.31</td>\n",
       "      <td>0.63</td>\n",
       "      <td>0.31</td>\n",
       "      <td>0.63</td>\n",
       "      <td>...</td>\n",
       "      <td>0.00</td>\n",
       "      <td>0.135</td>\n",
       "      <td>0</td>\n",
       "      <td>0.135</td>\n",
       "      <td>0.000</td>\n",
       "      <td>0.000</td>\n",
       "      <td>3.537</td>\n",
       "      <td>40</td>\n",
       "      <td>191</td>\n",
       "      <td>1</td>\n",
       "    </tr>\n",
       "  </tbody>\n",
       "</table>\n",
       "<p>5 rows × 58 columns</p>\n",
       "</div>"
      ],
      "text/plain": [
       "   word_freq_make  word_freq_address  word_freq_all  word_freq_3d  \\\n",
       "0            0.00               0.64           0.64             0   \n",
       "1            0.21               0.28           0.50             0   \n",
       "2            0.06               0.00           0.71             0   \n",
       "3            0.00               0.00           0.00             0   \n",
       "4            0.00               0.00           0.00             0   \n",
       "\n",
       "   word_freq_our  word_freq_over  word_freq_remove  word_freq_internet  \\\n",
       "0           0.32            0.00              0.00                0.00   \n",
       "1           0.14            0.28              0.21                0.07   \n",
       "2           1.23            0.19              0.19                0.12   \n",
       "3           0.63            0.00              0.31                0.63   \n",
       "4           0.63            0.00              0.31                0.63   \n",
       "\n",
       "   word_freq_order  word_freq_mail  ...   char_freq_;  char_freq_(  \\\n",
       "0             0.00            0.00  ...          0.00        0.000   \n",
       "1             0.00            0.94  ...          0.00        0.132   \n",
       "2             0.64            0.25  ...          0.01        0.143   \n",
       "3             0.31            0.63  ...          0.00        0.137   \n",
       "4             0.31            0.63  ...          0.00        0.135   \n",
       "\n",
       "   char_freq_[  char_freq_!  char_freq_$  char_freq_#  \\\n",
       "0            0        0.778        0.000        0.000   \n",
       "1            0        0.372        0.180        0.048   \n",
       "2            0        0.276        0.184        0.010   \n",
       "3            0        0.137        0.000        0.000   \n",
       "4            0        0.135        0.000        0.000   \n",
       "\n",
       "   capital_run_length_average  capital_run_length_longest  \\\n",
       "0                       3.756                          61   \n",
       "1                       5.114                         101   \n",
       "2                       9.821                         485   \n",
       "3                       3.537                          40   \n",
       "4                       3.537                          40   \n",
       "\n",
       "   capital_run_length_total  spam  \n",
       "0                       278     1  \n",
       "1                      1028     1  \n",
       "2                      2259     1  \n",
       "3                       191     1  \n",
       "4                       191     1  \n",
       "\n",
       "[5 rows x 58 columns]"
      ]
     },
     "execution_count": 177,
     "metadata": {},
     "output_type": "execute_result"
    }
   ],
   "source": [
    "import pandas\n",
    "import urllib2\n",
    "\n",
    "SPAMBASE_NAMES_URL = 'https://archive.ics.uci.edu/ml/machine-learning-databases/spambase/spambase.names'\n",
    "SPAMBASE_DATA_URL = 'https://archive.ics.uci.edu/ml/machine-learning-databases/spambase/spambase.data'\n",
    "\n",
    "feature_names = [\n",
    "    line.strip().split(':')[0] \n",
    "    for line in urllib2.urlopen(SPAMBASE_NAMES_URL).readlines()[33:]\n",
    "]\n",
    "spam_data = pandas.read_csv(SPAMBASE_DATA_URL, header=None, names=(feature_names + ['spam']))\n",
    " \n",
    "X, y = spam_data.ix[:, :-1].values, spam_data.ix[:, -1].values\n",
    " \n",
    "spam_data.head()"
   ]
  },
  {
   "cell_type": "code",
   "execution_count": 4,
   "metadata": {
    "collapsed": false
   },
   "outputs": [
    {
     "data": {
      "text/html": [
       "<div>\n",
       "<table border=\"1\" class=\"dataframe\">\n",
       "  <thead>\n",
       "    <tr style=\"text-align: right;\">\n",
       "      <th></th>\n",
       "      <th>0</th>\n",
       "      <th>1</th>\n",
       "      <th>2</th>\n",
       "      <th>3</th>\n",
       "      <th>4</th>\n",
       "      <th>5</th>\n",
       "      <th>6</th>\n",
       "      <th>7</th>\n",
       "      <th>8</th>\n",
       "      <th>9</th>\n",
       "      <th>...</th>\n",
       "      <th>48</th>\n",
       "      <th>49</th>\n",
       "      <th>50</th>\n",
       "      <th>51</th>\n",
       "      <th>52</th>\n",
       "      <th>53</th>\n",
       "      <th>54</th>\n",
       "      <th>55</th>\n",
       "      <th>56</th>\n",
       "      <th>57</th>\n",
       "    </tr>\n",
       "  </thead>\n",
       "  <tbody>\n",
       "    <tr>\n",
       "      <th>0</th>\n",
       "      <td>0.00</td>\n",
       "      <td>0.64</td>\n",
       "      <td>0.64</td>\n",
       "      <td>0.0</td>\n",
       "      <td>0.32</td>\n",
       "      <td>0.00</td>\n",
       "      <td>0.00</td>\n",
       "      <td>0.00</td>\n",
       "      <td>0.00</td>\n",
       "      <td>0.00</td>\n",
       "      <td>...</td>\n",
       "      <td>0.00</td>\n",
       "      <td>0.000</td>\n",
       "      <td>0.0</td>\n",
       "      <td>0.778</td>\n",
       "      <td>0.000</td>\n",
       "      <td>0.000</td>\n",
       "      <td>3.756</td>\n",
       "      <td>61</td>\n",
       "      <td>278</td>\n",
       "      <td>1</td>\n",
       "    </tr>\n",
       "    <tr>\n",
       "      <th>1</th>\n",
       "      <td>0.21</td>\n",
       "      <td>0.28</td>\n",
       "      <td>0.50</td>\n",
       "      <td>0.0</td>\n",
       "      <td>0.14</td>\n",
       "      <td>0.28</td>\n",
       "      <td>0.21</td>\n",
       "      <td>0.07</td>\n",
       "      <td>0.00</td>\n",
       "      <td>0.94</td>\n",
       "      <td>...</td>\n",
       "      <td>0.00</td>\n",
       "      <td>0.132</td>\n",
       "      <td>0.0</td>\n",
       "      <td>0.372</td>\n",
       "      <td>0.180</td>\n",
       "      <td>0.048</td>\n",
       "      <td>5.114</td>\n",
       "      <td>101</td>\n",
       "      <td>1028</td>\n",
       "      <td>1</td>\n",
       "    </tr>\n",
       "    <tr>\n",
       "      <th>2</th>\n",
       "      <td>0.06</td>\n",
       "      <td>0.00</td>\n",
       "      <td>0.71</td>\n",
       "      <td>0.0</td>\n",
       "      <td>1.23</td>\n",
       "      <td>0.19</td>\n",
       "      <td>0.19</td>\n",
       "      <td>0.12</td>\n",
       "      <td>0.64</td>\n",
       "      <td>0.25</td>\n",
       "      <td>...</td>\n",
       "      <td>0.01</td>\n",
       "      <td>0.143</td>\n",
       "      <td>0.0</td>\n",
       "      <td>0.276</td>\n",
       "      <td>0.184</td>\n",
       "      <td>0.010</td>\n",
       "      <td>9.821</td>\n",
       "      <td>485</td>\n",
       "      <td>2259</td>\n",
       "      <td>1</td>\n",
       "    </tr>\n",
       "    <tr>\n",
       "      <th>3</th>\n",
       "      <td>0.00</td>\n",
       "      <td>0.00</td>\n",
       "      <td>0.00</td>\n",
       "      <td>0.0</td>\n",
       "      <td>0.63</td>\n",
       "      <td>0.00</td>\n",
       "      <td>0.31</td>\n",
       "      <td>0.63</td>\n",
       "      <td>0.31</td>\n",
       "      <td>0.63</td>\n",
       "      <td>...</td>\n",
       "      <td>0.00</td>\n",
       "      <td>0.137</td>\n",
       "      <td>0.0</td>\n",
       "      <td>0.137</td>\n",
       "      <td>0.000</td>\n",
       "      <td>0.000</td>\n",
       "      <td>3.537</td>\n",
       "      <td>40</td>\n",
       "      <td>191</td>\n",
       "      <td>1</td>\n",
       "    </tr>\n",
       "    <tr>\n",
       "      <th>4</th>\n",
       "      <td>0.00</td>\n",
       "      <td>0.00</td>\n",
       "      <td>0.00</td>\n",
       "      <td>0.0</td>\n",
       "      <td>0.63</td>\n",
       "      <td>0.00</td>\n",
       "      <td>0.31</td>\n",
       "      <td>0.63</td>\n",
       "      <td>0.31</td>\n",
       "      <td>0.63</td>\n",
       "      <td>...</td>\n",
       "      <td>0.00</td>\n",
       "      <td>0.135</td>\n",
       "      <td>0.0</td>\n",
       "      <td>0.135</td>\n",
       "      <td>0.000</td>\n",
       "      <td>0.000</td>\n",
       "      <td>3.537</td>\n",
       "      <td>40</td>\n",
       "      <td>191</td>\n",
       "      <td>1</td>\n",
       "    </tr>\n",
       "  </tbody>\n",
       "</table>\n",
       "<p>5 rows × 58 columns</p>\n",
       "</div>"
      ],
      "text/plain": [
       "     0     1     2    3     4     5     6     7     8     9  ...    48     49  \\\n",
       "0  0.00  0.64  0.64  0.0  0.32  0.00  0.00  0.00  0.00  0.00 ...  0.00  0.000   \n",
       "1  0.21  0.28  0.50  0.0  0.14  0.28  0.21  0.07  0.00  0.94 ...  0.00  0.132   \n",
       "2  0.06  0.00  0.71  0.0  1.23  0.19  0.19  0.12  0.64  0.25 ...  0.01  0.143   \n",
       "3  0.00  0.00  0.00  0.0  0.63  0.00  0.31  0.63  0.31  0.63 ...  0.00  0.137   \n",
       "4  0.00  0.00  0.00  0.0  0.63  0.00  0.31  0.63  0.31  0.63 ...  0.00  0.135   \n",
       "\n",
       "    50     51     52     53     54   55    56  57  \n",
       "0  0.0  0.778  0.000  0.000  3.756   61   278   1  \n",
       "1  0.0  0.372  0.180  0.048  5.114  101  1028   1  \n",
       "2  0.0  0.276  0.184  0.010  9.821  485  2259   1  \n",
       "3  0.0  0.137  0.000  0.000  3.537   40   191   1  \n",
       "4  0.0  0.135  0.000  0.000  3.537   40   191   1  \n",
       "\n",
       "[5 rows x 58 columns]"
      ]
     },
     "execution_count": 4,
     "metadata": {},
     "output_type": "execute_result"
    }
   ],
   "source": [
    "import pandas\n",
    "\n",
    "SPAMBASE_NAMES_URL = 'https://archive.ics.uci.edu/ml/machine-learning-databases/spambase/spambase.names'\n",
    "SPAMBASE_DATA_URL = 'https://archive.ics.uci.edu/ml/machine-learning-databases/spambase/spambase.data'\n",
    "\n",
    "spam_data = pandas.read_csv(SPAMBASE_DATA_URL, header=None)\n",
    " \n",
    "X, y = spam_data.values[:, :-1], spam_data.values[:, -1]\n",
    " \n",
    "spam_data.head()"
   ]
  },
  {
   "cell_type": "markdown",
   "metadata": {},
   "source": [
    "### Обучим логрегрессию"
   ]
  },
  {
   "cell_type": "code",
   "execution_count": 5,
   "metadata": {
    "collapsed": false
   },
   "outputs": [],
   "source": [
    "from sklearn.linear_model import LogisticRegression\n",
    "\n",
    "train_part = 0.8\n",
    "n_train = int(train_part*X.shape[0])\n",
    "X_tr = X[:n_train]\n",
    "X_test = X[n_train:]\n",
    "y_tr = y[:n_train]\n",
    "y_test = y[n_train:]\n",
    "\n",
    "lr = LogisticRegression()\n",
    "lr = lr.fit(X_tr, y_tr)"
   ]
  },
  {
   "cell_type": "markdown",
   "metadata": {},
   "source": [
    "### Посчитаем качество"
   ]
  },
  {
   "cell_type": "code",
   "execution_count": 7,
   "metadata": {
    "collapsed": false
   },
   "outputs": [
    {
     "name": "stdout",
     "output_type": "stream",
     "text": [
      "ACC: 0.813246471227\n"
     ]
    }
   ],
   "source": [
    "from sklearn import metrics\n",
    "\n",
    "preds = lr.predict(X_test)\n",
    "\n",
    "print('ACC:', metrics.accuracy_score(y_test, preds))"
   ]
  },
  {
   "cell_type": "markdown",
   "metadata": {},
   "source": [
    "### SGDClassifier\n",
    "Объект SGDClissifier позволяет обучать линейные модели классификации и регрессии с помощью стохастического градиентного спуска (т.е. грандиент функции потерь каждый раз вычисляется по одному случайному объекту, и делается шаг).\n",
    "\n",
    "Полезные параметры:\n",
    "* loss - функция потерь (по факту то, какую модель обучаем): **hinge** (SVM), **log** (логистическая регрессия), **perceptron** (персептрон) и другие.\n",
    "* penalty - тип регуляризации: **l1**, **l2**, **elasticnet** (смесь l1 и l2 регуляризации).\n",
    "* alpha - коэффициент регуляризации.\n",
    "* fit_intercept - добавлять ли свободный член (true/false).\n",
    "* n_iter - число эпох (полных проходов по данным) при обучении.\n",
    "* learning_rate - шаг градиентного спуска (оптимизируется по умолчанию)."
   ]
  },
  {
   "cell_type": "code",
   "execution_count": 9,
   "metadata": {
    "collapsed": false
   },
   "outputs": [
    {
     "name": "stdout",
     "output_type": "stream",
     "text": [
      "ACC: 0.85233441911\n"
     ]
    }
   ],
   "source": [
    "from sklearn.linear_model import SGDClassifier\n",
    "lr_sgd = SGDClassifier(loss=\"log\", alpha=0.05, n_iter=200, fit_intercept=True)\n",
    "lr_sgd.fit(X_tr, y_tr)\n",
    "preds_sgd = lr_sgd.predict(X_test)\n",
    "print('ACC:', metrics.accuracy_score(y_test, preds_sgd))"
   ]
  },
  {
   "cell_type": "markdown",
   "metadata": {},
   "source": [
    "## Оценка качества работы классификатора\n",
    "### Бинарные метрики\n",
    "Обучение и оценка качества модели производится на независимых множествах примеров. Как правило, имеющующиеся примеры разбивают на два подмножества: обучение (`train`) и контроль (`test`). Выбор пропорции разбиения — компромисс: большой размер обучения ведет к более богатым информацией и качественным алгоритмам, большой размер контрольной выборки ведет к менее шумной оценке качества.\n",
    "\n",
    "Для оценки качества классификации рассматривают [матрицу ошибок](http://en.wikipedia.org/wiki/Confusion_matrix): строчки соответствуют истинному классу, столбцы — предсказанному классификатором, ячейки содержат число примеров тестовой выборки.\n",
    "![Матрица ошибок](./images/confusion_matrix.png)\n",
    "Диагональ матрицы ошибок содержит правильно классифицированные положительные (TP) и отрицательные (TN) примеры. False Positive (FP) — ошибки I рода (ложное срабатывание, положили в спам хорошее письмо), False Negative (FN) — ошибки II рода (не отфильтровали спам). Ошибки I и II рода могут иметь различную стоимость.\n",
    "\n",
    "Часто рассматриваются следующие метрики качества бинарной классификации:\n",
    "  - Accuracy = (TP + TN) / (TP + TN + FP + FN)  — _доля правильных ответов_\n",
    "  - Precision = TP / (TP + FP)  — _точность, доля спама среди писем, классифицированных как спам_\n",
    "  - Recall = TP / (TP + FN)  — _полнота, доля спама, которая была отфильтрована_\n",
    "  - F1 = 2TP / (2TP + FP + FN)  — _среднее гармоническое между точностью и полнотой_\n",
    "  \n",
    "Подробнее про метрики качества бинарной классификации на Википедии: [Precision and Recall](http://en.wikipedia.org/wiki/Precision_and_recall).\n",
    "\n",
    "### Выбор порога классификации\n",
    "Многие модели классификации получают оценку принадлежности положительному классу $\\tilde{y}(x) \\in R$. Затем принимают решение о классе объекта путем сравнения оценки с порогом:\n",
    "\n",
    "$y(x) = +1$,  если $\\tilde{y}(x) \\geq \\theta$, $y(x) = -1$, если $\\tilde{y}(x) < \\theta$\n",
    "\n",
    "Матрица ошибок и все производные от нее метрики (Accuracy, Precision, Recall, etc.) зависят от порога $\\theta$:\n",
    "![Порог классификации](./images/binary_threshold.png) \n",
    "\n",
    "Для того чтобы видеть изменения метрик при всех значениях порога классификации, рассматривают координатную плоскость, по осям которой отложены значения метрик, а качество работы классификатора представлено в виде кривой — траектории изменения соответствующих метрик при варьировании порога:\n",
    "![Принцип построения ROC-кривой](./images/roc_trajectory.png)\n",
    "\n",
    "Наиболее распространены ROC-кривые (плоскость TP-vs-FP) и Precision/Recall кривые. Аббревиатура ROC ([Receiver Operating Characteristic](en.wikipedia.org/wiki/Receiver_operating_characteristic)) была унаследована из инженерного дела.\n",
    "![Примеры ROC-кривых](./images/roc_and_pr_curves.png)\n",
    "\n",
    "В случае, если необходимо сравнить качество классификаторов вне зависимости от порога, применяют интегральные числовые метрики, например AUC-ROC (**A**rea **U**nder RO**C**) — площадь под ROC-кривой классификатора. AUC-ROC идеально работающего классификатора равно 1. Идеальный случайный классификатор в среднем имеет AUC-ROC=0.5.\n"
   ]
  },
  {
   "cell_type": "markdown",
   "metadata": {},
   "source": [
    "## Валидация\n",
    "Чтобы понять насколько хорош наш алгоритм, нам надо провести валидацию. Это один из самых важных шагов в процессе решения задачи. Посмотрим что мы сделали в предыдущей задаче со спамом. "
   ]
  },
  {
   "cell_type": "code",
   "execution_count": 12,
   "metadata": {
    "collapsed": false
   },
   "outputs": [
    {
     "name": "stdout",
     "output_type": "stream",
     "text": [
      "ACC: 0.813246471227\n"
     ]
    }
   ],
   "source": [
    "spam_data = pandas.read_csv(SPAMBASE_DATA_URL, header=None)\n",
    " \n",
    "X, y = spam_data.values[:, :-1], spam_data.values[:, -1]\n",
    "\n",
    "# обучающая выборка\n",
    "X_tr = X[:n_train]\n",
    "y_tr = y[:n_train]\n",
    "\n",
    "# валидационная выборка\n",
    "X_test = X[n_train:]\n",
    "y_test = y[n_train:]\n",
    "\n",
    "# обучим ещё раз логистическую регрессию\n",
    "lr = LogisticRegression()\n",
    "lr = lr.fit(X_tr, y_tr)\n",
    "\n",
    "#посмотрим на точность классификации\n",
    "\n",
    "preds = lr.predict(X_test)\n",
    "print('ACC:', metrics.accuracy_score(y_test, preds))"
   ]
  },
  {
   "cell_type": "markdown",
   "metadata": {},
   "source": [
    "#### А теперь попробуем перемешать данные и сравним точность:"
   ]
  },
  {
   "cell_type": "code",
   "execution_count": 13,
   "metadata": {
    "collapsed": false
   },
   "outputs": [
    {
     "name": "stdout",
     "output_type": "stream",
     "text": [
      "ACC: 0.914425427873\n"
     ]
    }
   ],
   "source": [
    "from sklearn import cross_validation\n",
    "X_tr, X_test, y_tr, y_test = cross_validation.train_test_split(X, y, test_size=train_part, random_state=123)\n",
    "\n",
    "# обучим ещё раз логистическую регрессию\n",
    "lr = LogisticRegression()\n",
    "lr = lr.fit(X_tr, y_tr)\n",
    "\n",
    "#посмотрим на точность классификации\n",
    "\n",
    "preds = lr.predict(X_test)\n",
    "print('ACC:', metrics.accuracy_score(y_test, preds))"
   ]
  },
  {
   "cell_type": "markdown",
   "metadata": {},
   "source": [
    "### В чем проблема?"
   ]
  },
  {
   "cell_type": "code",
   "execution_count": 14,
   "metadata": {
    "collapsed": false
   },
   "outputs": [
    {
     "data": {
      "text/plain": [
       "[<matplotlib.lines.Line2D at 0x7f1b72acbb00>]"
      ]
     },
     "execution_count": 14,
     "metadata": {},
     "output_type": "execute_result"
    },
    {
     "data": {
      "image/png": "[encoded data removed]",
      "text/plain": [
       "<matplotlib.figure.Figure at 0x7f1b74b69438>"
      ]
     },
     "metadata": {},
     "output_type": "display_data"
    }
   ],
   "source": [
    "plt.plot(y, 'ro')"
   ]
  },
  {
   "cell_type": "markdown",
   "metadata": {},
   "source": [
    "Как мы видим, проблема заключалась в том, что в выборке примеры были упорядочены: сначала шли примеры положительного класса, а потом отрицательного! Поэтому нельзя забывать **перемешивать классы**.\n",
    "\n",
    "Чтобы уменьшить дисперсию, можно разбивать не один раз, а несколько, для этого есть функция [`sklearn.cross_validation.ShuffleSplit`](http://scikit-learn.org/stable/modules/generated/sklearn.cross_validation.ShuffleSplit.html#sklearn.cross_validation.ShuffleSplit)"
   ]
  },
  {
   "cell_type": "code",
   "execution_count": 15,
   "metadata": {
    "collapsed": false
   },
   "outputs": [],
   "source": [
    "cv = cross_validation.ShuffleSplit(n=X.shape[0], n_iter = 5, train_size=0.9, test_size=0.1, random_state=123)\n",
    "quals = []\n",
    "lr = LogisticRegression()\n",
    "for tr_ind, test_ind in cv:\n",
    "    lr.fit(X[tr_ind, :], y[tr_ind])\n",
    "    quals.append(metrics.roc_auc_score(y[test_ind], lr.predict_proba(X[test_ind,:])[:,1]))"
   ]
  },
  {
   "cell_type": "code",
   "execution_count": 17,
   "metadata": {
    "collapsed": false
   },
   "outputs": [
    {
     "name": "stdout",
     "output_type": "stream",
     "text": [
      "Mean:  0.972646980708\n",
      "std:  0.00736257830467\n"
     ]
    }
   ],
   "source": [
    "print('Mean: ', np.mean(quals))\n",
    "print('std: ', np.std(quals))"
   ]
  },
  {
   "cell_type": "code",
   "execution_count": 149,
   "metadata": {
    "collapsed": true
   },
   "outputs": [],
   "source": [
    "cv = cross_validation.ShuffleSplit(n=X.shape[0], n_iter = 10, train_size=0.9, test_size=0.1, random_state=124)\n",
    "quals = []\n",
    "lr = LogisticRegression()\n",
    "for tr_ind, test_ind in cv:\n",
    "    lr.fit(X[tr_ind, :], y[tr_ind])\n",
    "    quals.append(metrics.roc_auc_score(y[test_ind], lr.predict_proba(X[test_ind,:])[:,1]))"
   ]
  },
  {
   "cell_type": "code",
   "execution_count": 150,
   "metadata": {
    "collapsed": false
   },
   "outputs": [
    {
     "name": "stdout",
     "output_type": "stream",
     "text": [
      "Mean:  0.972364553141\n",
      "std:  0.00375479842421\n"
     ]
    }
   ],
   "source": [
    "print 'Mean: ', np.mean(quals)\n",
    "print 'std: ', np.std(quals)"
   ]
  },
  {
   "cell_type": "code",
   "execution_count": 20,
   "metadata": {
    "collapsed": false
   },
   "outputs": [],
   "source": [
    "means = []\n",
    "stds = []\n",
    "xs = []\n",
    "quals = []\n",
    "for tr_size in np.arange(0.5,0.9,0.01):\n",
    "    cv = cross_validation.ShuffleSplit(n=X.shape[0], n_iter = 5, train_size=tr_size, random_state=123)\n",
    "    fold_quals = []\n",
    "    lr = LogisticRegression()\n",
    "    for tr_ind, test_ind in cv:\n",
    "        lr.fit(X[tr_ind, :], y[tr_ind])\n",
    "        qual = metrics.roc_auc_score(y[test_ind], lr.predict_proba(X[test_ind,:])[:,1])\n",
    "        fold_quals.append(qual)\n",
    "        quals.append(qual)\n",
    "        xs.append(tr_size)\n",
    "    means.append(np.mean(fold_quals))\n",
    "    stds.append(np.std(fold_quals))"
   ]
  },
  {
   "cell_type": "markdown",
   "metadata": {},
   "source": [
    "Посмотрим как ведут себя качество модели и дисперсия качества в зависимости от размера обучающей выборки"
   ]
  },
  {
   "cell_type": "code",
   "execution_count": 209,
   "metadata": {
    "collapsed": false
   },
   "outputs": [],
   "source": [
    "figsize(6,4)"
   ]
  },
  {
   "cell_type": "code",
   "execution_count": 213,
   "metadata": {
    "collapsed": false
   },
   "outputs": [
    {
     "data": {
      "text/plain": [
       "<matplotlib.text.Text at 0x11f37eb90>"
      ]
     },
     "execution_count": 213,
     "metadata": {},
     "output_type": "execute_result"
    },
    {
     "data": {
      "image/png": "[encoded data removed]",
      "text/plain": [
       "<matplotlib.figure.Figure at 0x11f1fcdd0>"
      ]
     },
     "metadata": {},
     "output_type": "display_data"
    }
   ],
   "source": [
    "plt.plot(np.arange(0.5,0.9,0.01), means, 'ro')\n",
    "plt.xlabel('train size')\n",
    "plt.ylabel('mean quality')"
   ]
  },
  {
   "cell_type": "code",
   "execution_count": 214,
   "metadata": {
    "collapsed": false
   },
   "outputs": [
    {
     "data": {
      "text/plain": [
       "<matplotlib.text.Text at 0x11f5952d0>"
      ]
     },
     "execution_count": 214,
     "metadata": {},
     "output_type": "execute_result"
    },
    {
     "data": {
      "image/png": "[encoded data removed]",
      "text/plain": [
       "<matplotlib.figure.Figure at 0x11f614190>"
      ]
     },
     "metadata": {},
     "output_type": "display_data"
    }
   ],
   "source": [
    "plt.plot(np.arange(0.5,0.9,0.01), stds)\n",
    "plt.xlabel('train size')\n",
    "plt.ylabel('quality std')"
   ]
  },
  {
   "cell_type": "code",
   "execution_count": 212,
   "metadata": {
    "collapsed": false
   },
   "outputs": [
    {
     "data": {
      "text/plain": [
       "<matplotlib.text.Text at 0x11f1fc710>"
      ]
     },
     "execution_count": 212,
     "metadata": {},
     "output_type": "execute_result"
    },
    {
     "data": {
      "image/png": "[encoded data removed]",
      "text/plain": [
       "<matplotlib.figure.Figure at 0x11f04cd50>"
      ]
     },
     "metadata": {},
     "output_type": "display_data"
    }
   ],
   "source": [
    "plt.plot(xs, qualss, 'ro')\n",
    "plt.xlabel('train size')\n",
    "plt.ylabel('quality')"
   ]
  },
  {
   "cell_type": "markdown",
   "metadata": {},
   "source": [
    "### Случай с сильно несбалансированными классами\n",
    "Если объектов одного класса сильно меньше чем других, к тому же выборка небольшая, то есть ненулевая вероятность того, что при случайном разбиении у нас этого класса может почти не оказаться в тестовой выборке, соответственно результаты валидации будут иметь большую дисперсию"
   ]
  },
  {
   "cell_type": "markdown",
   "metadata": {},
   "source": [
    "- Пример: есть клиенты банка, которые хотят взять кредит, при этом не все из них вернут его\n",
    "\n",
    "Случаи невозврата кредита очень редки!"
   ]
  },
  {
   "cell_type": "code",
   "execution_count": 22,
   "metadata": {
    "collapsed": false
   },
   "outputs": [
    {
     "name": "stdout",
     "output_type": "stream",
     "text": [
      "доля заемщиков не вернувших кредит: 0.00712606000143\n"
     ]
    }
   ],
   "source": [
    "df = pd.read_csv('givemesomecredit')\n",
    "X = df.drop('SeriousDlqin2yrs', axis=1)\n",
    "X = X.fillna(X.mean()).as_matrix()\n",
    "y = df['SeriousDlqin2yrs']\n",
    "print(\"доля заемщиков не вернувших кредит:\", y.mean())"
   ]
  },
  {
   "cell_type": "markdown",
   "metadata": {},
   "source": [
    "- Всего 0.7% доля объектов одного класса"
   ]
  },
  {
   "cell_type": "markdown",
   "metadata": {},
   "source": [
    "- В таком случае надо делать стратификацию, то есть разбивать отдельно объекты каждого класса на обучение и контроль (сохраняя их доли).\n",
    "\n",
    "**Посмотрим как влияет на оценку качества стратификация**"
   ]
  },
  {
   "cell_type": "code",
   "execution_count": 23,
   "metadata": {
    "collapsed": false
   },
   "outputs": [
    {
     "name": "stdout",
     "output_type": "stream",
     "text": [
      "mean =  0.6489656795\n",
      "std =  0.0755664858797\n"
     ]
    }
   ],
   "source": [
    "cv = cross_validation.ShuffleSplit(n=X.shape[0], n_iter = 10, train_size=0.9, test_size=0.1, random_state=124)\n",
    "quals = []\n",
    "lr = LogisticRegression()\n",
    "for tr_ind, test_ind in cv:\n",
    "    lr.fit(X[tr_ind, :], y[tr_ind])\n",
    "    quals.append(metrics.roc_auc_score(y[test_ind], lr.predict_proba(X[test_ind,:])[:,1]))\n",
    "\n",
    "print(\"mean = \", np.mean(quals))\n",
    "print(\"std = \", np.std(quals))"
   ]
  },
  {
   "cell_type": "code",
   "execution_count": 24,
   "metadata": {
    "collapsed": false
   },
   "outputs": [
    {
     "name": "stdout",
     "output_type": "stream",
     "text": [
      "mean =  0.670975609756\n",
      "std =  0.0680097508336\n"
     ]
    }
   ],
   "source": [
    "cv = cross_validation.StratifiedShuffleSplit(y, n_iter = 10, train_size=0.9, test_size=0.1, random_state=124)\n",
    "quals = []\n",
    "lr = LogisticRegression()\n",
    "for tr_ind, test_ind in cv:\n",
    "    lr.fit(X[tr_ind, :], y[tr_ind])\n",
    "    quals.append(metrics.roc_auc_score(y[test_ind], lr.predict_proba(X[test_ind,:])[:,1]))\n",
    "\n",
    "print(\"mean = \", np.mean(quals))\n",
    "print(\"std = \", np.std(quals))"
   ]
  },
  {
   "cell_type": "markdown",
   "metadata": {},
   "source": [
    "- Как мы видим, в первый раз мы делали все совсем неправильно.\n",
    "\n",
    "- Стратификация позволяет уменьшить дисперсию и более точно оценить качество"
   ]
  },
  {
   "cell_type": "markdown",
   "metadata": {},
   "source": [
    "#### Рассмотрим следующую задачу \n",
    "данные по больным бесплодием, выборка - около 100 человек, каждый больной может нести в себе новую важную информацию, поэтому мы хотим сделать обучающую выборку как можно больше, при этом можем позволить себе обучать классификатор много раз.\n",
    "\n",
    "Для этого используем [`LeaveOneOut`](http://scikit-learn.org/stable/modules/generated/sklearn.cross_validation.LeaveOneOut.html#sklearn.cross_validation.LeaveOneOut).\n",
    "\n",
    "Мы по одному объекты выкидываем из обучающей выблорки, обучаем модель и предсказываем на этом объекте."
   ]
  },
  {
   "cell_type": "code",
   "execution_count": 25,
   "metadata": {
    "collapsed": false
   },
   "outputs": [
    {
     "name": "stdout",
     "output_type": "stream",
     "text": [
      "ACC = 0.88\n"
     ]
    }
   ],
   "source": [
    "df = pd.read_csv('fertility', sep = ',', header = None)\n",
    "X = df.ix[:,:8]\n",
    "y = np.zeros(df.shape[0])\n",
    "y[df[9].as_matrix() == 'N'] = 1\n",
    "\n",
    "cv_LOO = cross_validation.LeaveOneOut(n = len(y))\n",
    "qual = []\n",
    "for tr_ids, test_ids in cv_LOO:\n",
    "    lr.fit(X.ix[tr_ids,:], y[tr_ids])\n",
    "    qual.append(lr.predict(X.ix[test_ids, :]) == y[test_ids])\n",
    "print(\"ACC =\", np.mean(qual))\n"
   ]
  },
  {
   "cell_type": "markdown",
   "metadata": {},
   "source": [
    "Если же объектов много, то очень затртано обучать модель для проверки каждого объекта.\n",
    "\n",
    "Но мы хотим чтобы все-таки **каждый объект побывал и в train и в test**, причем одинаковое количество раз.\n",
    "\n",
    "Для этого можно сделать следующим образом: разбить случайным образом всю выборку на K блоков, и каждый из блоков по одному разу сделать тест сетом.\n",
    "\n",
    "Этот метод называется K-Fold. В sklearn он представлен [`sklearn.cross_validation.KFold`](http://scikit-learn.org/stable/modules/generated/sklearn.cross_validation.KFold.html#sklearn.cross_validation.KFold)"
   ]
  },
  {
   "cell_type": "code",
   "execution_count": 26,
   "metadata": {
    "collapsed": false
   },
   "outputs": [
    {
     "name": "stdout",
     "output_type": "stream",
     "text": [
      "accuracy: 0.88 0.0509901951359\n"
     ]
    }
   ],
   "source": [
    "cv = cross_validation.KFold(n=len(y), n_folds=5, random_state=123, shuffle=True)\n",
    "lr = LogisticRegression()\n",
    "quals = []\n",
    "for tr_ids, test_ids in cv:\n",
    "    lr.fit(X.ix[tr_ids,:], y[tr_ids])\n",
    "    quals.append(metrics.accuracy_score(y[test_ids], lr.predict(X.ix[test_ids, :])))\n",
    "\n",
    "print(\"accuracy:\", np.mean(quals), np.std(quals))"
   ]
  },
  {
   "cell_type": "markdown",
   "metadata": {
    "collapsed": true
   },
   "source": [
    "### Вопросы:\n",
    "1. Как соотносятся KFold и LOO кроссвалидации|?\n",
    "2. Что общего у KFold и ShuffleSplit?"
   ]
  },
  {
   "cell_type": "markdown",
   "metadata": {},
   "source": [
    "### Настройка параметров модели\n",
    "Настройка наилучших параметров модели производится с и пользовнием техник кросс-валидации (для оценки качества) и соответственно перебора параметров. \n",
    "\n",
    "Для перебора параметров можно использовать: \n",
    "- Модуль для перебора параметров модели по сетке [`sklearn.grid_search`](http://scikit-learn.org/stable/modules/classes.html#module-sklearn.grid_search)\n",
    "  - Класс [`GridSearchCV`](http://scikit-learn.org/stable/modules/generated/sklearn.grid_search.GridSearchCV.html#sklearn.grid_search.GridSearchCV) — полный перебор параметров модели по сетке\n",
    "  - Класс [`RandomizedSearchCV`](http://scikit-learn.org/stable/modules/generated/sklearn.grid_search.RandomizedSearchCV.html#sklearn.grid_search.RandomizedSearchCV) — перебирает случайные комбинации параметров"
   ]
  },
  {
   "cell_type": "markdown",
   "metadata": {},
   "source": [
    "## Краткий справочник по SciKit-Learn\n",
    "\n",
    "Обратите внимание на следующую функциональность библиотеки SciKit-Learn:\n",
    "\n",
    "- Модуль для оценки качества моделей и кросс валидации [`sklearn.cross_validation`](http://scikit-learn.org/stable/modules/cross_validation.html):\n",
    "  - функция разбиения выборки [`train_test_split()`](http://scikit-learn.org/stable/modules/generated/sklearn.cross_validation.train_test_split.html#sklearn.cross_validation.train_test_split)\n",
    "  - итераторы разбиений для кросс-валидации: [`LeaveOneOut`](http://scikit-learn.org/stable/modules/generated/sklearn.cross_validation.LeaveOneOut.html#sklearn.cross_validation.LeaveOneOut), [`KFold`](http://scikit-learn.org/stable/modules/generated/sklearn.cross_validation.KFold.html#sklearn.cross_validation.KFold), [`ShuffleSplit`](http://scikit-learn.org/stable/modules/generated/sklearn.cross_validation.ShuffleSplit.html#sklearn.cross_validation.ShuffleSplit)\n",
    "  - всегда указывайте параметр `random_state`, это сделает код вашего эксперимента воспроизводимым: при повторном запуске разбиения будут одинаковыми\n",
    "- Модуль с метриками качества моделей [`sklearn.metrics`](http://scikit-learn.org/stable/modules/classes.html#module-sklearn.metrics)\n",
    "  - [`accuracy_score(y_true, y_pred)`](http://scikit-learn.org/stable/modules/generated/sklearn.metrics.accuracy_score.html#sklearn.metrics.accuracy_score)\n",
    "  - [`precision_recall_fscore_support(y_true, y_pred)`](http://scikit-learn.org/stable/modules/generated/sklearn.metrics.precision_recall_fscore_support.html#sklearn.metrics.precision_recall_fscore_support)\n",
    "  - [`roc_curve(y_true, y_score)`](http://scikit-learn.org/stable/modules/generated/sklearn.metrics.roc_curve.html#sklearn.metrics.roc_curve)\n",
    "  - [`precision_recall_curve(y_true, y_score)`](http://scikit-learn.org/stable/modules/generated/sklearn.metrics.precision_recall_curve.html)\n",
    "  - [`roc_auc_score(y_true, y_score)`](http://scikit-learn.org/stable/modules/generated/sklearn.metrics.roc_auc_score.html#sklearn.metrics.roc_auc_score)\n",
    "\n",
    "- Модуль для перебора параметров модели по сетке [`sklearn.grid_search`](http://scikit-learn.org/stable/modules/classes.html#module-sklearn.grid_search)\n",
    "  - Класс [`GridSearchCV`](http://scikit-learn.org/stable/modules/generated/sklearn.grid_search.GridSearchCV.html#sklearn.grid_search.GridSearchCV) — полный перебор параметров модели по сетке\n",
    "  - Класс [`RandomizedSearchCV`](http://scikit-learn.org/stable/modules/generated/sklearn.grid_search.RandomizedSearchCV.html#sklearn.grid_search.RandomizedSearchCV) — перебирает случайные комбинации параметров\n",
    "  \n",
    "### Руководства и примеры из документации\n",
    "\n",
    "- [Оценка качества предсказаний](http://scikit-learn.org/stable/modules/model_evaluation.html)\n",
    "- [Оптимизация параметров по сетке с использованием кросс-валидации](http://scikit-learn.org/stable/auto_examples/grid_search_digits.html)\n",
    "- [ROC-кривые](http://scikit-learn.org/stable/auto_examples/plot_roc.html), [Precision-Recall кривые](http://scikit-learn.org/stable/auto_examples/plot_precision_recall.html)"
   ]
  }
 ],
 "metadata": {
  "kernelspec": {
   "display_name": "Python 3",
   "language": "python",
   "name": "python3"
  },
  "language_info": {
   "codemirror_mode": {
    "name": "ipython",
    "version": 3
   },
   "file_extension": ".py",
   "mimetype": "text/x-python",
   "name": "python",
   "nbconvert_exporter": "python",
   "pygments_lexer": "ipython3",
   "version": "3.4.3"
  }
 },
 "nbformat": 4,
 "nbformat_minor": 0
}
