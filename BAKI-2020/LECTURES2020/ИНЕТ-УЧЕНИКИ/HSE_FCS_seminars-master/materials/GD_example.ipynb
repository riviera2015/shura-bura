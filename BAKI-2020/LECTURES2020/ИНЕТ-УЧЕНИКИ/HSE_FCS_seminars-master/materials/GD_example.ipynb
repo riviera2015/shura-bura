{
 "cells": [
  {
   "cell_type": "code",
   "execution_count": 1,
   "metadata": {
    "collapsed": true
   },
   "outputs": [],
   "source": [
    "import numpy as np"
   ]
  },
  {
   "cell_type": "code",
   "execution_count": 11,
   "metadata": {
    "collapsed": false
   },
   "outputs": [],
   "source": [
    "n_obj = 10000\n",
    "n_feat = 100\n",
    "\n",
    "w = np.random.rand(n_feat)\n",
    "X = np.random.rand(n_obj, n_feat)\n",
    "y = X.dot(w) + np.random.normal(0, 0.1, n_obj)"
   ]
  },
  {
   "cell_type": "code",
   "execution_count": 17,
   "metadata": {
    "collapsed": false
   },
   "outputs": [
    {
     "name": "stdout",
     "output_type": "stream",
     "text": [
      "1 loop, best of 3: 140 ms per loop\n"
     ]
    }
   ],
   "source": [
    "%timeit w_inv = np.linalg.inv(X.T.dot(X)).dot(X.T).dot(y)"
   ]
  },
  {
   "cell_type": "code",
   "execution_count": 18,
   "metadata": {
    "collapsed": false
   },
   "outputs": [
    {
     "name": "stdout",
     "output_type": "stream",
     "text": [
      "10 loops, best of 3: 64.8 ms per loop\n"
     ]
    }
   ],
   "source": [
    "%timeit w_solve = np.linalg.solve(X.T.dot(X), X.T.dot(y))"
   ]
  },
  {
   "cell_type": "code",
   "execution_count": 30,
   "metadata": {
    "collapsed": true
   },
   "outputs": [],
   "source": [
    "def gd(X, y, num_iter=100, alpha=3*1e-6):\n",
    "    w_ = np.random.rand(n_feat)\n",
    "    for i in range(num_iter):\n",
    "        grad = 2 * X.T.dot(X.dot(w)-y)\n",
    "        w_ -= alpha * grad\n",
    "    return w_"
   ]
  },
  {
   "cell_type": "code",
   "execution_count": 33,
   "metadata": {
    "collapsed": true
   },
   "outputs": [],
   "source": [
    "w_gd = gd(X, y, 1000, 3*1e-6)"
   ]
  },
  {
   "cell_type": "code",
   "execution_count": 25,
   "metadata": {
    "collapsed": false
   },
   "outputs": [
    {
     "data": {
      "text/plain": [
       "array([ 0.47719037,  0.65290069,  0.96291141,  0.28694313,  0.66888972,\n",
       "        0.08260546,  0.89594681,  0.64050809,  0.05636792,  0.53893686,\n",
       "        0.57381634,  0.61811318,  0.77846873,  0.42721845,  0.67377454,\n",
       "        0.51936578,  0.29808832,  0.92390699,  0.88736446,  0.1377387 ,\n",
       "        0.72315797,  0.51903199,  0.68688129,  0.24090496,  0.35967379,\n",
       "        0.36315787,  0.52699343,  0.46189163,  0.32174238,  0.42268287,\n",
       "        0.57151553,  0.68885625,  0.32342009,  0.34185103,  0.90893949,\n",
       "        0.81771348,  0.2340531 ,  0.51618026,  0.12311063,  0.82228138,\n",
       "        0.38065816,  0.35636761,  0.86048163,  0.56756319,  0.42609689,\n",
       "        0.97323086,  0.91535135,  0.11249257,  0.59742875,  0.12169705,\n",
       "        0.32551365,  0.06554879,  0.68653903,  0.82599191,  0.38250254,\n",
       "        0.76183075,  0.59663523,  0.58233703,  0.07827506,  0.0997925 ,\n",
       "        0.25785051,  0.54964392,  0.0013339 ,  0.84116057,  0.50758652,\n",
       "        0.17793543,  0.16719163,  0.04886065,  0.18494517,  0.08167289,\n",
       "        0.26316478,  0.87104482,  0.56248412,  0.00392702,  0.47393189,\n",
       "        0.89598929,  0.10747629,  0.73613149,  0.95938086,  0.31408085,\n",
       "        0.87554568,  0.30023294,  0.81515343,  0.91328941,  0.80382886,\n",
       "        0.03216666,  0.77729569,  0.18493447,  0.41316491,  0.49643541,\n",
       "        0.50357465,  0.21269158,  0.93769554,  0.15876273,  0.63048032,\n",
       "        0.27541396,  0.26564419,  0.9367789 ,  0.74158615,  0.77970987])"
      ]
     },
     "execution_count": 25,
     "metadata": {},
     "output_type": "execute_result"
    }
   ],
   "source": [
    "w"
   ]
  },
  {
   "cell_type": "code",
   "execution_count": 35,
   "metadata": {
    "collapsed": true
   },
   "outputs": [],
   "source": [
    "from sklearn.linear_model import LinearRegression"
   ]
  },
  {
   "cell_type": "code",
   "execution_count": 38,
   "metadata": {
    "collapsed": false
   },
   "outputs": [
    {
     "data": {
      "text/plain": [
       "LinearRegression(copy_X=True, fit_intercept=True, n_jobs=1, normalize=False)"
      ]
     },
     "execution_count": 38,
     "metadata": {},
     "output_type": "execute_result"
    }
   ],
   "source": [
    "lr = LinearRegression()\n",
    "lr.fit(X, y)\n",
    "#y_predicted = lr.predict(X_test)"
   ]
  },
  {
   "cell_type": "code",
   "execution_count": 39,
   "metadata": {
    "collapsed": false
   },
   "outputs": [
    {
     "data": {
      "text/plain": [
       "array([  4.82141677e-01,   6.51462071e-01,   9.63698103e-01,\n",
       "         2.89147327e-01,   6.70594648e-01,   8.31598196e-02,\n",
       "         8.95714573e-01,   6.42040315e-01,   6.09499003e-02,\n",
       "         5.39603633e-01,   5.67933895e-01,   6.14885536e-01,\n",
       "         7.81593463e-01,   4.22676495e-01,   6.77511329e-01,\n",
       "         5.15108787e-01,   2.98651916e-01,   9.21738697e-01,\n",
       "         8.88400432e-01,   1.33227163e-01,   7.18335776e-01,\n",
       "         5.24731894e-01,   6.89172700e-01,   2.40653262e-01,\n",
       "         3.68042828e-01,   3.65840964e-01,   5.25229839e-01,\n",
       "         4.59487183e-01,   3.23906842e-01,   4.18160347e-01,\n",
       "         5.71789817e-01,   6.91197935e-01,   3.23538494e-01,\n",
       "         3.40200559e-01,   9.07237633e-01,   8.25578045e-01,\n",
       "         2.35792923e-01,   5.17701393e-01,   1.23788941e-01,\n",
       "         8.30023871e-01,   3.77045578e-01,   3.56914320e-01,\n",
       "         8.50008110e-01,   5.65391637e-01,   4.25439822e-01,\n",
       "         9.69514781e-01,   9.15849016e-01,   1.07069362e-01,\n",
       "         5.95485477e-01,   1.28848082e-01,   3.29534241e-01,\n",
       "         6.80166938e-02,   6.86494270e-01,   8.25720278e-01,\n",
       "         3.82323145e-01,   7.62449444e-01,   5.95280553e-01,\n",
       "         5.87939082e-01,   7.97217267e-02,   1.02246208e-01,\n",
       "         2.56564423e-01,   5.48427505e-01,  -2.88178351e-04,\n",
       "         8.40432453e-01,   5.10895022e-01,   1.79020029e-01,\n",
       "         1.63238494e-01,   4.83987025e-02,   1.81597935e-01,\n",
       "         7.51779698e-02,   2.62287572e-01,   8.64845804e-01,\n",
       "         5.61375156e-01,   1.70253961e-03,   4.74387833e-01,\n",
       "         9.01392125e-01,   1.04873988e-01,   7.34887311e-01,\n",
       "         9.59736289e-01,   3.19323143e-01,   8.75393349e-01,\n",
       "         2.97014900e-01,   8.20881933e-01,   9.11908912e-01,\n",
       "         8.01160654e-01,   2.72145637e-02,   7.75312256e-01,\n",
       "         1.88991431e-01,   4.08865551e-01,   4.99181797e-01,\n",
       "         5.09918392e-01,   2.12438923e-01,   9.35039251e-01,\n",
       "         1.56935189e-01,   6.34565439e-01,   2.69114064e-01,\n",
       "         2.61548681e-01,   9.31819030e-01,   7.45981279e-01,\n",
       "         7.79510890e-01])"
      ]
     },
     "execution_count": 39,
     "metadata": {},
     "output_type": "execute_result"
    }
   ],
   "source": [
    "lr.coef_"
   ]
  },
  {
   "cell_type": "code",
   "execution_count": 36,
   "metadata": {
    "collapsed": true
   },
   "outputs": [],
   "source": [
    "?LinearRegression"
   ]
  },
  {
   "cell_type": "code",
   "execution_count": null,
   "metadata": {
    "collapsed": true
   },
   "outputs": [],
   "source": []
  }
 ],
 "metadata": {
  "kernelspec": {
   "display_name": "Python 3",
   "language": "python",
   "name": "python3"
  },
  "language_info": {
   "codemirror_mode": {
    "name": "ipython",
    "version": 3
   },
   "file_extension": ".py",
   "mimetype": "text/x-python",
   "name": "python",
   "nbconvert_exporter": "python",
   "pygments_lexer": "ipython3",
   "version": "3.4.3"
  }
 },
 "nbformat": 4,
 "nbformat_minor": 1
}
